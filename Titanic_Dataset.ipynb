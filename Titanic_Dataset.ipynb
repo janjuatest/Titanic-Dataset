{
  "nbformat": 4,
  "nbformat_minor": 0,
  "metadata": {
    "kernelspec": {
      "display_name": "Python 3",
      "language": "python",
      "name": "python3"
    },
    "language_info": {
      "codemirror_mode": {
        "name": "ipython",
        "version": 3
      },
      "file_extension": ".py",
      "mimetype": "text/x-python",
      "name": "python",
      "nbconvert_exporter": "python",
      "pygments_lexer": "ipython3",
      "version": "3.7.4"
    },
    "colab": {
      "name": "Titanic_Dataset.ipynb",
      "provenance": [],
      "collapsed_sections": [],
      "include_colab_link": true
    }
  },
  "cells": [
    {
      "cell_type": "markdown",
      "metadata": {
        "id": "view-in-github",
        "colab_type": "text"
      },
      "source": [
        "<a href=\"https://colab.research.google.com/github/janjuatest/Titanic-Dataset/blob/main/Titanic_Dataset.ipynb\" target=\"_parent\"><img src=\"https://colab.research.google.com/assets/colab-badge.svg\" alt=\"Open In Colab\"/></a>"
      ]
    },
    {
      "cell_type": "markdown",
      "metadata": {
        "id": "E8oZoAOuVH85"
      },
      "source": [
        ""
      ]
    },
    {
      "cell_type": "markdown",
      "metadata": {
        "id": "ZfvlNjKnUl7t"
      },
      "source": [
        "Import the data manipulation/visualization libraries needed\r\n"
      ]
    },
    {
      "cell_type": "code",
      "metadata": {
        "id": "J3DFIR0uUILL"
      },
      "source": [
        "import pandas as pd\n",
        "import numpy as np\n",
        "import matplotlib.pyplot as plt\n",
        "import seaborn as sns\n",
        "%matplotlib inline"
      ],
      "execution_count": null,
      "outputs": []
    },
    {
      "cell_type": "code",
      "metadata": {
        "id": "ZEbltQYoVLUN"
      },
      "source": [
        ""
      ],
      "execution_count": null,
      "outputs": []
    },
    {
      "cell_type": "markdown",
      "metadata": {
        "id": "OiXIbBEkVNKl"
      },
      "source": [
        "Read the titanic dataset\r\n"
      ]
    },
    {
      "cell_type": "code",
      "metadata": {
        "id": "9sQ5xfl9UeVO"
      },
      "source": [
        "df=pd.read_csv('titanic_train.csv')"
      ],
      "execution_count": null,
      "outputs": []
    },
    {
      "cell_type": "markdown",
      "metadata": {
        "id": "fB34cr_aVZPJ"
      },
      "source": [
        "Check the dataframe information"
      ]
    },
    {
      "cell_type": "code",
      "metadata": {
        "colab": {
          "base_uri": "https://localhost:8080/"
        },
        "id": "kE_782DxUILW",
        "outputId": "becf9735-9540-4587-f93c-874d96c5a781"
      },
      "source": [
        "df.info()"
      ],
      "execution_count": null,
      "outputs": [
        {
          "output_type": "stream",
          "text": [
            "<class 'pandas.core.frame.DataFrame'>\n",
            "RangeIndex: 891 entries, 0 to 890\n",
            "Data columns (total 12 columns):\n",
            " #   Column       Non-Null Count  Dtype  \n",
            "---  ------       --------------  -----  \n",
            " 0   PassengerId  891 non-null    int64  \n",
            " 1   Survived     891 non-null    int64  \n",
            " 2   Pclass       891 non-null    int64  \n",
            " 3   Name         891 non-null    object \n",
            " 4   Sex          891 non-null    object \n",
            " 5   Age          714 non-null    float64\n",
            " 6   SibSp        891 non-null    int64  \n",
            " 7   Parch        891 non-null    int64  \n",
            " 8   Ticket       891 non-null    object \n",
            " 9   Fare         891 non-null    float64\n",
            " 10  Cabin        204 non-null    object \n",
            " 11  Embarked     889 non-null    object \n",
            "dtypes: float64(2), int64(5), object(5)\n",
            "memory usage: 83.7+ KB\n"
          ],
          "name": "stdout"
        }
      ]
    },
    {
      "cell_type": "code",
      "metadata": {
        "colab": {
          "base_uri": "https://localhost:8080/",
          "height": 255
        },
        "id": "wbIznK1TUILX",
        "outputId": "9a965913-15a4-42c0-d01f-f815fbf36443"
      },
      "source": [
        "df.head()"
      ],
      "execution_count": null,
      "outputs": [
        {
          "output_type": "execute_result",
          "data": {
            "text/html": [
              "<div>\n",
              "<style scoped>\n",
              "    .dataframe tbody tr th:only-of-type {\n",
              "        vertical-align: middle;\n",
              "    }\n",
              "\n",
              "    .dataframe tbody tr th {\n",
              "        vertical-align: top;\n",
              "    }\n",
              "\n",
              "    .dataframe thead th {\n",
              "        text-align: right;\n",
              "    }\n",
              "</style>\n",
              "<table border=\"1\" class=\"dataframe\">\n",
              "  <thead>\n",
              "    <tr style=\"text-align: right;\">\n",
              "      <th></th>\n",
              "      <th>PassengerId</th>\n",
              "      <th>Survived</th>\n",
              "      <th>Pclass</th>\n",
              "      <th>Name</th>\n",
              "      <th>Sex</th>\n",
              "      <th>Age</th>\n",
              "      <th>SibSp</th>\n",
              "      <th>Parch</th>\n",
              "      <th>Ticket</th>\n",
              "      <th>Fare</th>\n",
              "      <th>Cabin</th>\n",
              "      <th>Embarked</th>\n",
              "    </tr>\n",
              "  </thead>\n",
              "  <tbody>\n",
              "    <tr>\n",
              "      <th>0</th>\n",
              "      <td>1</td>\n",
              "      <td>0</td>\n",
              "      <td>3</td>\n",
              "      <td>Braund, Mr. Owen Harris</td>\n",
              "      <td>male</td>\n",
              "      <td>22.0</td>\n",
              "      <td>1</td>\n",
              "      <td>0</td>\n",
              "      <td>A/5 21171</td>\n",
              "      <td>7.2500</td>\n",
              "      <td>NaN</td>\n",
              "      <td>S</td>\n",
              "    </tr>\n",
              "    <tr>\n",
              "      <th>1</th>\n",
              "      <td>2</td>\n",
              "      <td>1</td>\n",
              "      <td>1</td>\n",
              "      <td>Cumings, Mrs. John Bradley (Florence Briggs Th...</td>\n",
              "      <td>female</td>\n",
              "      <td>38.0</td>\n",
              "      <td>1</td>\n",
              "      <td>0</td>\n",
              "      <td>PC 17599</td>\n",
              "      <td>71.2833</td>\n",
              "      <td>C85</td>\n",
              "      <td>C</td>\n",
              "    </tr>\n",
              "    <tr>\n",
              "      <th>2</th>\n",
              "      <td>3</td>\n",
              "      <td>1</td>\n",
              "      <td>3</td>\n",
              "      <td>Heikkinen, Miss. Laina</td>\n",
              "      <td>female</td>\n",
              "      <td>26.0</td>\n",
              "      <td>0</td>\n",
              "      <td>0</td>\n",
              "      <td>STON/O2. 3101282</td>\n",
              "      <td>7.9250</td>\n",
              "      <td>NaN</td>\n",
              "      <td>S</td>\n",
              "    </tr>\n",
              "    <tr>\n",
              "      <th>3</th>\n",
              "      <td>4</td>\n",
              "      <td>1</td>\n",
              "      <td>1</td>\n",
              "      <td>Futrelle, Mrs. Jacques Heath (Lily May Peel)</td>\n",
              "      <td>female</td>\n",
              "      <td>35.0</td>\n",
              "      <td>1</td>\n",
              "      <td>0</td>\n",
              "      <td>113803</td>\n",
              "      <td>53.1000</td>\n",
              "      <td>C123</td>\n",
              "      <td>S</td>\n",
              "    </tr>\n",
              "    <tr>\n",
              "      <th>4</th>\n",
              "      <td>5</td>\n",
              "      <td>0</td>\n",
              "      <td>3</td>\n",
              "      <td>Allen, Mr. William Henry</td>\n",
              "      <td>male</td>\n",
              "      <td>35.0</td>\n",
              "      <td>0</td>\n",
              "      <td>0</td>\n",
              "      <td>373450</td>\n",
              "      <td>8.0500</td>\n",
              "      <td>NaN</td>\n",
              "      <td>S</td>\n",
              "    </tr>\n",
              "  </tbody>\n",
              "</table>\n",
              "</div>"
            ],
            "text/plain": [
              "   PassengerId  Survived  Pclass  ...     Fare Cabin  Embarked\n",
              "0            1         0       3  ...   7.2500   NaN         S\n",
              "1            2         1       1  ...  71.2833   C85         C\n",
              "2            3         1       3  ...   7.9250   NaN         S\n",
              "3            4         1       1  ...  53.1000  C123         S\n",
              "4            5         0       3  ...   8.0500   NaN         S\n",
              "\n",
              "[5 rows x 12 columns]"
            ]
          },
          "metadata": {
            "tags": []
          },
          "execution_count": 8
        }
      ]
    },
    {
      "cell_type": "markdown",
      "metadata": {
        "id": "26edQDecVmQD"
      },
      "source": [
        "Check data frame for missing elements N/A values"
      ]
    },
    {
      "cell_type": "code",
      "metadata": {
        "colab": {
          "base_uri": "https://localhost:8080/",
          "height": 333
        },
        "id": "g1NhQ9Q1UILY",
        "outputId": "cb353181-478e-4115-9cbc-17aa78ac46e7"
      },
      "source": [
        "sns.heatmap(df.isnull(),yticklabels=False,cbar=False, cmap='viridis')"
      ],
      "execution_count": null,
      "outputs": [
        {
          "output_type": "execute_result",
          "data": {
            "text/plain": [
              "<matplotlib.axes._subplots.AxesSubplot at 0x7f38eba32d68>"
            ]
          },
          "metadata": {
            "tags": []
          },
          "execution_count": 10
        },
        {
          "output_type": "display_data",
          "data": {
            "image/png": "[encoded data removed]",
            "text/plain": [
              "<Figure size 432x288 with 1 Axes>"
            ]
          },
          "metadata": {
            "tags": [],
            "needs_background": "light"
          }
        }
      ]
    },
    {
      "cell_type": "markdown",
      "metadata": {
        "id": "ceaQ95cvV6em"
      },
      "source": [
        "As can be seen above Cabin column has a lot of missing data. We can count the exact elements missing as follows"
      ]
    },
    {
      "cell_type": "code",
      "metadata": {
        "colab": {
          "base_uri": "https://localhost:8080/"
        },
        "id": "70DHW1LLUILZ",
        "outputId": "6edf6e58-96a3-497f-c0e9-aa65cb2c1964"
      },
      "source": [
        "df.isnull().sum()"
      ],
      "execution_count": null,
      "outputs": [
        {
          "output_type": "execute_result",
          "data": {
            "text/plain": [
              "PassengerId      0\n",
              "Survived         0\n",
              "Pclass           0\n",
              "Name             0\n",
              "Sex              0\n",
              "Age            177\n",
              "SibSp            0\n",
              "Parch            0\n",
              "Ticket           0\n",
              "Fare             0\n",
              "Cabin          687\n",
              "Embarked         2\n",
              "dtype: int64"
            ]
          },
          "metadata": {
            "tags": []
          },
          "execution_count": 12
        }
      ]
    },
    {
      "cell_type": "markdown",
      "metadata": {
        "id": "6fKEWn0lWMJJ"
      },
      "source": [
        "We can drop the Cabin columns since its mostly empty"
      ]
    },
    {
      "cell_type": "code",
      "metadata": {
        "id": "_khyEP37UILZ"
      },
      "source": [
        "df.drop('Cabin',axis=1,inplace=True)"
      ],
      "execution_count": null,
      "outputs": []
    },
    {
      "cell_type": "code",
      "metadata": {
        "colab": {
          "base_uri": "https://localhost:8080/"
        },
        "id": "twQXt2xmWVZg",
        "outputId": "c83ab584-f333-4f91-dc07-d05057d745d1"
      },
      "source": [
        "df.isnull().sum()"
      ],
      "execution_count": null,
      "outputs": [
        {
          "output_type": "execute_result",
          "data": {
            "text/plain": [
              "PassengerId      0\n",
              "Survived         0\n",
              "Pclass           0\n",
              "Name             0\n",
              "Sex              0\n",
              "Age            177\n",
              "SibSp            0\n",
              "Parch            0\n",
              "Ticket           0\n",
              "Fare             0\n",
              "Embarked         2\n",
              "dtype: int64"
            ]
          },
          "metadata": {
            "tags": []
          },
          "execution_count": 48
        }
      ]
    },
    {
      "cell_type": "markdown",
      "metadata": {
        "id": "21pA9R5TWjdO"
      },
      "source": [
        "Lets look at the target column i.e. 'Survived'. This is what we are trying to predict"
      ]
    },
    {
      "cell_type": "code",
      "metadata": {
        "colab": {
          "base_uri": "https://localhost:8080/",
          "height": 296
        },
        "id": "YdM1Mg-AWsoK",
        "outputId": "819060e2-ca0e-478d-e8a1-0e5c38c60a83"
      },
      "source": [
        "sns.countplot(data=df,x='Survived')"
      ],
      "execution_count": null,
      "outputs": [
        {
          "output_type": "execute_result",
          "data": {
            "text/plain": [
              "<matplotlib.axes._subplots.AxesSubplot at 0x7f38e8a37f98>"
            ]
          },
          "metadata": {
            "tags": []
          },
          "execution_count": 15
        },
        {
          "output_type": "display_data",
          "data": {
            "image/png": "[encoded data removed]",
            "text/plain": [
              "<Figure size 432x288 with 1 Axes>"
            ]
          },
          "metadata": {
            "tags": [],
            "needs_background": "light"
          }
        }
      ]
    },
    {
      "cell_type": "markdown",
      "metadata": {
        "id": "ia7UhIheW7gU"
      },
      "source": [
        "Data is unbalanced but usable"
      ]
    },
    {
      "cell_type": "markdown",
      "metadata": {
        "id": "9Ppddad7XFxw"
      },
      "source": [
        "Lets do some more EDA"
      ]
    },
    {
      "cell_type": "code",
      "metadata": {
        "colab": {
          "base_uri": "https://localhost:8080/",
          "height": 296
        },
        "id": "761j0e_9WiIh",
        "outputId": "bce2e555-3f7e-4c33-f6f8-226ee45ca55b"
      },
      "source": [
        "sns.countplot(x='Sex',data=df,hue='Survived')"
      ],
      "execution_count": null,
      "outputs": [
        {
          "output_type": "execute_result",
          "data": {
            "text/plain": [
              "<matplotlib.axes._subplots.AxesSubplot at 0x7f38e0ceb978>"
            ]
          },
          "metadata": {
            "tags": []
          },
          "execution_count": 16
        },
        {
          "output_type": "display_data",
          "data": {
            "image/png": "[encoded data removed]",
            "text/plain": [
              "<Figure size 432x288 with 1 Axes>"
            ]
          },
          "metadata": {
            "tags": [],
            "needs_background": "light"
          }
        }
      ]
    },
    {
      "cell_type": "markdown",
      "metadata": {
        "id": "b2DT0KCYXL-o"
      },
      "source": [
        "As can be seen above there is clearly a higher survival rate for female passengers\r\n"
      ]
    },
    {
      "cell_type": "code",
      "metadata": {
        "colab": {
          "base_uri": "https://localhost:8080/",
          "height": 296
        },
        "id": "UPf_AfwxUILa",
        "outputId": "ad8d66fe-5938-4390-c4d7-3d3e98249001"
      },
      "source": [
        "sns.countplot(x='Pclass',data=df,hue='Survived')"
      ],
      "execution_count": null,
      "outputs": [
        {
          "output_type": "execute_result",
          "data": {
            "text/plain": [
              "<matplotlib.axes._subplots.AxesSubplot at 0x7f38e0a85e48>"
            ]
          },
          "metadata": {
            "tags": []
          },
          "execution_count": 17
        },
        {
          "output_type": "display_data",
          "data": {
            "image/png": "[encoded data removed]",
            "text/plain": [
              "<Figure size 432x288 with 1 Axes>"
            ]
          },
          "metadata": {
            "tags": [],
            "needs_background": "light"
          }
        }
      ]
    },
    {
      "cell_type": "markdown",
      "metadata": {
        "id": "lgSgPUPNXWx6"
      },
      "source": [
        "As can be seen above there is a lower survival rate for passengers from Class 3. These are important columns for machine learning algorithm"
      ]
    },
    {
      "cell_type": "code",
      "metadata": {
        "colab": {
          "base_uri": "https://localhost:8080/",
          "height": 296
        },
        "id": "LI6T23YnUILa",
        "outputId": "92dfb591-c12e-4b97-fb56-eca32aabb77b"
      },
      "source": [
        "sns.histplot(df[df['Survived']==1]['Age'],bins=30,color='green',kde=True)\r\n",
        "sns.histplot(df[df['Survived']==0]['Age'],bins=30,color='red',kde=True)"
      ],
      "execution_count": null,
      "outputs": [
        {
          "output_type": "execute_result",
          "data": {
            "text/plain": [
              "<matplotlib.axes._subplots.AxesSubplot at 0x7f38e074f3c8>"
            ]
          },
          "metadata": {
            "tags": []
          },
          "execution_count": 26
        },
        {
          "output_type": "display_data",
          "data": {
            "image/png": "[encoded data removed]",
            "text/plain": [
              "<Figure size 432x288 with 1 Axes>"
            ]
          },
          "metadata": {
            "tags": [],
            "needs_background": "light"
          }
        }
      ]
    },
    {
      "cell_type": "markdown",
      "metadata": {
        "id": "MnDiIiUZbMlZ"
      },
      "source": [
        "As can be seen above, age also has an impact. Notice the double bump for infants in passengers survived"
      ]
    },
    {
      "cell_type": "code",
      "metadata": {
        "colab": {
          "base_uri": "https://localhost:8080/",
          "height": 296
        },
        "id": "tw9X9mg6UILb",
        "outputId": "074a4f0c-a554-432f-dfe4-080fe4cfdf71"
      },
      "source": [
        "sns.histplot(df[df['Survived']==1]['Fare'],bins=30,color='green',kde=True)\r\n",
        "sns.histplot(df[df['Survived']==0]['Fare'],bins=30,color='red',kde=True)"
      ],
      "execution_count": null,
      "outputs": [
        {
          "output_type": "execute_result",
          "data": {
            "text/plain": [
              "<matplotlib.axes._subplots.AxesSubplot at 0x7f38e059bbe0>"
            ]
          },
          "metadata": {
            "tags": []
          },
          "execution_count": 27
        },
        {
          "output_type": "display_data",
          "data": {
            "image/png": "[encoded data removed]",
            "text/plain": [
              "<Figure size 432x288 with 1 Axes>"
            ]
          },
          "metadata": {
            "tags": [],
            "needs_background": "light"
          }
        }
      ]
    },
    {
      "cell_type": "markdown",
      "metadata": {
        "id": "OVb8ejmLbiOV"
      },
      "source": [
        "Not much effect of Fares on Survival"
      ]
    },
    {
      "cell_type": "code",
      "metadata": {
        "colab": {
          "base_uri": "https://localhost:8080/",
          "height": 337
        },
        "id": "SCKc1aSXUILd",
        "outputId": "924ee428-242c-4704-fa4d-d57bc831d485"
      },
      "source": [
        "sns.heatmap(df.isnull())"
      ],
      "execution_count": null,
      "outputs": [
        {
          "output_type": "execute_result",
          "data": {
            "text/plain": [
              "<matplotlib.axes._subplots.AxesSubplot at 0x7f38df657e10>"
            ]
          },
          "metadata": {
            "tags": []
          },
          "execution_count": 28
        },
        {
          "output_type": "display_data",
          "data": {
            "image/png": "[encoded data removed]",
            "text/plain": [
              "<Figure size 432x288 with 2 Axes>"
            ]
          },
          "metadata": {
            "tags": [],
            "needs_background": "light"
          }
        }
      ]
    },
    {
      "cell_type": "markdown",
      "metadata": {
        "id": "BERKTQLbbuWh"
      },
      "source": [
        "Age column has some missing data"
      ]
    },
    {
      "cell_type": "code",
      "metadata": {
        "colab": {
          "base_uri": "https://localhost:8080/"
        },
        "id": "IeJzUaONUILd",
        "outputId": "458f7836-4a76-4b16-b02e-e8871abe4c28"
      },
      "source": [
        "print(df[df['Pclass']==1]['Age'].mean())\r\n",
        "print(df[df['Pclass']==2]['Age'].mean())\r\n",
        "print(df[df['Pclass']==3]['Age'].mean())"
      ],
      "execution_count": null,
      "outputs": [
        {
          "output_type": "stream",
          "text": [
            "38.233440860215055\n",
            "29.87763005780347\n",
            "25.14061971830986\n"
          ],
          "name": "stdout"
        }
      ]
    },
    {
      "cell_type": "code",
      "metadata": {
        "colab": {
          "base_uri": "https://localhost:8080/",
          "height": 296
        },
        "id": "k9YO_FQJUILe",
        "outputId": "16edb4d7-3f90-4f36-b750-db859d55fe4f"
      },
      "source": [
        "sns.boxplot(x='Pclass',y='Age',data=df)"
      ],
      "execution_count": null,
      "outputs": [
        {
          "output_type": "execute_result",
          "data": {
            "text/plain": [
              "<matplotlib.axes._subplots.AxesSubplot at 0x7f38df5b19e8>"
            ]
          },
          "metadata": {
            "tags": []
          },
          "execution_count": 30
        },
        {
          "output_type": "display_data",
          "data": {
            "image/png": "[encoded data removed]",
            "text/plain": [
              "<Figure size 432x288 with 1 Axes>"
            ]
          },
          "metadata": {
            "tags": [],
            "needs_background": "light"
          }
        }
      ]
    },
    {
      "cell_type": "markdown",
      "metadata": {
        "id": "RHb2AxMDb3Lk"
      },
      "source": [
        "Age and Passenger Class has some correlation"
      ]
    },
    {
      "cell_type": "markdown",
      "metadata": {
        "id": "TlcWi5tjb-aF"
      },
      "source": [
        "Lets fill the Nulls in Age column with average values for each passenger class"
      ]
    },
    {
      "cell_type": "code",
      "metadata": {
        "id": "-_bs6sfPUILe"
      },
      "source": [
        "cd=df[['Age','Pclass']]"
      ],
      "execution_count": null,
      "outputs": []
    },
    {
      "cell_type": "code",
      "metadata": {
        "colab": {
          "base_uri": "https://localhost:8080/",
          "height": 419
        },
        "id": "3oZOMC3rUILf",
        "outputId": "170ad105-2550-4dc0-bbf6-d5460abaa4d3"
      },
      "source": [
        "cd"
      ],
      "execution_count": null,
      "outputs": [
        {
          "output_type": "execute_result",
          "data": {
            "text/html": [
              "<div>\n",
              "<style scoped>\n",
              "    .dataframe tbody tr th:only-of-type {\n",
              "        vertical-align: middle;\n",
              "    }\n",
              "\n",
              "    .dataframe tbody tr th {\n",
              "        vertical-align: top;\n",
              "    }\n",
              "\n",
              "    .dataframe thead th {\n",
              "        text-align: right;\n",
              "    }\n",
              "</style>\n",
              "<table border=\"1\" class=\"dataframe\">\n",
              "  <thead>\n",
              "    <tr style=\"text-align: right;\">\n",
              "      <th></th>\n",
              "      <th>Age</th>\n",
              "      <th>Pclass</th>\n",
              "    </tr>\n",
              "  </thead>\n",
              "  <tbody>\n",
              "    <tr>\n",
              "      <th>0</th>\n",
              "      <td>22.0</td>\n",
              "      <td>3</td>\n",
              "    </tr>\n",
              "    <tr>\n",
              "      <th>1</th>\n",
              "      <td>38.0</td>\n",
              "      <td>1</td>\n",
              "    </tr>\n",
              "    <tr>\n",
              "      <th>2</th>\n",
              "      <td>26.0</td>\n",
              "      <td>3</td>\n",
              "    </tr>\n",
              "    <tr>\n",
              "      <th>3</th>\n",
              "      <td>35.0</td>\n",
              "      <td>1</td>\n",
              "    </tr>\n",
              "    <tr>\n",
              "      <th>4</th>\n",
              "      <td>35.0</td>\n",
              "      <td>3</td>\n",
              "    </tr>\n",
              "    <tr>\n",
              "      <th>...</th>\n",
              "      <td>...</td>\n",
              "      <td>...</td>\n",
              "    </tr>\n",
              "    <tr>\n",
              "      <th>886</th>\n",
              "      <td>27.0</td>\n",
              "      <td>2</td>\n",
              "    </tr>\n",
              "    <tr>\n",
              "      <th>887</th>\n",
              "      <td>19.0</td>\n",
              "      <td>1</td>\n",
              "    </tr>\n",
              "    <tr>\n",
              "      <th>888</th>\n",
              "      <td>NaN</td>\n",
              "      <td>3</td>\n",
              "    </tr>\n",
              "    <tr>\n",
              "      <th>889</th>\n",
              "      <td>26.0</td>\n",
              "      <td>1</td>\n",
              "    </tr>\n",
              "    <tr>\n",
              "      <th>890</th>\n",
              "      <td>32.0</td>\n",
              "      <td>3</td>\n",
              "    </tr>\n",
              "  </tbody>\n",
              "</table>\n",
              "<p>891 rows × 2 columns</p>\n",
              "</div>"
            ],
            "text/plain": [
              "      Age  Pclass\n",
              "0    22.0       3\n",
              "1    38.0       1\n",
              "2    26.0       3\n",
              "3    35.0       1\n",
              "4    35.0       3\n",
              "..    ...     ...\n",
              "886  27.0       2\n",
              "887  19.0       1\n",
              "888   NaN       3\n",
              "889  26.0       1\n",
              "890  32.0       3\n",
              "\n",
              "[891 rows x 2 columns]"
            ]
          },
          "metadata": {
            "tags": []
          },
          "execution_count": 32
        }
      ]
    },
    {
      "cell_type": "markdown",
      "metadata": {
        "id": "EhFQ_ePfeNPz"
      },
      "source": [
        "Function to replace NaN values in Age column with average age of Passegnger Class"
      ]
    },
    {
      "cell_type": "code",
      "metadata": {
        "id": "kCt6OWNdUILf"
      },
      "source": [
        "def fillage(pair):\n",
        "    Age=pair[0]\n",
        "    Class=pair[1]\n",
        "    \n",
        "    if pd.isnull(Age):\n",
        "        if Class==1:\n",
        "            return 38\n",
        "        elif Class==2:\n",
        "            return 30\n",
        "        else:\n",
        "            return 25\n",
        "    else:\n",
        "        return Age"
      ],
      "execution_count": null,
      "outputs": []
    },
    {
      "cell_type": "markdown",
      "metadata": {
        "id": "Au0VKLUQe4N9"
      },
      "source": [
        "Replace Nan with mean age"
      ]
    },
    {
      "cell_type": "code",
      "metadata": {
        "id": "VXVZoQL9UILf"
      },
      "source": [
        "df['Age']=df[['Age','Pclass']].apply(fillage,axis=1)"
      ],
      "execution_count": null,
      "outputs": []
    },
    {
      "cell_type": "code",
      "metadata": {
        "colab": {
          "base_uri": "https://localhost:8080/",
          "height": 337
        },
        "id": "RVmh8bpVUILg",
        "outputId": "57eb9082-76cd-4ccb-fd2b-501b96c5516f"
      },
      "source": [
        "sns.heatmap(df.isnull())"
      ],
      "execution_count": null,
      "outputs": [
        {
          "output_type": "execute_result",
          "data": {
            "text/plain": [
              "<matplotlib.axes._subplots.AxesSubplot at 0x7f38df3aad68>"
            ]
          },
          "metadata": {
            "tags": []
          },
          "execution_count": 53
        },
        {
          "output_type": "display_data",
          "data": {
            "image/png": "[encoded data removed]",
            "text/plain": [
              "<Figure size 432x288 with 2 Axes>"
            ]
          },
          "metadata": {
            "tags": [],
            "needs_background": "light"
          }
        }
      ]
    },
    {
      "cell_type": "code",
      "metadata": {
        "colab": {
          "base_uri": "https://localhost:8080/"
        },
        "id": "fizRk_laUILg",
        "outputId": "21f7f980-5b50-4b60-8182-81623d48c7aa"
      },
      "source": [
        "df.isnull().sum()"
      ],
      "execution_count": null,
      "outputs": [
        {
          "output_type": "execute_result",
          "data": {
            "text/plain": [
              "PassengerId    0\n",
              "Survived       0\n",
              "Pclass         0\n",
              "Name           0\n",
              "Sex            0\n",
              "Age            0\n",
              "SibSp          0\n",
              "Parch          0\n",
              "Ticket         0\n",
              "Fare           0\n",
              "Embarked       2\n",
              "dtype: int64"
            ]
          },
          "metadata": {
            "tags": []
          },
          "execution_count": 40
        }
      ]
    },
    {
      "cell_type": "code",
      "metadata": {
        "id": "YUGEczAAUILg"
      },
      "source": [
        "df.dropna(inplace=True)"
      ],
      "execution_count": null,
      "outputs": []
    },
    {
      "cell_type": "code",
      "metadata": {
        "colab": {
          "base_uri": "https://localhost:8080/"
        },
        "id": "7RzD8oTBUILh",
        "outputId": "764014f2-82c1-44da-ecb2-2bb316dec260"
      },
      "source": [
        "df.isnull().sum()"
      ],
      "execution_count": null,
      "outputs": [
        {
          "output_type": "execute_result",
          "data": {
            "text/plain": [
              "PassengerId    0\n",
              "Survived       0\n",
              "Pclass         0\n",
              "Name           0\n",
              "Sex            0\n",
              "Age            0\n",
              "SibSp          0\n",
              "Parch          0\n",
              "Ticket         0\n",
              "Fare           0\n",
              "Embarked       0\n",
              "dtype: int64"
            ]
          },
          "metadata": {
            "tags": []
          },
          "execution_count": 55
        }
      ]
    },
    {
      "cell_type": "markdown",
      "metadata": {
        "id": "rFOpH4BAfSVm"
      },
      "source": [
        "All nulls have been replaced or dropped now"
      ]
    },
    {
      "cell_type": "markdown",
      "metadata": {
        "id": "Ory39NbNfaWQ"
      },
      "source": [
        "Now lets look at the the columns"
      ]
    },
    {
      "cell_type": "markdown",
      "metadata": {
        "id": "-4kUSTVZfjt2"
      },
      "source": [
        "Lets convert sex column into boolean"
      ]
    },
    {
      "cell_type": "code",
      "metadata": {
        "id": "K4PpInpYUILi"
      },
      "source": [
        "df=pd.get_dummies(df,columns=['Sex'],drop_first=True)"
      ],
      "execution_count": null,
      "outputs": []
    },
    {
      "cell_type": "code",
      "metadata": {
        "colab": {
          "base_uri": "https://localhost:8080/"
        },
        "id": "0l_pVifrf8JN",
        "outputId": "7185f768-4b35-4da2-838b-3425b1666c27"
      },
      "source": [
        "df.columns"
      ],
      "execution_count": null,
      "outputs": [
        {
          "output_type": "execute_result",
          "data": {
            "text/plain": [
              "Index(['PassengerId', 'Survived', 'Pclass', 'Name', 'Age', 'SibSp', 'Parch',\n",
              "       'Ticket', 'Fare', 'Embarked', 'Sex_male'],\n",
              "      dtype='object')"
            ]
          },
          "metadata": {
            "tags": []
          },
          "execution_count": 58
        }
      ]
    },
    {
      "cell_type": "markdown",
      "metadata": {
        "id": "LYVpep1CglOJ"
      },
      "source": [
        "Sex column has now been converted into a Boolean"
      ]
    },
    {
      "cell_type": "code",
      "metadata": {
        "colab": {
          "base_uri": "https://localhost:8080/"
        },
        "id": "C64bRD4ygrWK",
        "outputId": "15c6fa18-89c4-415f-f12f-ad0a9d79008e"
      },
      "source": [
        "df['Embarked'].value_counts()"
      ],
      "execution_count": null,
      "outputs": [
        {
          "output_type": "execute_result",
          "data": {
            "text/plain": [
              "S    644\n",
              "C    168\n",
              "Q     77\n",
              "Name: Embarked, dtype: int64"
            ]
          },
          "metadata": {
            "tags": []
          },
          "execution_count": 59
        }
      ]
    },
    {
      "cell_type": "markdown",
      "metadata": {
        "id": "Y8XE_Bsog0qg"
      },
      "source": [
        "Lets now look at the Embarked column. It has three different values. Lets also convert them into boolean columns"
      ]
    },
    {
      "cell_type": "code",
      "metadata": {
        "id": "3rCcoIwhUILi"
      },
      "source": [
        "df=pd.get_dummies(df,columns=['Embarked'],drop_first=True)"
      ],
      "execution_count": null,
      "outputs": []
    },
    {
      "cell_type": "code",
      "metadata": {
        "colab": {
          "base_uri": "https://localhost:8080/"
        },
        "id": "k4Lx5E8PUILi",
        "outputId": "66b33ea3-902e-484f-b593-08305e887445"
      },
      "source": [
        "df.columns"
      ],
      "execution_count": null,
      "outputs": [
        {
          "output_type": "execute_result",
          "data": {
            "text/plain": [
              "Index(['PassengerId', 'Survived', 'Pclass', 'Name', 'Age', 'SibSp', 'Parch',\n",
              "       'Ticket', 'Fare', 'Sex_male', 'Embarked_Q', 'Embarked_S'],\n",
              "      dtype='object')"
            ]
          },
          "metadata": {
            "tags": []
          },
          "execution_count": 61
        }
      ]
    },
    {
      "cell_type": "code",
      "metadata": {
        "colab": {
          "base_uri": "https://localhost:8080/"
        },
        "id": "JvO3fXh3UILj",
        "outputId": "dbc066b0-67cc-457d-ea93-4a0284bbe0e7"
      },
      "source": [
        "df['Ticket'].value_counts()"
      ],
      "execution_count": null,
      "outputs": [
        {
          "output_type": "execute_result",
          "data": {
            "text/plain": [
              "347082      7\n",
              "CA. 2343    7\n",
              "1601        7\n",
              "347088      6\n",
              "CA 2144     6\n",
              "           ..\n",
              "349247      1\n",
              "350046      1\n",
              "244373      1\n",
              "113794      1\n",
              "3101298     1\n",
              "Name: Ticket, Length: 680, dtype: int64"
            ]
          },
          "metadata": {
            "tags": []
          },
          "execution_count": 62
        }
      ]
    },
    {
      "cell_type": "markdown",
      "metadata": {
        "id": "zRexjjNThNZ2"
      },
      "source": [
        "The Ticket and Name columns dont have any important categories so can be dropped"
      ]
    },
    {
      "cell_type": "code",
      "metadata": {
        "id": "weP-JhESUILj"
      },
      "source": [
        "df.drop(['Ticket','Name'],axis=1,inplace=True)"
      ],
      "execution_count": null,
      "outputs": []
    },
    {
      "cell_type": "code",
      "metadata": {
        "colab": {
          "base_uri": "https://localhost:8080/",
          "height": 204
        },
        "id": "gFizoWagUILj",
        "outputId": "c715cd88-a862-45d1-c317-7d46566f0162"
      },
      "source": [
        "df.head()"
      ],
      "execution_count": null,
      "outputs": [
        {
          "output_type": "execute_result",
          "data": {
            "text/html": [
              "<div>\n",
              "<style scoped>\n",
              "    .dataframe tbody tr th:only-of-type {\n",
              "        vertical-align: middle;\n",
              "    }\n",
              "\n",
              "    .dataframe tbody tr th {\n",
              "        vertical-align: top;\n",
              "    }\n",
              "\n",
              "    .dataframe thead th {\n",
              "        text-align: right;\n",
              "    }\n",
              "</style>\n",
              "<table border=\"1\" class=\"dataframe\">\n",
              "  <thead>\n",
              "    <tr style=\"text-align: right;\">\n",
              "      <th></th>\n",
              "      <th>PassengerId</th>\n",
              "      <th>Survived</th>\n",
              "      <th>Pclass</th>\n",
              "      <th>Age</th>\n",
              "      <th>SibSp</th>\n",
              "      <th>Parch</th>\n",
              "      <th>Fare</th>\n",
              "      <th>Sex_male</th>\n",
              "      <th>Embarked_Q</th>\n",
              "      <th>Embarked_S</th>\n",
              "    </tr>\n",
              "  </thead>\n",
              "  <tbody>\n",
              "    <tr>\n",
              "      <th>0</th>\n",
              "      <td>1</td>\n",
              "      <td>0</td>\n",
              "      <td>3</td>\n",
              "      <td>22.0</td>\n",
              "      <td>1</td>\n",
              "      <td>0</td>\n",
              "      <td>7.2500</td>\n",
              "      <td>1</td>\n",
              "      <td>0</td>\n",
              "      <td>1</td>\n",
              "    </tr>\n",
              "    <tr>\n",
              "      <th>1</th>\n",
              "      <td>2</td>\n",
              "      <td>1</td>\n",
              "      <td>1</td>\n",
              "      <td>38.0</td>\n",
              "      <td>1</td>\n",
              "      <td>0</td>\n",
              "      <td>71.2833</td>\n",
              "      <td>0</td>\n",
              "      <td>0</td>\n",
              "      <td>0</td>\n",
              "    </tr>\n",
              "    <tr>\n",
              "      <th>2</th>\n",
              "      <td>3</td>\n",
              "      <td>1</td>\n",
              "      <td>3</td>\n",
              "      <td>26.0</td>\n",
              "      <td>0</td>\n",
              "      <td>0</td>\n",
              "      <td>7.9250</td>\n",
              "      <td>0</td>\n",
              "      <td>0</td>\n",
              "      <td>1</td>\n",
              "    </tr>\n",
              "    <tr>\n",
              "      <th>3</th>\n",
              "      <td>4</td>\n",
              "      <td>1</td>\n",
              "      <td>1</td>\n",
              "      <td>35.0</td>\n",
              "      <td>1</td>\n",
              "      <td>0</td>\n",
              "      <td>53.1000</td>\n",
              "      <td>0</td>\n",
              "      <td>0</td>\n",
              "      <td>1</td>\n",
              "    </tr>\n",
              "    <tr>\n",
              "      <th>4</th>\n",
              "      <td>5</td>\n",
              "      <td>0</td>\n",
              "      <td>3</td>\n",
              "      <td>35.0</td>\n",
              "      <td>0</td>\n",
              "      <td>0</td>\n",
              "      <td>8.0500</td>\n",
              "      <td>1</td>\n",
              "      <td>0</td>\n",
              "      <td>1</td>\n",
              "    </tr>\n",
              "  </tbody>\n",
              "</table>\n",
              "</div>"
            ],
            "text/plain": [
              "   PassengerId  Survived  Pclass  ...  Sex_male  Embarked_Q  Embarked_S\n",
              "0            1         0       3  ...         1           0           1\n",
              "1            2         1       1  ...         0           0           0\n",
              "2            3         1       3  ...         0           0           1\n",
              "3            4         1       1  ...         0           0           1\n",
              "4            5         0       3  ...         1           0           1\n",
              "\n",
              "[5 rows x 10 columns]"
            ]
          },
          "metadata": {
            "tags": []
          },
          "execution_count": 64
        }
      ]
    },
    {
      "cell_type": "code",
      "metadata": {
        "id": "TgOVzt56UILk"
      },
      "source": [
        "df.drop('PassengerId',axis=1,inplace=True)"
      ],
      "execution_count": null,
      "outputs": []
    },
    {
      "cell_type": "markdown",
      "metadata": {
        "id": "qQ0C4Bjphaae"
      },
      "source": [
        "Passenger Id is also just an index"
      ]
    },
    {
      "cell_type": "code",
      "metadata": {
        "colab": {
          "base_uri": "https://localhost:8080/"
        },
        "id": "RFU9K2lQUILk",
        "outputId": "f5b012bb-229c-4cca-f7ff-fe46b69749e5"
      },
      "source": [
        "len (df)"
      ],
      "execution_count": null,
      "outputs": [
        {
          "output_type": "execute_result",
          "data": {
            "text/plain": [
              "889"
            ]
          },
          "metadata": {
            "tags": []
          },
          "execution_count": 67
        }
      ]
    },
    {
      "cell_type": "markdown",
      "metadata": {
        "id": "gKpLDPwThiD3"
      },
      "source": [
        "We started with a total of 891 data points so this is good retention"
      ]
    },
    {
      "cell_type": "code",
      "metadata": {
        "id": "zJsrt0S1UILk"
      },
      "source": [
        "y=df['Survived']\n"
      ],
      "execution_count": null,
      "outputs": []
    },
    {
      "cell_type": "markdown",
      "metadata": {
        "id": "pl-YfzXrhxHv"
      },
      "source": [
        "y is the Target/Output column"
      ]
    },
    {
      "cell_type": "code",
      "metadata": {
        "id": "4qXzRN6oUILl"
      },
      "source": [
        "X=df.drop('Survived',axis=1)"
      ],
      "execution_count": null,
      "outputs": []
    },
    {
      "cell_type": "markdown",
      "metadata": {
        "id": "-uE3pk-qh1Yy"
      },
      "source": [
        "X is now the input with all relevant data columns except the output column"
      ]
    },
    {
      "cell_type": "code",
      "metadata": {
        "colab": {
          "base_uri": "https://localhost:8080/",
          "height": 419
        },
        "id": "Fr2QsomyUILl",
        "outputId": "c250de14-7274-4c69-b2bf-f4a75280694b"
      },
      "source": [
        "X"
      ],
      "execution_count": null,
      "outputs": [
        {
          "output_type": "execute_result",
          "data": {
            "text/html": [
              "<div>\n",
              "<style scoped>\n",
              "    .dataframe tbody tr th:only-of-type {\n",
              "        vertical-align: middle;\n",
              "    }\n",
              "\n",
              "    .dataframe tbody tr th {\n",
              "        vertical-align: top;\n",
              "    }\n",
              "\n",
              "    .dataframe thead th {\n",
              "        text-align: right;\n",
              "    }\n",
              "</style>\n",
              "<table border=\"1\" class=\"dataframe\">\n",
              "  <thead>\n",
              "    <tr style=\"text-align: right;\">\n",
              "      <th></th>\n",
              "      <th>Pclass</th>\n",
              "      <th>Age</th>\n",
              "      <th>SibSp</th>\n",
              "      <th>Parch</th>\n",
              "      <th>Fare</th>\n",
              "      <th>Sex_male</th>\n",
              "      <th>Embarked_Q</th>\n",
              "      <th>Embarked_S</th>\n",
              "    </tr>\n",
              "  </thead>\n",
              "  <tbody>\n",
              "    <tr>\n",
              "      <th>0</th>\n",
              "      <td>3</td>\n",
              "      <td>22.0</td>\n",
              "      <td>1</td>\n",
              "      <td>0</td>\n",
              "      <td>7.2500</td>\n",
              "      <td>1</td>\n",
              "      <td>0</td>\n",
              "      <td>1</td>\n",
              "    </tr>\n",
              "    <tr>\n",
              "      <th>1</th>\n",
              "      <td>1</td>\n",
              "      <td>38.0</td>\n",
              "      <td>1</td>\n",
              "      <td>0</td>\n",
              "      <td>71.2833</td>\n",
              "      <td>0</td>\n",
              "      <td>0</td>\n",
              "      <td>0</td>\n",
              "    </tr>\n",
              "    <tr>\n",
              "      <th>2</th>\n",
              "      <td>3</td>\n",
              "      <td>26.0</td>\n",
              "      <td>0</td>\n",
              "      <td>0</td>\n",
              "      <td>7.9250</td>\n",
              "      <td>0</td>\n",
              "      <td>0</td>\n",
              "      <td>1</td>\n",
              "    </tr>\n",
              "    <tr>\n",
              "      <th>3</th>\n",
              "      <td>1</td>\n",
              "      <td>35.0</td>\n",
              "      <td>1</td>\n",
              "      <td>0</td>\n",
              "      <td>53.1000</td>\n",
              "      <td>0</td>\n",
              "      <td>0</td>\n",
              "      <td>1</td>\n",
              "    </tr>\n",
              "    <tr>\n",
              "      <th>4</th>\n",
              "      <td>3</td>\n",
              "      <td>35.0</td>\n",
              "      <td>0</td>\n",
              "      <td>0</td>\n",
              "      <td>8.0500</td>\n",
              "      <td>1</td>\n",
              "      <td>0</td>\n",
              "      <td>1</td>\n",
              "    </tr>\n",
              "    <tr>\n",
              "      <th>...</th>\n",
              "      <td>...</td>\n",
              "      <td>...</td>\n",
              "      <td>...</td>\n",
              "      <td>...</td>\n",
              "      <td>...</td>\n",
              "      <td>...</td>\n",
              "      <td>...</td>\n",
              "      <td>...</td>\n",
              "    </tr>\n",
              "    <tr>\n",
              "      <th>886</th>\n",
              "      <td>2</td>\n",
              "      <td>27.0</td>\n",
              "      <td>0</td>\n",
              "      <td>0</td>\n",
              "      <td>13.0000</td>\n",
              "      <td>1</td>\n",
              "      <td>0</td>\n",
              "      <td>1</td>\n",
              "    </tr>\n",
              "    <tr>\n",
              "      <th>887</th>\n",
              "      <td>1</td>\n",
              "      <td>19.0</td>\n",
              "      <td>0</td>\n",
              "      <td>0</td>\n",
              "      <td>30.0000</td>\n",
              "      <td>0</td>\n",
              "      <td>0</td>\n",
              "      <td>1</td>\n",
              "    </tr>\n",
              "    <tr>\n",
              "      <th>888</th>\n",
              "      <td>3</td>\n",
              "      <td>25.0</td>\n",
              "      <td>1</td>\n",
              "      <td>2</td>\n",
              "      <td>23.4500</td>\n",
              "      <td>0</td>\n",
              "      <td>0</td>\n",
              "      <td>1</td>\n",
              "    </tr>\n",
              "    <tr>\n",
              "      <th>889</th>\n",
              "      <td>1</td>\n",
              "      <td>26.0</td>\n",
              "      <td>0</td>\n",
              "      <td>0</td>\n",
              "      <td>30.0000</td>\n",
              "      <td>1</td>\n",
              "      <td>0</td>\n",
              "      <td>0</td>\n",
              "    </tr>\n",
              "    <tr>\n",
              "      <th>890</th>\n",
              "      <td>3</td>\n",
              "      <td>32.0</td>\n",
              "      <td>0</td>\n",
              "      <td>0</td>\n",
              "      <td>7.7500</td>\n",
              "      <td>1</td>\n",
              "      <td>1</td>\n",
              "      <td>0</td>\n",
              "    </tr>\n",
              "  </tbody>\n",
              "</table>\n",
              "<p>889 rows × 8 columns</p>\n",
              "</div>"
            ],
            "text/plain": [
              "     Pclass   Age  SibSp  Parch     Fare  Sex_male  Embarked_Q  Embarked_S\n",
              "0         3  22.0      1      0   7.2500         1           0           1\n",
              "1         1  38.0      1      0  71.2833         0           0           0\n",
              "2         3  26.0      0      0   7.9250         0           0           1\n",
              "3         1  35.0      1      0  53.1000         0           0           1\n",
              "4         3  35.0      0      0   8.0500         1           0           1\n",
              "..      ...   ...    ...    ...      ...       ...         ...         ...\n",
              "886       2  27.0      0      0  13.0000         1           0           1\n",
              "887       1  19.0      0      0  30.0000         0           0           1\n",
              "888       3  25.0      1      2  23.4500         0           0           1\n",
              "889       1  26.0      0      0  30.0000         1           0           0\n",
              "890       3  32.0      0      0   7.7500         1           1           0\n",
              "\n",
              "[889 rows x 8 columns]"
            ]
          },
          "metadata": {
            "tags": []
          },
          "execution_count": 70
        }
      ]
    },
    {
      "cell_type": "code",
      "metadata": {
        "colab": {
          "base_uri": "https://localhost:8080/"
        },
        "id": "6ld3DV-LUILl",
        "outputId": "dd938ec0-7deb-4818-9b3a-91a01d425fd0"
      },
      "source": [
        "y"
      ],
      "execution_count": null,
      "outputs": [
        {
          "output_type": "execute_result",
          "data": {
            "text/plain": [
              "0      0\n",
              "1      1\n",
              "2      1\n",
              "3      1\n",
              "4      0\n",
              "      ..\n",
              "886    0\n",
              "887    1\n",
              "888    0\n",
              "889    1\n",
              "890    0\n",
              "Name: Survived, Length: 889, dtype: int64"
            ]
          },
          "metadata": {
            "tags": []
          },
          "execution_count": 71
        }
      ]
    },
    {
      "cell_type": "markdown",
      "metadata": {
        "id": "IsjXbqxIh_LR"
      },
      "source": [
        "Lets now try Logistic Regression from Sci Kit Learn Machine Learning Algorithms"
      ]
    },
    {
      "cell_type": "code",
      "metadata": {
        "id": "8qksNOJ7UILl"
      },
      "source": [
        "from sklearn.model_selection import train_test_split"
      ],
      "execution_count": null,
      "outputs": []
    },
    {
      "cell_type": "code",
      "metadata": {
        "id": "6Ww3gEzxUILm"
      },
      "source": [
        "X_train, X_test, y_train, y_test = train_test_split(X, y, test_size=0.25, random_state=101)"
      ],
      "execution_count": null,
      "outputs": []
    },
    {
      "cell_type": "markdown",
      "metadata": {
        "id": "yyBHXaOdiQxM"
      },
      "source": [
        "Seperate data into a training set and a test set\r\n",
        "Test set has 25% of data"
      ]
    },
    {
      "cell_type": "code",
      "metadata": {
        "id": "US7MSbqZUILm"
      },
      "source": [
        "from sklearn.linear_model import LogisticRegression"
      ],
      "execution_count": null,
      "outputs": []
    },
    {
      "cell_type": "code",
      "metadata": {
        "id": "ewnugQvcUILm"
      },
      "source": [
        "logmodel=LogisticRegression()"
      ],
      "execution_count": null,
      "outputs": []
    },
    {
      "cell_type": "code",
      "metadata": {
        "colab": {
          "base_uri": "https://localhost:8080/"
        },
        "id": "a5RNftIYUILm",
        "outputId": "4899bf7e-8f5f-4bec-8e7c-a23cf1bd6fa6"
      },
      "source": [
        "logmodel.fit(X_train,y_train)"
      ],
      "execution_count": null,
      "outputs": [
        {
          "output_type": "stream",
          "text": [
            "/usr/local/lib/python3.6/dist-packages/sklearn/linear_model/_logistic.py:940: ConvergenceWarning: lbfgs failed to converge (status=1):\n",
            "STOP: TOTAL NO. of ITERATIONS REACHED LIMIT.\n",
            "\n",
            "Increase the number of iterations (max_iter) or scale the data as shown in:\n",
            "    https://scikit-learn.org/stable/modules/preprocessing.html\n",
            "Please also refer to the documentation for alternative solver options:\n",
            "    https://scikit-learn.org/stable/modules/linear_model.html#logistic-regression\n",
            "  extra_warning_msg=_LOGISTIC_SOLVER_CONVERGENCE_MSG)\n"
          ],
          "name": "stderr"
        },
        {
          "output_type": "execute_result",
          "data": {
            "text/plain": [
              "LogisticRegression(C=1.0, class_weight=None, dual=False, fit_intercept=True,\n",
              "                   intercept_scaling=1, l1_ratio=None, max_iter=100,\n",
              "                   multi_class='auto', n_jobs=None, penalty='l2',\n",
              "                   random_state=None, solver='lbfgs', tol=0.0001, verbose=0,\n",
              "                   warm_start=False)"
            ]
          },
          "metadata": {
            "tags": []
          },
          "execution_count": 78
        }
      ]
    },
    {
      "cell_type": "markdown",
      "metadata": {
        "id": "azrodGydjJXp"
      },
      "source": [
        "Instantiate Model and then Fit it usind the train data"
      ]
    },
    {
      "cell_type": "code",
      "metadata": {
        "id": "gbkXa1SxUILn"
      },
      "source": [
        "predictions=logmodel.predict(X_test)"
      ],
      "execution_count": null,
      "outputs": []
    },
    {
      "cell_type": "markdown",
      "metadata": {
        "id": "C7XrByVhjPj_"
      },
      "source": [
        "Import the metrics for measuring the results"
      ]
    },
    {
      "cell_type": "code",
      "metadata": {
        "id": "v94jumfXUILn"
      },
      "source": [
        "from sklearn.metrics import classification_report,confusion_matrix"
      ],
      "execution_count": null,
      "outputs": []
    },
    {
      "cell_type": "code",
      "metadata": {
        "colab": {
          "base_uri": "https://localhost:8080/"
        },
        "id": "Yx4WZpnmUILo",
        "outputId": "0161c8ea-2917-4698-b381-3f910337bd11"
      },
      "source": [
        "print(classification_report(y_test,predictions))"
      ],
      "execution_count": null,
      "outputs": [
        {
          "output_type": "stream",
          "text": [
            "              precision    recall  f1-score   support\n",
            "\n",
            "           0       0.82      0.93      0.87       136\n",
            "           1       0.86      0.69      0.76        87\n",
            "\n",
            "    accuracy                           0.83       223\n",
            "   macro avg       0.84      0.81      0.82       223\n",
            "weighted avg       0.84      0.83      0.83       223\n",
            "\n"
          ],
          "name": "stdout"
        }
      ]
    },
    {
      "cell_type": "markdown",
      "metadata": {
        "id": "WrIsxlFIjhY1"
      },
      "source": [
        "NOT BAD! We have reached 83% accuracy with Logistic Regression"
      ]
    },
    {
      "cell_type": "code",
      "metadata": {
        "colab": {
          "base_uri": "https://localhost:8080/"
        },
        "id": "LHTMQ5QpUILo",
        "outputId": "2fca2851-8902-45db-d27c-0896a6e1af12"
      },
      "source": [
        "confusion_matrix(y_test,predictions)"
      ],
      "execution_count": null,
      "outputs": [
        {
          "output_type": "execute_result",
          "data": {
            "text/plain": [
              "array([[126,  10],\n",
              "       [ 27,  60]])"
            ]
          },
          "metadata": {
            "tags": []
          },
          "execution_count": 85
        }
      ]
    },
    {
      "cell_type": "markdown",
      "metadata": {
        "id": "pCcaSl7ejp9C"
      },
      "source": [
        "WE have 10 Type 1 (False Positive) and 27 Type 2 errors(False negative)"
      ]
    },
    {
      "cell_type": "code",
      "metadata": {
        "id": "i6zKmcU7UILo",
        "outputId": "1eed67d0-dd8c-4683-d3d9-02a6be226a9e"
      },
      "source": [
        ""
      ],
      "execution_count": null,
      "outputs": [
        {
          "output_type": "execute_result",
          "data": {
            "text/plain": [
              "array([[147,  16],\n",
              "       [ 30,  74]], dtype=int64)"
            ]
          },
          "metadata": {
            "tags": []
          },
          "execution_count": 81
        }
      ]
    },
    {
      "cell_type": "markdown",
      "metadata": {
        "id": "vmQneuuokVF2"
      },
      "source": [
        "Now lets try Support Vector Machines for Binary Classification"
      ]
    },
    {
      "cell_type": "code",
      "metadata": {
        "id": "GNowH0u3UIL7"
      },
      "source": [
        "from sklearn.svm import SVC"
      ],
      "execution_count": null,
      "outputs": []
    },
    {
      "cell_type": "code",
      "metadata": {
        "id": "kMmclY-0khFt"
      },
      "source": [
        "mySVCmodel=SVC(gamma='auto',C=10)"
      ],
      "execution_count": null,
      "outputs": []
    },
    {
      "cell_type": "code",
      "metadata": {
        "colab": {
          "base_uri": "https://localhost:8080/"
        },
        "id": "VX-Wnx1Gk4Cx",
        "outputId": "886fab8c-7bc6-43d6-d04f-ccd1959d7f73"
      },
      "source": [
        "mySVCmodel.fit(X_train,y_train)"
      ],
      "execution_count": null,
      "outputs": [
        {
          "output_type": "execute_result",
          "data": {
            "text/plain": [
              "SVC(C=10, break_ties=False, cache_size=200, class_weight=None, coef0=0.0,\n",
              "    decision_function_shape='ovr', degree=3, gamma='auto', kernel='rbf',\n",
              "    max_iter=-1, probability=False, random_state=None, shrinking=True,\n",
              "    tol=0.001, verbose=False)"
            ]
          },
          "metadata": {
            "tags": []
          },
          "execution_count": 98
        }
      ]
    },
    {
      "cell_type": "code",
      "metadata": {
        "id": "WMBtWIoBk9r4"
      },
      "source": [
        "predictionsSVC=mySVCmodel.predict(X_test)"
      ],
      "execution_count": null,
      "outputs": []
    },
    {
      "cell_type": "code",
      "metadata": {
        "colab": {
          "base_uri": "https://localhost:8080/"
        },
        "id": "32uF4f7OlEol",
        "outputId": "796efc3e-0319-4fb2-8bdd-8847b043b4ee"
      },
      "source": [
        "print(classification_report(y_test,predictionsSVC))"
      ],
      "execution_count": null,
      "outputs": [
        {
          "output_type": "stream",
          "text": [
            "              precision    recall  f1-score   support\n",
            "\n",
            "           0       0.76      0.74      0.75       136\n",
            "           1       0.61      0.63      0.62        87\n",
            "\n",
            "    accuracy                           0.70       223\n",
            "   macro avg       0.69      0.69      0.69       223\n",
            "weighted avg       0.70      0.70      0.70       223\n",
            "\n"
          ],
          "name": "stdout"
        }
      ]
    },
    {
      "cell_type": "markdown",
      "metadata": {
        "id": "rl7qM-MVlaBR"
      },
      "source": [
        "SVC doesnt perform very well and we need to optimize the C and gamma parameters"
      ]
    },
    {
      "cell_type": "code",
      "metadata": {
        "colab": {
          "base_uri": "https://localhost:8080/"
        },
        "id": "XxJbqlR8lM6v",
        "outputId": "37ee7326-0062-422a-eeb8-76a183cd18cb"
      },
      "source": [
        "print(confusion_matrix(y_test,predictionsSVC))"
      ],
      "execution_count": null,
      "outputs": [
        {
          "output_type": "stream",
          "text": [
            "[[101  35]\n",
            " [ 32  55]]\n"
          ],
          "name": "stdout"
        }
      ]
    },
    {
      "cell_type": "code",
      "metadata": {
        "id": "t7urPBbellJm"
      },
      "source": [
        "from sklearn.model_selection import GridSearchCV"
      ],
      "execution_count": null,
      "outputs": []
    },
    {
      "cell_type": "markdown",
      "metadata": {
        "id": "L-lC0tM2rN74"
      },
      "source": [
        "GridSearchCV is the best model to optimize the hyper parameters"
      ]
    },
    {
      "cell_type": "code",
      "metadata": {
        "id": "CEmgA6_Xl-bY"
      },
      "source": [
        "paramgrid={'C':[0.1,1,100,1000],'gamma':[0.001,0.01,.1,10],'kernel':['linear','rbf','sigmoid']}"
      ],
      "execution_count": null,
      "outputs": []
    },
    {
      "cell_type": "markdown",
      "metadata": {
        "id": "_lOoQoVvrBrf"
      },
      "source": [
        "Make a grid of parameters to find the best one"
      ]
    },
    {
      "cell_type": "code",
      "metadata": {
        "id": "aAxbxgoAmexB"
      },
      "source": [
        "gridSVC=GridSearchCV(mySVCmodel,paramgrid,verbose=2,cv=5)"
      ],
      "execution_count": null,
      "outputs": []
    },
    {
      "cell_type": "markdown",
      "metadata": {
        "id": "2JwgPmuvq0tA"
      },
      "source": [
        "Use SK Learn's Grid Search CV. An awesome tool to optimize the hyperparameters of the model like C, gamma and kernel in SVC above\r\n"
      ]
    },
    {
      "cell_type": "code",
      "metadata": {
        "colab": {
          "base_uri": "https://localhost:8080/"
        },
        "id": "_p0MjouYmpuf",
        "outputId": "3ae71062-6445-4ecc-fc50-b6921d7fb29e"
      },
      "source": [
        "gridSVC.fit(X_train,y_train)"
      ],
      "execution_count": null,
      "outputs": [
        {
          "output_type": "stream",
          "text": [
            "Fitting 5 folds for each of 48 candidates, totalling 240 fits\n",
            "[CV] C=0.1, gamma=0.001, kernel=linear ...............................\n",
            "[CV] ................ C=0.1, gamma=0.001, kernel=linear, total=   0.1s\n",
            "[CV] C=0.1, gamma=0.001, kernel=linear ...............................\n",
            "[CV] ................ C=0.1, gamma=0.001, kernel=linear, total=   0.1s\n",
            "[CV] C=0.1, gamma=0.001, kernel=linear ...............................\n"
          ],
          "name": "stdout"
        },
        {
          "output_type": "stream",
          "text": [
            "[Parallel(n_jobs=1)]: Using backend SequentialBackend with 1 concurrent workers.\n",
            "[Parallel(n_jobs=1)]: Done   1 out of   1 | elapsed:    0.1s remaining:    0.0s\n"
          ],
          "name": "stderr"
        },
        {
          "output_type": "stream",
          "text": [
            "[CV] ................ C=0.1, gamma=0.001, kernel=linear, total=   0.1s\n",
            "[CV] C=0.1, gamma=0.001, kernel=linear ...............................\n",
            "[CV] ................ C=0.1, gamma=0.001, kernel=linear, total=   0.2s\n",
            "[CV] C=0.1, gamma=0.001, kernel=linear ...............................\n",
            "[CV] ................ C=0.1, gamma=0.001, kernel=linear, total=   0.1s\n",
            "[CV] C=0.1, gamma=0.001, kernel=rbf ..................................\n",
            "[CV] ................... C=0.1, gamma=0.001, kernel=rbf, total=   0.0s\n",
            "[CV] C=0.1, gamma=0.001, kernel=rbf ..................................\n",
            "[CV] ................... C=0.1, gamma=0.001, kernel=rbf, total=   0.0s\n",
            "[CV] C=0.1, gamma=0.001, kernel=rbf ..................................\n",
            "[CV] ................... C=0.1, gamma=0.001, kernel=rbf, total=   0.0s\n",
            "[CV] C=0.1, gamma=0.001, kernel=rbf ..................................\n",
            "[CV] ................... C=0.1, gamma=0.001, kernel=rbf, total=   0.0s\n",
            "[CV] C=0.1, gamma=0.001, kernel=rbf ..................................\n",
            "[CV] ................... C=0.1, gamma=0.001, kernel=rbf, total=   0.0s\n",
            "[CV] C=0.1, gamma=0.001, kernel=sigmoid ..............................\n",
            "[CV] ............... C=0.1, gamma=0.001, kernel=sigmoid, total=   0.0s\n",
            "[CV] C=0.1, gamma=0.001, kernel=sigmoid ..............................\n",
            "[CV] ............... C=0.1, gamma=0.001, kernel=sigmoid, total=   0.0s\n",
            "[CV] C=0.1, gamma=0.001, kernel=sigmoid ..............................\n",
            "[CV] ............... C=0.1, gamma=0.001, kernel=sigmoid, total=   0.0s\n",
            "[CV] C=0.1, gamma=0.001, kernel=sigmoid ..............................\n",
            "[CV] ............... C=0.1, gamma=0.001, kernel=sigmoid, total=   0.0s\n",
            "[CV] C=0.1, gamma=0.001, kernel=sigmoid ..............................\n",
            "[CV] ............... C=0.1, gamma=0.001, kernel=sigmoid, total=   0.0s\n",
            "[CV] C=0.1, gamma=0.01, kernel=linear ................................\n",
            "[CV] ................. C=0.1, gamma=0.01, kernel=linear, total=   0.1s\n",
            "[CV] C=0.1, gamma=0.01, kernel=linear ................................\n",
            "[CV] ................. C=0.1, gamma=0.01, kernel=linear, total=   0.1s\n",
            "[CV] C=0.1, gamma=0.01, kernel=linear ................................\n",
            "[CV] ................. C=0.1, gamma=0.01, kernel=linear, total=   0.1s\n",
            "[CV] C=0.1, gamma=0.01, kernel=linear ................................\n",
            "[CV] ................. C=0.1, gamma=0.01, kernel=linear, total=   0.2s\n",
            "[CV] C=0.1, gamma=0.01, kernel=linear ................................\n",
            "[CV] ................. C=0.1, gamma=0.01, kernel=linear, total=   0.1s\n",
            "[CV] C=0.1, gamma=0.01, kernel=rbf ...................................\n",
            "[CV] .................... C=0.1, gamma=0.01, kernel=rbf, total=   0.0s\n",
            "[CV] C=0.1, gamma=0.01, kernel=rbf ...................................\n",
            "[CV] .................... C=0.1, gamma=0.01, kernel=rbf, total=   0.0s\n",
            "[CV] C=0.1, gamma=0.01, kernel=rbf ...................................\n",
            "[CV] .................... C=0.1, gamma=0.01, kernel=rbf, total=   0.0s\n",
            "[CV] C=0.1, gamma=0.01, kernel=rbf ...................................\n",
            "[CV] .................... C=0.1, gamma=0.01, kernel=rbf, total=   0.0s\n",
            "[CV] C=0.1, gamma=0.01, kernel=rbf ...................................\n",
            "[CV] .................... C=0.1, gamma=0.01, kernel=rbf, total=   0.0s\n",
            "[CV] C=0.1, gamma=0.01, kernel=sigmoid ...............................\n",
            "[CV] ................ C=0.1, gamma=0.01, kernel=sigmoid, total=   0.0s\n",
            "[CV] C=0.1, gamma=0.01, kernel=sigmoid ...............................\n",
            "[CV] ................ C=0.1, gamma=0.01, kernel=sigmoid, total=   0.0s\n",
            "[CV] C=0.1, gamma=0.01, kernel=sigmoid ...............................\n",
            "[CV] ................ C=0.1, gamma=0.01, kernel=sigmoid, total=   0.0s\n",
            "[CV] C=0.1, gamma=0.01, kernel=sigmoid ...............................\n",
            "[CV] ................ C=0.1, gamma=0.01, kernel=sigmoid, total=   0.0s\n",
            "[CV] C=0.1, gamma=0.01, kernel=sigmoid ...............................\n",
            "[CV] ................ C=0.1, gamma=0.01, kernel=sigmoid, total=   0.0s\n",
            "[CV] C=0.1, gamma=0.1, kernel=linear .................................\n",
            "[CV] .................. C=0.1, gamma=0.1, kernel=linear, total=   0.1s\n",
            "[CV] C=0.1, gamma=0.1, kernel=linear .................................\n",
            "[CV] .................. C=0.1, gamma=0.1, kernel=linear, total=   0.1s\n",
            "[CV] C=0.1, gamma=0.1, kernel=linear .................................\n",
            "[CV] .................. C=0.1, gamma=0.1, kernel=linear, total=   0.1s\n",
            "[CV] C=0.1, gamma=0.1, kernel=linear .................................\n",
            "[CV] .................. C=0.1, gamma=0.1, kernel=linear, total=   0.2s\n",
            "[CV] C=0.1, gamma=0.1, kernel=linear .................................\n",
            "[CV] .................. C=0.1, gamma=0.1, kernel=linear, total=   0.1s\n",
            "[CV] C=0.1, gamma=0.1, kernel=rbf ....................................\n",
            "[CV] ..................... C=0.1, gamma=0.1, kernel=rbf, total=   0.0s\n",
            "[CV] C=0.1, gamma=0.1, kernel=rbf ....................................\n",
            "[CV] ..................... C=0.1, gamma=0.1, kernel=rbf, total=   0.0s\n",
            "[CV] C=0.1, gamma=0.1, kernel=rbf ....................................\n",
            "[CV] ..................... C=0.1, gamma=0.1, kernel=rbf, total=   0.0s\n",
            "[CV] C=0.1, gamma=0.1, kernel=rbf ....................................\n",
            "[CV] ..................... C=0.1, gamma=0.1, kernel=rbf, total=   0.0s\n",
            "[CV] C=0.1, gamma=0.1, kernel=rbf ....................................\n",
            "[CV] ..................... C=0.1, gamma=0.1, kernel=rbf, total=   0.0s\n",
            "[CV] C=0.1, gamma=0.1, kernel=sigmoid ................................\n",
            "[CV] ................. C=0.1, gamma=0.1, kernel=sigmoid, total=   0.0s\n",
            "[CV] C=0.1, gamma=0.1, kernel=sigmoid ................................\n",
            "[CV] ................. C=0.1, gamma=0.1, kernel=sigmoid, total=   0.0s\n",
            "[CV] C=0.1, gamma=0.1, kernel=sigmoid ................................\n",
            "[CV] ................. C=0.1, gamma=0.1, kernel=sigmoid, total=   0.0s\n",
            "[CV] C=0.1, gamma=0.1, kernel=sigmoid ................................\n",
            "[CV] ................. C=0.1, gamma=0.1, kernel=sigmoid, total=   0.0s\n",
            "[CV] C=0.1, gamma=0.1, kernel=sigmoid ................................\n",
            "[CV] ................. C=0.1, gamma=0.1, kernel=sigmoid, total=   0.0s\n",
            "[CV] C=0.1, gamma=10, kernel=linear ..................................\n",
            "[CV] ................... C=0.1, gamma=10, kernel=linear, total=   0.1s\n",
            "[CV] C=0.1, gamma=10, kernel=linear ..................................\n",
            "[CV] ................... C=0.1, gamma=10, kernel=linear, total=   0.1s\n",
            "[CV] C=0.1, gamma=10, kernel=linear ..................................\n",
            "[CV] ................... C=0.1, gamma=10, kernel=linear, total=   0.1s\n",
            "[CV] C=0.1, gamma=10, kernel=linear ..................................\n",
            "[CV] ................... C=0.1, gamma=10, kernel=linear, total=   0.2s\n",
            "[CV] C=0.1, gamma=10, kernel=linear ..................................\n",
            "[CV] ................... C=0.1, gamma=10, kernel=linear, total=   0.1s\n",
            "[CV] C=0.1, gamma=10, kernel=rbf .....................................\n",
            "[CV] ...................... C=0.1, gamma=10, kernel=rbf, total=   0.0s\n",
            "[CV] C=0.1, gamma=10, kernel=rbf .....................................\n",
            "[CV] ...................... C=0.1, gamma=10, kernel=rbf, total=   0.0s\n",
            "[CV] C=0.1, gamma=10, kernel=rbf .....................................\n",
            "[CV] ...................... C=0.1, gamma=10, kernel=rbf, total=   0.0s\n",
            "[CV] C=0.1, gamma=10, kernel=rbf .....................................\n",
            "[CV] ...................... C=0.1, gamma=10, kernel=rbf, total=   0.0s\n",
            "[CV] C=0.1, gamma=10, kernel=rbf .....................................\n",
            "[CV] ...................... C=0.1, gamma=10, kernel=rbf, total=   0.0s\n",
            "[CV] C=0.1, gamma=10, kernel=sigmoid .................................\n",
            "[CV] .................. C=0.1, gamma=10, kernel=sigmoid, total=   0.0s\n",
            "[CV] C=0.1, gamma=10, kernel=sigmoid .................................\n",
            "[CV] .................. C=0.1, gamma=10, kernel=sigmoid, total=   0.0s\n",
            "[CV] C=0.1, gamma=10, kernel=sigmoid .................................\n",
            "[CV] .................. C=0.1, gamma=10, kernel=sigmoid, total=   0.0s\n",
            "[CV] C=0.1, gamma=10, kernel=sigmoid .................................\n",
            "[CV] .................. C=0.1, gamma=10, kernel=sigmoid, total=   0.0s\n",
            "[CV] C=0.1, gamma=10, kernel=sigmoid .................................\n",
            "[CV] .................. C=0.1, gamma=10, kernel=sigmoid, total=   0.0s\n",
            "[CV] C=1, gamma=0.001, kernel=linear .................................\n",
            "[CV] .................. C=1, gamma=0.001, kernel=linear, total=  10.4s\n",
            "[CV] C=1, gamma=0.001, kernel=linear .................................\n",
            "[CV] .................. C=1, gamma=0.001, kernel=linear, total=  12.4s\n",
            "[CV] C=1, gamma=0.001, kernel=linear .................................\n",
            "[CV] .................. C=1, gamma=0.001, kernel=linear, total=   7.5s\n",
            "[CV] C=1, gamma=0.001, kernel=linear .................................\n",
            "[CV] .................. C=1, gamma=0.001, kernel=linear, total=  11.6s\n",
            "[CV] C=1, gamma=0.001, kernel=linear .................................\n",
            "[CV] .................. C=1, gamma=0.001, kernel=linear, total=   1.0s\n",
            "[CV] C=1, gamma=0.001, kernel=rbf ....................................\n",
            "[CV] ..................... C=1, gamma=0.001, kernel=rbf, total=   0.0s\n",
            "[CV] C=1, gamma=0.001, kernel=rbf ....................................\n",
            "[CV] ..................... C=1, gamma=0.001, kernel=rbf, total=   0.0s\n",
            "[CV] C=1, gamma=0.001, kernel=rbf ....................................\n",
            "[CV] ..................... C=1, gamma=0.001, kernel=rbf, total=   0.0s\n",
            "[CV] C=1, gamma=0.001, kernel=rbf ....................................\n",
            "[CV] ..................... C=1, gamma=0.001, kernel=rbf, total=   0.0s\n",
            "[CV] C=1, gamma=0.001, kernel=rbf ....................................\n",
            "[CV] ..................... C=1, gamma=0.001, kernel=rbf, total=   0.0s\n",
            "[CV] C=1, gamma=0.001, kernel=sigmoid ................................\n",
            "[CV] ................. C=1, gamma=0.001, kernel=sigmoid, total=   0.0s\n",
            "[CV] C=1, gamma=0.001, kernel=sigmoid ................................\n",
            "[CV] ................. C=1, gamma=0.001, kernel=sigmoid, total=   0.0s\n",
            "[CV] C=1, gamma=0.001, kernel=sigmoid ................................\n",
            "[CV] ................. C=1, gamma=0.001, kernel=sigmoid, total=   0.0s\n",
            "[CV] C=1, gamma=0.001, kernel=sigmoid ................................\n",
            "[CV] ................. C=1, gamma=0.001, kernel=sigmoid, total=   0.0s\n",
            "[CV] C=1, gamma=0.001, kernel=sigmoid ................................\n",
            "[CV] ................. C=1, gamma=0.001, kernel=sigmoid, total=   0.0s\n",
            "[CV] C=1, gamma=0.01, kernel=linear ..................................\n",
            "[CV] ................... C=1, gamma=0.01, kernel=linear, total=  10.4s\n",
            "[CV] C=1, gamma=0.01, kernel=linear ..................................\n",
            "[CV] ................... C=1, gamma=0.01, kernel=linear, total=  12.3s\n",
            "[CV] C=1, gamma=0.01, kernel=linear ..................................\n",
            "[CV] ................... C=1, gamma=0.01, kernel=linear, total=   7.5s\n",
            "[CV] C=1, gamma=0.01, kernel=linear ..................................\n",
            "[CV] ................... C=1, gamma=0.01, kernel=linear, total=  11.6s\n",
            "[CV] C=1, gamma=0.01, kernel=linear ..................................\n",
            "[CV] ................... C=1, gamma=0.01, kernel=linear, total=   1.0s\n",
            "[CV] C=1, gamma=0.01, kernel=rbf .....................................\n",
            "[CV] ...................... C=1, gamma=0.01, kernel=rbf, total=   0.0s\n",
            "[CV] C=1, gamma=0.01, kernel=rbf .....................................\n",
            "[CV] ...................... C=1, gamma=0.01, kernel=rbf, total=   0.0s\n",
            "[CV] C=1, gamma=0.01, kernel=rbf .....................................\n",
            "[CV] ...................... C=1, gamma=0.01, kernel=rbf, total=   0.0s\n",
            "[CV] C=1, gamma=0.01, kernel=rbf .....................................\n",
            "[CV] ...................... C=1, gamma=0.01, kernel=rbf, total=   0.0s\n",
            "[CV] C=1, gamma=0.01, kernel=rbf .....................................\n",
            "[CV] ...................... C=1, gamma=0.01, kernel=rbf, total=   0.0s\n",
            "[CV] C=1, gamma=0.01, kernel=sigmoid .................................\n",
            "[CV] .................. C=1, gamma=0.01, kernel=sigmoid, total=   0.0s\n",
            "[CV] C=1, gamma=0.01, kernel=sigmoid .................................\n",
            "[CV] .................. C=1, gamma=0.01, kernel=sigmoid, total=   0.0s\n",
            "[CV] C=1, gamma=0.01, kernel=sigmoid .................................\n",
            "[CV] .................. C=1, gamma=0.01, kernel=sigmoid, total=   0.0s\n",
            "[CV] C=1, gamma=0.01, kernel=sigmoid .................................\n",
            "[CV] .................. C=1, gamma=0.01, kernel=sigmoid, total=   0.0s\n",
            "[CV] C=1, gamma=0.01, kernel=sigmoid .................................\n",
            "[CV] .................. C=1, gamma=0.01, kernel=sigmoid, total=   0.0s\n",
            "[CV] C=1, gamma=0.1, kernel=linear ...................................\n",
            "[CV] .................... C=1, gamma=0.1, kernel=linear, total=  10.4s\n",
            "[CV] C=1, gamma=0.1, kernel=linear ...................................\n",
            "[CV] .................... C=1, gamma=0.1, kernel=linear, total=  12.4s\n",
            "[CV] C=1, gamma=0.1, kernel=linear ...................................\n",
            "[CV] .................... C=1, gamma=0.1, kernel=linear, total=   7.4s\n",
            "[CV] C=1, gamma=0.1, kernel=linear ...................................\n",
            "[CV] .................... C=1, gamma=0.1, kernel=linear, total=  11.7s\n",
            "[CV] C=1, gamma=0.1, kernel=linear ...................................\n",
            "[CV] .................... C=1, gamma=0.1, kernel=linear, total=   1.0s\n",
            "[CV] C=1, gamma=0.1, kernel=rbf ......................................\n",
            "[CV] ....................... C=1, gamma=0.1, kernel=rbf, total=   0.0s\n",
            "[CV] C=1, gamma=0.1, kernel=rbf ......................................\n",
            "[CV] ....................... C=1, gamma=0.1, kernel=rbf, total=   0.0s\n",
            "[CV] C=1, gamma=0.1, kernel=rbf ......................................\n",
            "[CV] ....................... C=1, gamma=0.1, kernel=rbf, total=   0.0s\n",
            "[CV] C=1, gamma=0.1, kernel=rbf ......................................\n",
            "[CV] ....................... C=1, gamma=0.1, kernel=rbf, total=   0.0s\n",
            "[CV] C=1, gamma=0.1, kernel=rbf ......................................\n",
            "[CV] ....................... C=1, gamma=0.1, kernel=rbf, total=   0.0s\n",
            "[CV] C=1, gamma=0.1, kernel=sigmoid ..................................\n",
            "[CV] ................... C=1, gamma=0.1, kernel=sigmoid, total=   0.0s\n",
            "[CV] C=1, gamma=0.1, kernel=sigmoid ..................................\n",
            "[CV] ................... C=1, gamma=0.1, kernel=sigmoid, total=   0.0s\n",
            "[CV] C=1, gamma=0.1, kernel=sigmoid ..................................\n",
            "[CV] ................... C=1, gamma=0.1, kernel=sigmoid, total=   0.0s\n",
            "[CV] C=1, gamma=0.1, kernel=sigmoid ..................................\n",
            "[CV] ................... C=1, gamma=0.1, kernel=sigmoid, total=   0.0s\n",
            "[CV] C=1, gamma=0.1, kernel=sigmoid ..................................\n",
            "[CV] ................... C=1, gamma=0.1, kernel=sigmoid, total=   0.0s\n",
            "[CV] C=1, gamma=10, kernel=linear ....................................\n",
            "[CV] ..................... C=1, gamma=10, kernel=linear, total=  10.3s\n",
            "[CV] C=1, gamma=10, kernel=linear ....................................\n",
            "[CV] ..................... C=1, gamma=10, kernel=linear, total=  12.4s\n",
            "[CV] C=1, gamma=10, kernel=linear ....................................\n",
            "[CV] ..................... C=1, gamma=10, kernel=linear, total=   7.5s\n",
            "[CV] C=1, gamma=10, kernel=linear ....................................\n",
            "[CV] ..................... C=1, gamma=10, kernel=linear, total=  11.6s\n",
            "[CV] C=1, gamma=10, kernel=linear ....................................\n",
            "[CV] ..................... C=1, gamma=10, kernel=linear, total=   1.0s\n",
            "[CV] C=1, gamma=10, kernel=rbf .......................................\n",
            "[CV] ........................ C=1, gamma=10, kernel=rbf, total=   0.0s\n",
            "[CV] C=1, gamma=10, kernel=rbf .......................................\n",
            "[CV] ........................ C=1, gamma=10, kernel=rbf, total=   0.0s\n",
            "[CV] C=1, gamma=10, kernel=rbf .......................................\n",
            "[CV] ........................ C=1, gamma=10, kernel=rbf, total=   0.0s\n",
            "[CV] C=1, gamma=10, kernel=rbf .......................................\n",
            "[CV] ........................ C=1, gamma=10, kernel=rbf, total=   0.0s\n",
            "[CV] C=1, gamma=10, kernel=rbf .......................................\n",
            "[CV] ........................ C=1, gamma=10, kernel=rbf, total=   0.0s\n",
            "[CV] C=1, gamma=10, kernel=sigmoid ...................................\n",
            "[CV] .................... C=1, gamma=10, kernel=sigmoid, total=   0.0s\n",
            "[CV] C=1, gamma=10, kernel=sigmoid ...................................\n",
            "[CV] .................... C=1, gamma=10, kernel=sigmoid, total=   0.0s\n",
            "[CV] C=1, gamma=10, kernel=sigmoid ...................................\n",
            "[CV] .................... C=1, gamma=10, kernel=sigmoid, total=   0.0s\n",
            "[CV] C=1, gamma=10, kernel=sigmoid ...................................\n",
            "[CV] .................... C=1, gamma=10, kernel=sigmoid, total=   0.0s\n",
            "[CV] C=1, gamma=10, kernel=sigmoid ...................................\n",
            "[CV] .................... C=1, gamma=10, kernel=sigmoid, total=   0.0s\n",
            "[CV] C=100, gamma=0.001, kernel=linear ...............................\n",
            "[CV] ................ C=100, gamma=0.001, kernel=linear, total= 1.9min\n",
            "[CV] C=100, gamma=0.001, kernel=linear ...............................\n",
            "[CV] ................ C=100, gamma=0.001, kernel=linear, total=  57.2s\n",
            "[CV] C=100, gamma=0.001, kernel=linear ...............................\n",
            "[CV] ................ C=100, gamma=0.001, kernel=linear, total=  44.3s\n",
            "[CV] C=100, gamma=0.001, kernel=linear ...............................\n",
            "[CV] ................ C=100, gamma=0.001, kernel=linear, total=  37.3s\n",
            "[CV] C=100, gamma=0.001, kernel=linear ...............................\n",
            "[CV] ................ C=100, gamma=0.001, kernel=linear, total=  35.9s\n",
            "[CV] C=100, gamma=0.001, kernel=rbf ..................................\n",
            "[CV] ................... C=100, gamma=0.001, kernel=rbf, total=   0.0s\n",
            "[CV] C=100, gamma=0.001, kernel=rbf ..................................\n",
            "[CV] ................... C=100, gamma=0.001, kernel=rbf, total=   0.0s\n",
            "[CV] C=100, gamma=0.001, kernel=rbf ..................................\n",
            "[CV] ................... C=100, gamma=0.001, kernel=rbf, total=   0.0s\n",
            "[CV] C=100, gamma=0.001, kernel=rbf ..................................\n",
            "[CV] ................... C=100, gamma=0.001, kernel=rbf, total=   0.0s\n",
            "[CV] C=100, gamma=0.001, kernel=rbf ..................................\n",
            "[CV] ................... C=100, gamma=0.001, kernel=rbf, total=   0.0s\n",
            "[CV] C=100, gamma=0.001, kernel=sigmoid ..............................\n",
            "[CV] ............... C=100, gamma=0.001, kernel=sigmoid, total=   0.0s\n",
            "[CV] C=100, gamma=0.001, kernel=sigmoid ..............................\n",
            "[CV] ............... C=100, gamma=0.001, kernel=sigmoid, total=   0.0s\n",
            "[CV] C=100, gamma=0.001, kernel=sigmoid ..............................\n",
            "[CV] ............... C=100, gamma=0.001, kernel=sigmoid, total=   0.0s\n",
            "[CV] C=100, gamma=0.001, kernel=sigmoid ..............................\n",
            "[CV] ............... C=100, gamma=0.001, kernel=sigmoid, total=   0.0s\n",
            "[CV] C=100, gamma=0.001, kernel=sigmoid ..............................\n",
            "[CV] ............... C=100, gamma=0.001, kernel=sigmoid, total=   0.0s\n",
            "[CV] C=100, gamma=0.01, kernel=linear ................................\n",
            "[CV] ................. C=100, gamma=0.01, kernel=linear, total= 1.9min\n",
            "[CV] C=100, gamma=0.01, kernel=linear ................................\n",
            "[CV] ................. C=100, gamma=0.01, kernel=linear, total=  57.3s\n",
            "[CV] C=100, gamma=0.01, kernel=linear ................................\n",
            "[CV] ................. C=100, gamma=0.01, kernel=linear, total=  44.3s\n",
            "[CV] C=100, gamma=0.01, kernel=linear ................................\n",
            "[CV] ................. C=100, gamma=0.01, kernel=linear, total=  37.2s\n",
            "[CV] C=100, gamma=0.01, kernel=linear ................................\n",
            "[CV] ................. C=100, gamma=0.01, kernel=linear, total=  35.7s\n",
            "[CV] C=100, gamma=0.01, kernel=rbf ...................................\n",
            "[CV] .................... C=100, gamma=0.01, kernel=rbf, total=   0.0s\n",
            "[CV] C=100, gamma=0.01, kernel=rbf ...................................\n",
            "[CV] .................... C=100, gamma=0.01, kernel=rbf, total=   0.0s\n",
            "[CV] C=100, gamma=0.01, kernel=rbf ...................................\n",
            "[CV] .................... C=100, gamma=0.01, kernel=rbf, total=   0.0s\n",
            "[CV] C=100, gamma=0.01, kernel=rbf ...................................\n",
            "[CV] .................... C=100, gamma=0.01, kernel=rbf, total=   0.0s\n",
            "[CV] C=100, gamma=0.01, kernel=rbf ...................................\n",
            "[CV] .................... C=100, gamma=0.01, kernel=rbf, total=   0.0s\n",
            "[CV] C=100, gamma=0.01, kernel=sigmoid ...............................\n",
            "[CV] ................ C=100, gamma=0.01, kernel=sigmoid, total=   0.0s\n",
            "[CV] C=100, gamma=0.01, kernel=sigmoid ...............................\n",
            "[CV] ................ C=100, gamma=0.01, kernel=sigmoid, total=   0.0s\n",
            "[CV] C=100, gamma=0.01, kernel=sigmoid ...............................\n",
            "[CV] ................ C=100, gamma=0.01, kernel=sigmoid, total=   0.0s\n",
            "[CV] C=100, gamma=0.01, kernel=sigmoid ...............................\n",
            "[CV] ................ C=100, gamma=0.01, kernel=sigmoid, total=   0.0s\n",
            "[CV] C=100, gamma=0.01, kernel=sigmoid ...............................\n",
            "[CV] ................ C=100, gamma=0.01, kernel=sigmoid, total=   0.0s\n",
            "[CV] C=100, gamma=0.1, kernel=linear .................................\n",
            "[CV] .................. C=100, gamma=0.1, kernel=linear, total= 1.9min\n",
            "[CV] C=100, gamma=0.1, kernel=linear .................................\n",
            "[CV] .................. C=100, gamma=0.1, kernel=linear, total=  57.3s\n",
            "[CV] C=100, gamma=0.1, kernel=linear .................................\n",
            "[CV] .................. C=100, gamma=0.1, kernel=linear, total=  44.1s\n",
            "[CV] C=100, gamma=0.1, kernel=linear .................................\n",
            "[CV] .................. C=100, gamma=0.1, kernel=linear, total=  37.0s\n",
            "[CV] C=100, gamma=0.1, kernel=linear .................................\n",
            "[CV] .................. C=100, gamma=0.1, kernel=linear, total=  35.7s\n",
            "[CV] C=100, gamma=0.1, kernel=rbf ....................................\n",
            "[CV] ..................... C=100, gamma=0.1, kernel=rbf, total=   0.0s\n",
            "[CV] C=100, gamma=0.1, kernel=rbf ....................................\n",
            "[CV] ..................... C=100, gamma=0.1, kernel=rbf, total=   0.0s\n",
            "[CV] C=100, gamma=0.1, kernel=rbf ....................................\n",
            "[CV] ..................... C=100, gamma=0.1, kernel=rbf, total=   0.0s\n",
            "[CV] C=100, gamma=0.1, kernel=rbf ....................................\n",
            "[CV] ..................... C=100, gamma=0.1, kernel=rbf, total=   0.0s\n",
            "[CV] C=100, gamma=0.1, kernel=rbf ....................................\n",
            "[CV] ..................... C=100, gamma=0.1, kernel=rbf, total=   0.0s\n",
            "[CV] C=100, gamma=0.1, kernel=sigmoid ................................\n",
            "[CV] ................. C=100, gamma=0.1, kernel=sigmoid, total=   0.0s\n",
            "[CV] C=100, gamma=0.1, kernel=sigmoid ................................\n",
            "[CV] ................. C=100, gamma=0.1, kernel=sigmoid, total=   0.0s\n",
            "[CV] C=100, gamma=0.1, kernel=sigmoid ................................\n",
            "[CV] ................. C=100, gamma=0.1, kernel=sigmoid, total=   0.0s\n",
            "[CV] C=100, gamma=0.1, kernel=sigmoid ................................\n",
            "[CV] ................. C=100, gamma=0.1, kernel=sigmoid, total=   0.0s\n",
            "[CV] C=100, gamma=0.1, kernel=sigmoid ................................\n",
            "[CV] ................. C=100, gamma=0.1, kernel=sigmoid, total=   0.0s\n",
            "[CV] C=100, gamma=10, kernel=linear ..................................\n",
            "[CV] ................... C=100, gamma=10, kernel=linear, total= 1.8min\n",
            "[CV] C=100, gamma=10, kernel=linear ..................................\n",
            "[CV] ................... C=100, gamma=10, kernel=linear, total=  57.1s\n",
            "[CV] C=100, gamma=10, kernel=linear ..................................\n",
            "[CV] ................... C=100, gamma=10, kernel=linear, total=  44.2s\n",
            "[CV] C=100, gamma=10, kernel=linear ..................................\n",
            "[CV] ................... C=100, gamma=10, kernel=linear, total=  37.0s\n",
            "[CV] C=100, gamma=10, kernel=linear ..................................\n",
            "[CV] ................... C=100, gamma=10, kernel=linear, total=  35.6s\n",
            "[CV] C=100, gamma=10, kernel=rbf .....................................\n",
            "[CV] ...................... C=100, gamma=10, kernel=rbf, total=   0.0s\n",
            "[CV] C=100, gamma=10, kernel=rbf .....................................\n",
            "[CV] ...................... C=100, gamma=10, kernel=rbf, total=   0.0s\n",
            "[CV] C=100, gamma=10, kernel=rbf .....................................\n",
            "[CV] ...................... C=100, gamma=10, kernel=rbf, total=   0.0s\n",
            "[CV] C=100, gamma=10, kernel=rbf .....................................\n",
            "[CV] ...................... C=100, gamma=10, kernel=rbf, total=   0.0s\n",
            "[CV] C=100, gamma=10, kernel=rbf .....................................\n",
            "[CV] ...................... C=100, gamma=10, kernel=rbf, total=   0.0s\n",
            "[CV] C=100, gamma=10, kernel=sigmoid .................................\n",
            "[CV] .................. C=100, gamma=10, kernel=sigmoid, total=   0.0s\n",
            "[CV] C=100, gamma=10, kernel=sigmoid .................................\n",
            "[CV] .................. C=100, gamma=10, kernel=sigmoid, total=   0.0s\n",
            "[CV] C=100, gamma=10, kernel=sigmoid .................................\n",
            "[CV] .................. C=100, gamma=10, kernel=sigmoid, total=   0.0s\n",
            "[CV] C=100, gamma=10, kernel=sigmoid .................................\n",
            "[CV] .................. C=100, gamma=10, kernel=sigmoid, total=   0.0s\n",
            "[CV] C=100, gamma=10, kernel=sigmoid .................................\n",
            "[CV] .................. C=100, gamma=10, kernel=sigmoid, total=   0.0s\n",
            "[CV] C=1000, gamma=0.001, kernel=linear ..............................\n",
            "[CV] ............... C=1000, gamma=0.001, kernel=linear, total= 1.9min\n",
            "[CV] C=1000, gamma=0.001, kernel=linear ..............................\n",
            "[CV] ............... C=1000, gamma=0.001, kernel=linear, total= 1.1min\n",
            "[CV] C=1000, gamma=0.001, kernel=linear ..............................\n",
            "[CV] ............... C=1000, gamma=0.001, kernel=linear, total= 1.2min\n",
            "[CV] C=1000, gamma=0.001, kernel=linear ..............................\n",
            "[CV] ............... C=1000, gamma=0.001, kernel=linear, total=  55.5s\n",
            "[CV] C=1000, gamma=0.001, kernel=linear ..............................\n",
            "[CV] ............... C=1000, gamma=0.001, kernel=linear, total= 3.3min\n",
            "[CV] C=1000, gamma=0.001, kernel=rbf .................................\n",
            "[CV] .................. C=1000, gamma=0.001, kernel=rbf, total=   0.1s\n",
            "[CV] C=1000, gamma=0.001, kernel=rbf .................................\n",
            "[CV] .................. C=1000, gamma=0.001, kernel=rbf, total=   0.1s\n",
            "[CV] C=1000, gamma=0.001, kernel=rbf .................................\n",
            "[CV] .................. C=1000, gamma=0.001, kernel=rbf, total=   0.1s\n",
            "[CV] C=1000, gamma=0.001, kernel=rbf .................................\n",
            "[CV] .................. C=1000, gamma=0.001, kernel=rbf, total=   0.1s\n",
            "[CV] C=1000, gamma=0.001, kernel=rbf .................................\n",
            "[CV] .................. C=1000, gamma=0.001, kernel=rbf, total=   0.1s\n",
            "[CV] C=1000, gamma=0.001, kernel=sigmoid .............................\n",
            "[CV] .............. C=1000, gamma=0.001, kernel=sigmoid, total=   0.0s\n",
            "[CV] C=1000, gamma=0.001, kernel=sigmoid .............................\n",
            "[CV] .............. C=1000, gamma=0.001, kernel=sigmoid, total=   0.0s\n",
            "[CV] C=1000, gamma=0.001, kernel=sigmoid .............................\n",
            "[CV] .............. C=1000, gamma=0.001, kernel=sigmoid, total=   0.0s\n",
            "[CV] C=1000, gamma=0.001, kernel=sigmoid .............................\n",
            "[CV] .............. C=1000, gamma=0.001, kernel=sigmoid, total=   0.0s\n",
            "[CV] C=1000, gamma=0.001, kernel=sigmoid .............................\n",
            "[CV] .............. C=1000, gamma=0.001, kernel=sigmoid, total=   0.0s\n",
            "[CV] C=1000, gamma=0.01, kernel=linear ...............................\n",
            "[CV] ................ C=1000, gamma=0.01, kernel=linear, total= 1.9min\n",
            "[CV] C=1000, gamma=0.01, kernel=linear ...............................\n",
            "[CV] ................ C=1000, gamma=0.01, kernel=linear, total= 1.1min\n",
            "[CV] C=1000, gamma=0.01, kernel=linear ...............................\n",
            "[CV] ................ C=1000, gamma=0.01, kernel=linear, total= 1.2min\n",
            "[CV] C=1000, gamma=0.01, kernel=linear ...............................\n",
            "[CV] ................ C=1000, gamma=0.01, kernel=linear, total=  55.5s\n",
            "[CV] C=1000, gamma=0.01, kernel=linear ...............................\n",
            "[CV] ................ C=1000, gamma=0.01, kernel=linear, total= 3.3min\n",
            "[CV] C=1000, gamma=0.01, kernel=rbf ..................................\n",
            "[CV] ................... C=1000, gamma=0.01, kernel=rbf, total=   0.0s\n",
            "[CV] C=1000, gamma=0.01, kernel=rbf ..................................\n",
            "[CV] ................... C=1000, gamma=0.01, kernel=rbf, total=   0.2s\n",
            "[CV] C=1000, gamma=0.01, kernel=rbf ..................................\n",
            "[CV] ................... C=1000, gamma=0.01, kernel=rbf, total=   0.1s\n",
            "[CV] C=1000, gamma=0.01, kernel=rbf ..................................\n",
            "[CV] ................... C=1000, gamma=0.01, kernel=rbf, total=   0.1s\n",
            "[CV] C=1000, gamma=0.01, kernel=rbf ..................................\n",
            "[CV] ................... C=1000, gamma=0.01, kernel=rbf, total=   0.1s\n",
            "[CV] C=1000, gamma=0.01, kernel=sigmoid ..............................\n",
            "[CV] ............... C=1000, gamma=0.01, kernel=sigmoid, total=   0.0s\n",
            "[CV] C=1000, gamma=0.01, kernel=sigmoid ..............................\n",
            "[CV] ............... C=1000, gamma=0.01, kernel=sigmoid, total=   0.0s\n",
            "[CV] C=1000, gamma=0.01, kernel=sigmoid ..............................\n",
            "[CV] ............... C=1000, gamma=0.01, kernel=sigmoid, total=   0.0s\n",
            "[CV] C=1000, gamma=0.01, kernel=sigmoid ..............................\n",
            "[CV] ............... C=1000, gamma=0.01, kernel=sigmoid, total=   0.0s\n",
            "[CV] C=1000, gamma=0.01, kernel=sigmoid ..............................\n",
            "[CV] ............... C=1000, gamma=0.01, kernel=sigmoid, total=   0.0s\n",
            "[CV] C=1000, gamma=0.1, kernel=linear ................................\n",
            "[CV] ................. C=1000, gamma=0.1, kernel=linear, total= 1.9min\n",
            "[CV] C=1000, gamma=0.1, kernel=linear ................................\n",
            "[CV] ................. C=1000, gamma=0.1, kernel=linear, total= 1.1min\n",
            "[CV] C=1000, gamma=0.1, kernel=linear ................................\n",
            "[CV] ................. C=1000, gamma=0.1, kernel=linear, total= 1.2min\n",
            "[CV] C=1000, gamma=0.1, kernel=linear ................................\n",
            "[CV] ................. C=1000, gamma=0.1, kernel=linear, total=  55.5s\n",
            "[CV] C=1000, gamma=0.1, kernel=linear ................................\n",
            "[CV] ................. C=1000, gamma=0.1, kernel=linear, total= 3.3min\n",
            "[CV] C=1000, gamma=0.1, kernel=rbf ...................................\n",
            "[CV] .................... C=1000, gamma=0.1, kernel=rbf, total=   0.0s\n",
            "[CV] C=1000, gamma=0.1, kernel=rbf ...................................\n",
            "[CV] .................... C=1000, gamma=0.1, kernel=rbf, total=   0.1s\n",
            "[CV] C=1000, gamma=0.1, kernel=rbf ...................................\n",
            "[CV] .................... C=1000, gamma=0.1, kernel=rbf, total=   0.0s\n",
            "[CV] C=1000, gamma=0.1, kernel=rbf ...................................\n",
            "[CV] .................... C=1000, gamma=0.1, kernel=rbf, total=   0.0s\n",
            "[CV] C=1000, gamma=0.1, kernel=rbf ...................................\n",
            "[CV] .................... C=1000, gamma=0.1, kernel=rbf, total=   0.0s\n",
            "[CV] C=1000, gamma=0.1, kernel=sigmoid ...............................\n",
            "[CV] ................ C=1000, gamma=0.1, kernel=sigmoid, total=   0.0s\n",
            "[CV] C=1000, gamma=0.1, kernel=sigmoid ...............................\n",
            "[CV] ................ C=1000, gamma=0.1, kernel=sigmoid, total=   0.0s\n",
            "[CV] C=1000, gamma=0.1, kernel=sigmoid ...............................\n",
            "[CV] ................ C=1000, gamma=0.1, kernel=sigmoid, total=   0.0s\n",
            "[CV] C=1000, gamma=0.1, kernel=sigmoid ...............................\n",
            "[CV] ................ C=1000, gamma=0.1, kernel=sigmoid, total=   0.0s\n",
            "[CV] C=1000, gamma=0.1, kernel=sigmoid ...............................\n",
            "[CV] ................ C=1000, gamma=0.1, kernel=sigmoid, total=   0.0s\n",
            "[CV] C=1000, gamma=10, kernel=linear .................................\n",
            "[CV] .................. C=1000, gamma=10, kernel=linear, total= 1.9min\n",
            "[CV] C=1000, gamma=10, kernel=linear .................................\n",
            "[CV] .................. C=1000, gamma=10, kernel=linear, total= 1.1min\n",
            "[CV] C=1000, gamma=10, kernel=linear .................................\n",
            "[CV] .................. C=1000, gamma=10, kernel=linear, total= 1.2min\n",
            "[CV] C=1000, gamma=10, kernel=linear .................................\n",
            "[CV] .................. C=1000, gamma=10, kernel=linear, total=  55.6s\n",
            "[CV] C=1000, gamma=10, kernel=linear .................................\n",
            "[CV] .................. C=1000, gamma=10, kernel=linear, total= 3.3min\n",
            "[CV] C=1000, gamma=10, kernel=rbf ....................................\n",
            "[CV] ..................... C=1000, gamma=10, kernel=rbf, total=   0.0s\n",
            "[CV] C=1000, gamma=10, kernel=rbf ....................................\n",
            "[CV] ..................... C=1000, gamma=10, kernel=rbf, total=   0.0s\n",
            "[CV] C=1000, gamma=10, kernel=rbf ....................................\n",
            "[CV] ..................... C=1000, gamma=10, kernel=rbf, total=   0.0s\n",
            "[CV] C=1000, gamma=10, kernel=rbf ....................................\n",
            "[CV] ..................... C=1000, gamma=10, kernel=rbf, total=   0.0s\n",
            "[CV] C=1000, gamma=10, kernel=rbf ....................................\n",
            "[CV] ..................... C=1000, gamma=10, kernel=rbf, total=   0.0s\n",
            "[CV] C=1000, gamma=10, kernel=sigmoid ................................\n",
            "[CV] ................. C=1000, gamma=10, kernel=sigmoid, total=   0.0s\n",
            "[CV] C=1000, gamma=10, kernel=sigmoid ................................\n",
            "[CV] ................. C=1000, gamma=10, kernel=sigmoid, total=   0.0s\n",
            "[CV] C=1000, gamma=10, kernel=sigmoid ................................\n",
            "[CV] ................. C=1000, gamma=10, kernel=sigmoid, total=   0.0s\n",
            "[CV] C=1000, gamma=10, kernel=sigmoid ................................\n",
            "[CV] ................. C=1000, gamma=10, kernel=sigmoid, total=   0.0s\n",
            "[CV] C=1000, gamma=10, kernel=sigmoid ................................\n",
            "[CV] ................. C=1000, gamma=10, kernel=sigmoid, total=   0.0s\n"
          ],
          "name": "stdout"
        },
        {
          "output_type": "stream",
          "text": [
            "[Parallel(n_jobs=1)]: Done 240 out of 240 | elapsed: 55.9min finished\n"
          ],
          "name": "stderr"
        },
        {
          "output_type": "execute_result",
          "data": {
            "text/plain": [
              "GridSearchCV(cv=5, error_score=nan,\n",
              "             estimator=SVC(C=10, break_ties=False, cache_size=200,\n",
              "                           class_weight=None, coef0=0.0,\n",
              "                           decision_function_shape='ovr', degree=3,\n",
              "                           gamma='auto', kernel='rbf', max_iter=-1,\n",
              "                           probability=False, random_state=None, shrinking=True,\n",
              "                           tol=0.001, verbose=False),\n",
              "             iid='deprecated', n_jobs=None,\n",
              "             param_grid={'C': [0.1, 1, 100, 1000],\n",
              "                         'gamma': [0.001, 0.01, 0.1, 10],\n",
              "                         'kernel': ['linear', 'rbf', 'sigmoid']},\n",
              "             pre_dispatch='2*n_jobs', refit=True, return_train_score=False,\n",
              "             scoring=None, verbose=2)"
            ]
          },
          "metadata": {
            "tags": []
          },
          "execution_count": 122
        }
      ]
    },
    {
      "cell_type": "markdown",
      "metadata": {
        "id": "6AT7o4XQrycL"
      },
      "source": [
        "GridSearchCV using Cross validation to find the best hyper parameters\r\n",
        "This may take sometime\r\n"
      ]
    },
    {
      "cell_type": "code",
      "metadata": {
        "colab": {
          "base_uri": "https://localhost:8080/"
        },
        "id": "LlE-b9zKm7fv",
        "outputId": "2d24cc57-ec86-4883-8e78-a052a5b40217"
      },
      "source": [
        "gridSVC.best_params_"
      ],
      "execution_count": null,
      "outputs": [
        {
          "output_type": "execute_result",
          "data": {
            "text/plain": [
              "{'C': 100, 'gamma': 0.001, 'kernel': 'linear'}"
            ]
          },
          "metadata": {
            "tags": []
          },
          "execution_count": 123
        }
      ]
    },
    {
      "cell_type": "code",
      "metadata": {
        "id": "5vyiNnbNnpFm"
      },
      "source": [
        "predictionsGrid=gridSVC.predict(X_test)"
      ],
      "execution_count": null,
      "outputs": []
    },
    {
      "cell_type": "markdown",
      "metadata": {
        "id": "sFT9QBRQttFS"
      },
      "source": [
        "Predictions made using the best hyper parameters"
      ]
    },
    {
      "cell_type": "code",
      "metadata": {
        "colab": {
          "base_uri": "https://localhost:8080/"
        },
        "id": "tQE7up13o1VK",
        "outputId": "8e059230-ceb7-442a-e529-5f56ad548111"
      },
      "source": [
        "print(classification_report(y_test,predictionsGrid))"
      ],
      "execution_count": null,
      "outputs": [
        {
          "output_type": "stream",
          "text": [
            "              precision    recall  f1-score   support\n",
            "\n",
            "           0       0.80      0.90      0.85       136\n",
            "           1       0.81      0.66      0.73        87\n",
            "\n",
            "    accuracy                           0.81       223\n",
            "   macro avg       0.81      0.78      0.79       223\n",
            "weighted avg       0.81      0.81      0.80       223\n",
            "\n"
          ],
          "name": "stdout"
        }
      ]
    },
    {
      "cell_type": "markdown",
      "metadata": {
        "id": "U0C27I-j37wR"
      },
      "source": [
        "So we can get upto 80% accuracy using SVC\r\n",
        "In this case SVC was worse than Logistic Regression \r\n",
        "\r\n"
      ]
    },
    {
      "cell_type": "code",
      "metadata": {
        "id": "8A8Vqq7zo5dz"
      },
      "source": [
        "from sklearn.preprocessing import MinMaxScaler\r\n",
        "myScaler=MinMaxScaler()\r\n",
        "X_trainS=myScaler.fit_transform(X_train).values()\r\n",
        "X_testS=myScaler.transform(X_test).values()\r\n",
        "y_trainS=y_train.values()\r\n",
        "y_testS=y_test.values()\r\n"
      ],
      "execution_count": null,
      "outputs": []
    },
    {
      "cell_type": "code",
      "metadata": {
        "id": "ziMT2i9uz7yL"
      },
      "source": [
        "from tensorflow.keras.models import Sequential\r\n",
        "from tensorflow.keras.layers import Dense, Dropout\r\n"
      ],
      "execution_count": null,
      "outputs": []
    },
    {
      "cell_type": "code",
      "metadata": {
        "id": "VXxOg3Pm0HYQ"
      },
      "source": [
        "myTFmodel=Sequential([\r\n",
        "    Dense(8,activation='relu'),\r\n",
        "    Dropout(0.2)\r\n",
        "    Dense(4,activation='relu'),\r\n",
        "    Dropout(0.2)\r\n",
        "    Dense(2,activation='relu'),\r\n",
        "    Dropout(0.2)\r\n",
        "    Dense(1,activation='sigmoid')\r\n",
        "])\r\n"
      ],
      "execution_count": null,
      "outputs": []
    },
    {
      "cell_type": "code",
      "metadata": {
        "id": "kkC7nf1s1SzT"
      },
      "source": [
        "myTFmodel.compile(loss='binary_crossentropy',\r\n",
        "              optimizer='rmsprop',\r\n",
        "              metrics=['acc']')"
      ],
      "execution_count": null,
      "outputs": []
    },
    {
      "cell_type": "code",
      "metadata": {
        "id": "ylG-kZj61jkB"
      },
      "source": [
        "history=myTFmodel.fit(X_trainS,y_trainS,epochs=100,verbose=2,validation_data=(X_testS,y_testS))"
      ],
      "execution_count": null,
      "outputs": []
    },
    {
      "cell_type": "code",
      "metadata": {
        "id": "oaHzdOUa1ycW"
      },
      "source": [
        "acc = history.history['acc']\r\n",
        "val_acc = history.history['val_acc']\r\n",
        "loss = history.history['loss']\r\n",
        "val_loss = history.history['val_loss']\r\n",
        "\r\n",
        "epochs = range(len(acc))\r\n",
        "\r\n",
        "plt.plot(epochs, acc, 'r', label='Training accuracy')\r\n",
        "plt.plot(epochs, val_acc, 'b', label='Validation accuracy')\r\n",
        "plt.title('Training and validation accuracy')\r\n",
        "plt.legend(loc=0)\r\n",
        "plt.figure()\r\n",
        "\r\n",
        "\r\n",
        "plt.show()\r\n"
      ],
      "execution_count": null,
      "outputs": []
    }
  ]
}