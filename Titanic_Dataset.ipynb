{
  "nbformat": 4,
  "nbformat_minor": 0,
  "metadata": {
    "kernelspec": {
      "display_name": "Python 3",
      "language": "python",
      "name": "python3"
    },
    "language_info": {
      "codemirror_mode": {
        "name": "ipython",
        "version": 3
      },
      "file_extension": ".py",
      "mimetype": "text/x-python",
      "name": "python",
      "nbconvert_exporter": "python",
      "pygments_lexer": "ipython3",
      "version": "3.7.4"
    },
    "colab": {
      "name": "Titanic Dataset.ipynb",
      "provenance": [],
      "collapsed_sections": [],
      "include_colab_link": true
    }
  },
  "cells": [
    {
      "cell_type": "markdown",
      "metadata": {
        "id": "view-in-github",
        "colab_type": "text"
      },
      "source": [
        "<a href=\"https://colab.research.google.com/github/janjuatest/Titanic-Dataset/blob/main/Titanic_Dataset.ipynb\" target=\"_parent\"><img src=\"https://colab.research.google.com/assets/colab-badge.svg\" alt=\"Open In Colab\"/></a>"
      ]
    },
    {
      "cell_type": "markdown",
      "metadata": {
        "id": "E8oZoAOuVH85"
      },
      "source": [
        ""
      ]
    },
    {
      "cell_type": "markdown",
      "metadata": {
        "id": "ZfvlNjKnUl7t"
      },
      "source": [
        "Import the data manipulation/visualization libraries needed\r\n"
      ]
    },
    {
      "cell_type": "code",
      "metadata": {
        "id": "J3DFIR0uUILL"
      },
      "source": [
        "import pandas as pd\n",
        "import numpy as np\n",
        "import matplotlib.pyplot as plt\n",
        "import seaborn as sns\n",
        "%matplotlib inline"
      ],
      "execution_count": 1,
      "outputs": []
    },
    {
      "cell_type": "markdown",
      "metadata": {
        "id": "OiXIbBEkVNKl"
      },
      "source": [
        "Read the titanic dataset\r\n",
        "Please name the file as below i.e. titanic_train.csv"
      ]
    },
    {
      "cell_type": "code",
      "metadata": {
        "id": "9sQ5xfl9UeVO"
      },
      "source": [
        "df=pd.read_csv('titanic_train.csv')"
      ],
      "execution_count": 3,
      "outputs": []
    },
    {
      "cell_type": "markdown",
      "metadata": {
        "id": "fB34cr_aVZPJ"
      },
      "source": [
        "Check the dataframe information"
      ]
    },
    {
      "cell_type": "code",
      "metadata": {
        "colab": {
          "base_uri": "https://localhost:8080/"
        },
        "id": "kE_782DxUILW",
        "outputId": "fe70b11e-bd05-4e8d-9b1f-781df714c09d"
      },
      "source": [
        "df.info()"
      ],
      "execution_count": 4,
      "outputs": [
        {
          "output_type": "stream",
          "text": [
            "<class 'pandas.core.frame.DataFrame'>\n",
            "RangeIndex: 891 entries, 0 to 890\n",
            "Data columns (total 12 columns):\n",
            " #   Column       Non-Null Count  Dtype  \n",
            "---  ------       --------------  -----  \n",
            " 0   PassengerId  891 non-null    int64  \n",
            " 1   Survived     891 non-null    int64  \n",
            " 2   Pclass       891 non-null    int64  \n",
            " 3   Name         891 non-null    object \n",
            " 4   Sex          891 non-null    object \n",
            " 5   Age          714 non-null    float64\n",
            " 6   SibSp        891 non-null    int64  \n",
            " 7   Parch        891 non-null    int64  \n",
            " 8   Ticket       891 non-null    object \n",
            " 9   Fare         891 non-null    float64\n",
            " 10  Cabin        204 non-null    object \n",
            " 11  Embarked     889 non-null    object \n",
            "dtypes: float64(2), int64(5), object(5)\n",
            "memory usage: 83.7+ KB\n"
          ],
          "name": "stdout"
        }
      ]
    },
    {
      "cell_type": "code",
      "metadata": {
        "colab": {
          "base_uri": "https://localhost:8080/",
          "height": 255
        },
        "id": "wbIznK1TUILX",
        "outputId": "346ff5e3-82f0-4458-9ee1-6c2a7d7c6f6c"
      },
      "source": [
        "df.head()"
      ],
      "execution_count": 5,
      "outputs": [
        {
          "output_type": "execute_result",
          "data": {
            "text/html": [
              "<div>\n",
              "<style scoped>\n",
              "    .dataframe tbody tr th:only-of-type {\n",
              "        vertical-align: middle;\n",
              "    }\n",
              "\n",
              "    .dataframe tbody tr th {\n",
              "        vertical-align: top;\n",
              "    }\n",
              "\n",
              "    .dataframe thead th {\n",
              "        text-align: right;\n",
              "    }\n",
              "</style>\n",
              "<table border=\"1\" class=\"dataframe\">\n",
              "  <thead>\n",
              "    <tr style=\"text-align: right;\">\n",
              "      <th></th>\n",
              "      <th>PassengerId</th>\n",
              "      <th>Survived</th>\n",
              "      <th>Pclass</th>\n",
              "      <th>Name</th>\n",
              "      <th>Sex</th>\n",
              "      <th>Age</th>\n",
              "      <th>SibSp</th>\n",
              "      <th>Parch</th>\n",
              "      <th>Ticket</th>\n",
              "      <th>Fare</th>\n",
              "      <th>Cabin</th>\n",
              "      <th>Embarked</th>\n",
              "    </tr>\n",
              "  </thead>\n",
              "  <tbody>\n",
              "    <tr>\n",
              "      <th>0</th>\n",
              "      <td>1</td>\n",
              "      <td>0</td>\n",
              "      <td>3</td>\n",
              "      <td>Braund, Mr. Owen Harris</td>\n",
              "      <td>male</td>\n",
              "      <td>22.0</td>\n",
              "      <td>1</td>\n",
              "      <td>0</td>\n",
              "      <td>A/5 21171</td>\n",
              "      <td>7.2500</td>\n",
              "      <td>NaN</td>\n",
              "      <td>S</td>\n",
              "    </tr>\n",
              "    <tr>\n",
              "      <th>1</th>\n",
              "      <td>2</td>\n",
              "      <td>1</td>\n",
              "      <td>1</td>\n",
              "      <td>Cumings, Mrs. John Bradley (Florence Briggs Th...</td>\n",
              "      <td>female</td>\n",
              "      <td>38.0</td>\n",
              "      <td>1</td>\n",
              "      <td>0</td>\n",
              "      <td>PC 17599</td>\n",
              "      <td>71.2833</td>\n",
              "      <td>C85</td>\n",
              "      <td>C</td>\n",
              "    </tr>\n",
              "    <tr>\n",
              "      <th>2</th>\n",
              "      <td>3</td>\n",
              "      <td>1</td>\n",
              "      <td>3</td>\n",
              "      <td>Heikkinen, Miss. Laina</td>\n",
              "      <td>female</td>\n",
              "      <td>26.0</td>\n",
              "      <td>0</td>\n",
              "      <td>0</td>\n",
              "      <td>STON/O2. 3101282</td>\n",
              "      <td>7.9250</td>\n",
              "      <td>NaN</td>\n",
              "      <td>S</td>\n",
              "    </tr>\n",
              "    <tr>\n",
              "      <th>3</th>\n",
              "      <td>4</td>\n",
              "      <td>1</td>\n",
              "      <td>1</td>\n",
              "      <td>Futrelle, Mrs. Jacques Heath (Lily May Peel)</td>\n",
              "      <td>female</td>\n",
              "      <td>35.0</td>\n",
              "      <td>1</td>\n",
              "      <td>0</td>\n",
              "      <td>113803</td>\n",
              "      <td>53.1000</td>\n",
              "      <td>C123</td>\n",
              "      <td>S</td>\n",
              "    </tr>\n",
              "    <tr>\n",
              "      <th>4</th>\n",
              "      <td>5</td>\n",
              "      <td>0</td>\n",
              "      <td>3</td>\n",
              "      <td>Allen, Mr. William Henry</td>\n",
              "      <td>male</td>\n",
              "      <td>35.0</td>\n",
              "      <td>0</td>\n",
              "      <td>0</td>\n",
              "      <td>373450</td>\n",
              "      <td>8.0500</td>\n",
              "      <td>NaN</td>\n",
              "      <td>S</td>\n",
              "    </tr>\n",
              "  </tbody>\n",
              "</table>\n",
              "</div>"
            ],
            "text/plain": [
              "   PassengerId  Survived  Pclass  ...     Fare Cabin  Embarked\n",
              "0            1         0       3  ...   7.2500   NaN         S\n",
              "1            2         1       1  ...  71.2833   C85         C\n",
              "2            3         1       3  ...   7.9250   NaN         S\n",
              "3            4         1       1  ...  53.1000  C123         S\n",
              "4            5         0       3  ...   8.0500   NaN         S\n",
              "\n",
              "[5 rows x 12 columns]"
            ]
          },
          "metadata": {
            "tags": []
          },
          "execution_count": 5
        }
      ]
    },
    {
      "cell_type": "markdown",
      "metadata": {
        "id": "26edQDecVmQD"
      },
      "source": [
        "Check data frame for missing elements N/A values"
      ]
    },
    {
      "cell_type": "code",
      "metadata": {
        "colab": {
          "base_uri": "https://localhost:8080/",
          "height": 333
        },
        "id": "g1NhQ9Q1UILY",
        "outputId": "4ac2ecff-905b-4d33-87bb-d2f039297a4d"
      },
      "source": [
        "sns.heatmap(df.isnull(),yticklabels=False,cbar=False, cmap='viridis')"
      ],
      "execution_count": 6,
      "outputs": [
        {
          "output_type": "execute_result",
          "data": {
            "text/plain": [
              "<matplotlib.axes._subplots.AxesSubplot at 0x7fc67cb18b00>"
            ]
          },
          "metadata": {
            "tags": []
          },
          "execution_count": 6
        },
        {
          "output_type": "display_data",
          "data": {
            "image/png": "[encoded data removed]",
            "text/plain": [
              "<Figure size 432x288 with 1 Axes>"
            ]
          },
          "metadata": {
            "tags": [],
            "needs_background": "light"
          }
        }
      ]
    },
    {
      "cell_type": "markdown",
      "metadata": {
        "id": "ceaQ95cvV6em"
      },
      "source": [
        "As can be seen above Cabin column has a lot of missing data. We can count the exact elements missing as follows"
      ]
    },
    {
      "cell_type": "code",
      "metadata": {
        "colab": {
          "base_uri": "https://localhost:8080/"
        },
        "id": "70DHW1LLUILZ",
        "outputId": "88ab0ecb-b5c3-4953-ee8d-955cfd2c8fdf"
      },
      "source": [
        "df.isnull().sum()"
      ],
      "execution_count": 7,
      "outputs": [
        {
          "output_type": "execute_result",
          "data": {
            "text/plain": [
              "PassengerId      0\n",
              "Survived         0\n",
              "Pclass           0\n",
              "Name             0\n",
              "Sex              0\n",
              "Age            177\n",
              "SibSp            0\n",
              "Parch            0\n",
              "Ticket           0\n",
              "Fare             0\n",
              "Cabin          687\n",
              "Embarked         2\n",
              "dtype: int64"
            ]
          },
          "metadata": {
            "tags": []
          },
          "execution_count": 7
        }
      ]
    },
    {
      "cell_type": "markdown",
      "metadata": {
        "id": "6fKEWn0lWMJJ"
      },
      "source": [
        "We can drop the Cabin columns since its mostly empty"
      ]
    },
    {
      "cell_type": "code",
      "metadata": {
        "id": "_khyEP37UILZ"
      },
      "source": [
        "df.drop('Cabin',axis=1,inplace=True)"
      ],
      "execution_count": 8,
      "outputs": []
    },
    {
      "cell_type": "code",
      "metadata": {
        "colab": {
          "base_uri": "https://localhost:8080/"
        },
        "id": "twQXt2xmWVZg",
        "outputId": "9259e53e-5d5f-48d6-cb61-a975c0b5669d"
      },
      "source": [
        "df.isnull().sum()"
      ],
      "execution_count": 9,
      "outputs": [
        {
          "output_type": "execute_result",
          "data": {
            "text/plain": [
              "PassengerId      0\n",
              "Survived         0\n",
              "Pclass           0\n",
              "Name             0\n",
              "Sex              0\n",
              "Age            177\n",
              "SibSp            0\n",
              "Parch            0\n",
              "Ticket           0\n",
              "Fare             0\n",
              "Embarked         2\n",
              "dtype: int64"
            ]
          },
          "metadata": {
            "tags": []
          },
          "execution_count": 9
        }
      ]
    },
    {
      "cell_type": "markdown",
      "metadata": {
        "id": "21pA9R5TWjdO"
      },
      "source": [
        "Lets look at the target column i.e. 'Survived'. This is what we are trying to predict"
      ]
    },
    {
      "cell_type": "code",
      "metadata": {
        "colab": {
          "base_uri": "https://localhost:8080/",
          "height": 296
        },
        "id": "YdM1Mg-AWsoK",
        "outputId": "819060e2-ca0e-478d-e8a1-0e5c38c60a83"
      },
      "source": [
        "sns.countplot(data=df,x='Survived')"
      ],
      "execution_count": null,
      "outputs": [
        {
          "output_type": "execute_result",
          "data": {
            "text/plain": [
              "<matplotlib.axes._subplots.AxesSubplot at 0x7f38e8a37f98>"
            ]
          },
          "metadata": {
            "tags": []
          },
          "execution_count": 15
        },
        {
          "output_type": "display_data",
          "data": {
            "image/png": "[encoded data removed]",
            "text/plain": [
              "<Figure size 432x288 with 1 Axes>"
            ]
          },
          "metadata": {
            "tags": [],
            "needs_background": "light"
          }
        }
      ]
    },
    {
      "cell_type": "markdown",
      "metadata": {
        "id": "ia7UhIheW7gU"
      },
      "source": [
        "Data is unbalanced but usable"
      ]
    },
    {
      "cell_type": "markdown",
      "metadata": {
        "id": "9Ppddad7XFxw"
      },
      "source": [
        "Lets do some more EDA"
      ]
    },
    {
      "cell_type": "code",
      "metadata": {
        "colab": {
          "base_uri": "https://localhost:8080/",
          "height": 296
        },
        "id": "761j0e_9WiIh",
        "outputId": "bce2e555-3f7e-4c33-f6f8-226ee45ca55b"
      },
      "source": [
        "sns.countplot(x='Sex',data=df,hue='Survived')"
      ],
      "execution_count": null,
      "outputs": [
        {
          "output_type": "execute_result",
          "data": {
            "text/plain": [
              "<matplotlib.axes._subplots.AxesSubplot at 0x7f38e0ceb978>"
            ]
          },
          "metadata": {
            "tags": []
          },
          "execution_count": 16
        },
        {
          "output_type": "display_data",
          "data": {
            "image/png": "[encoded data removed]",
            "text/plain": [
              "<Figure size 432x288 with 1 Axes>"
            ]
          },
          "metadata": {
            "tags": [],
            "needs_background": "light"
          }
        }
      ]
    },
    {
      "cell_type": "markdown",
      "metadata": {
        "id": "b2DT0KCYXL-o"
      },
      "source": [
        "As can be seen above there is clearly a higher survival rate for female passengers\r\n"
      ]
    },
    {
      "cell_type": "code",
      "metadata": {
        "colab": {
          "base_uri": "https://localhost:8080/",
          "height": 296
        },
        "id": "UPf_AfwxUILa",
        "outputId": "ad8d66fe-5938-4390-c4d7-3d3e98249001"
      },
      "source": [
        "sns.countplot(x='Pclass',data=df,hue='Survived')"
      ],
      "execution_count": null,
      "outputs": [
        {
          "output_type": "execute_result",
          "data": {
            "text/plain": [
              "<matplotlib.axes._subplots.AxesSubplot at 0x7f38e0a85e48>"
            ]
          },
          "metadata": {
            "tags": []
          },
          "execution_count": 17
        },
        {
          "output_type": "display_data",
          "data": {
            "image/png": "[encoded data removed]",
            "text/plain": [
              "<Figure size 432x288 with 1 Axes>"
            ]
          },
          "metadata": {
            "tags": [],
            "needs_background": "light"
          }
        }
      ]
    },
    {
      "cell_type": "markdown",
      "metadata": {
        "id": "lgSgPUPNXWx6"
      },
      "source": [
        "As can be seen above there is a lower survival rate for passengers from Class 3. These are important columns for machine learning algorithm"
      ]
    },
    {
      "cell_type": "code",
      "metadata": {
        "colab": {
          "base_uri": "https://localhost:8080/",
          "height": 296
        },
        "id": "LI6T23YnUILa",
        "outputId": "92dfb591-c12e-4b97-fb56-eca32aabb77b"
      },
      "source": [
        "sns.histplot(df[df['Survived']==1]['Age'],bins=30,color='green',kde=True)\r\n",
        "sns.histplot(df[df['Survived']==0]['Age'],bins=30,color='red',kde=True)"
      ],
      "execution_count": null,
      "outputs": [
        {
          "output_type": "execute_result",
          "data": {
            "text/plain": [
              "<matplotlib.axes._subplots.AxesSubplot at 0x7f38e074f3c8>"
            ]
          },
          "metadata": {
            "tags": []
          },
          "execution_count": 26
        },
        {
          "output_type": "display_data",
          "data": {
            "image/png": "[encoded data removed]",
            "text/plain": [
              "<Figure size 432x288 with 1 Axes>"
            ]
          },
          "metadata": {
            "tags": [],
            "needs_background": "light"
          }
        }
      ]
    },
    {
      "cell_type": "markdown",
      "metadata": {
        "id": "MnDiIiUZbMlZ"
      },
      "source": [
        "As can be seen above, age also has an impact. Notice the double bump for infants in passengers survived"
      ]
    },
    {
      "cell_type": "code",
      "metadata": {
        "colab": {
          "base_uri": "https://localhost:8080/",
          "height": 296
        },
        "id": "tw9X9mg6UILb",
        "outputId": "074a4f0c-a554-432f-dfe4-080fe4cfdf71"
      },
      "source": [
        "sns.histplot(df[df['Survived']==1]['Fare'],bins=30,color='green',kde=True)\r\n",
        "sns.histplot(df[df['Survived']==0]['Fare'],bins=30,color='red',kde=True)"
      ],
      "execution_count": null,
      "outputs": [
        {
          "output_type": "execute_result",
          "data": {
            "text/plain": [
              "<matplotlib.axes._subplots.AxesSubplot at 0x7f38e059bbe0>"
            ]
          },
          "metadata": {
            "tags": []
          },
          "execution_count": 27
        },
        {
          "output_type": "display_data",
          "data": {
            "image/png": "[encoded data removed]",
            "text/plain": [
              "<Figure size 432x288 with 1 Axes>"
            ]
          },
          "metadata": {
            "tags": [],
            "needs_background": "light"
          }
        }
      ]
    },
    {
      "cell_type": "markdown",
      "metadata": {
        "id": "OVb8ejmLbiOV"
      },
      "source": [
        "Not much effect of Fares on Survival"
      ]
    },
    {
      "cell_type": "code",
      "metadata": {
        "colab": {
          "base_uri": "https://localhost:8080/",
          "height": 337
        },
        "id": "SCKc1aSXUILd",
        "outputId": "5cde843b-dae3-42f9-9ec3-3d4a4d45bea9"
      },
      "source": [
        "sns.heatmap(df.isnull())"
      ],
      "execution_count": 10,
      "outputs": [
        {
          "output_type": "execute_result",
          "data": {
            "text/plain": [
              "<matplotlib.axes._subplots.AxesSubplot at 0x7fc67a28bc18>"
            ]
          },
          "metadata": {
            "tags": []
          },
          "execution_count": 10
        },
        {
          "output_type": "display_data",
          "data": {
            "image/png": "[encoded data removed]",
            "text/plain": [
              "<Figure size 432x288 with 2 Axes>"
            ]
          },
          "metadata": {
            "tags": [],
            "needs_background": "light"
          }
        }
      ]
    },
    {
      "cell_type": "markdown",
      "metadata": {
        "id": "BERKTQLbbuWh"
      },
      "source": [
        "Age column has some missing data"
      ]
    },
    {
      "cell_type": "code",
      "metadata": {
        "colab": {
          "base_uri": "https://localhost:8080/"
        },
        "id": "IeJzUaONUILd",
        "outputId": "bdaf8ee5-dc4b-4ff3-b8e5-49fe16334a9a"
      },
      "source": [
        "print(df[df['Pclass']==1]['Age'].mean())\r\n",
        "print(df[df['Pclass']==2]['Age'].mean())\r\n",
        "print(df[df['Pclass']==3]['Age'].mean())"
      ],
      "execution_count": 11,
      "outputs": [
        {
          "output_type": "stream",
          "text": [
            "38.233440860215055\n",
            "29.87763005780347\n",
            "25.14061971830986\n"
          ],
          "name": "stdout"
        }
      ]
    },
    {
      "cell_type": "code",
      "metadata": {
        "colab": {
          "base_uri": "https://localhost:8080/",
          "height": 296
        },
        "id": "k9YO_FQJUILe",
        "outputId": "16edb4d7-3f90-4f36-b750-db859d55fe4f"
      },
      "source": [
        "sns.boxplot(x='Pclass',y='Age',data=df)"
      ],
      "execution_count": null,
      "outputs": [
        {
          "output_type": "execute_result",
          "data": {
            "text/plain": [
              "<matplotlib.axes._subplots.AxesSubplot at 0x7f38df5b19e8>"
            ]
          },
          "metadata": {
            "tags": []
          },
          "execution_count": 30
        },
        {
          "output_type": "display_data",
          "data": {
            "image/png": "[encoded data removed]",
            "text/plain": [
              "<Figure size 432x288 with 1 Axes>"
            ]
          },
          "metadata": {
            "tags": [],
            "needs_background": "light"
          }
        }
      ]
    },
    {
      "cell_type": "markdown",
      "metadata": {
        "id": "RHb2AxMDb3Lk"
      },
      "source": [
        "Age and Passenger Class has some correlation"
      ]
    },
    {
      "cell_type": "markdown",
      "metadata": {
        "id": "TlcWi5tjb-aF"
      },
      "source": [
        "Lets fill the Nulls in Age column with average values for each passenger class"
      ]
    },
    {
      "cell_type": "code",
      "metadata": {
        "id": "-_bs6sfPUILe"
      },
      "source": [
        "cd=df[['Age','Pclass']]"
      ],
      "execution_count": 12,
      "outputs": []
    },
    {
      "cell_type": "code",
      "metadata": {
        "colab": {
          "base_uri": "https://localhost:8080/",
          "height": 419
        },
        "id": "3oZOMC3rUILf",
        "outputId": "3a93c7a8-ba42-4d0c-8182-041b3fd147b9"
      },
      "source": [
        "cd"
      ],
      "execution_count": 13,
      "outputs": [
        {
          "output_type": "execute_result",
          "data": {
            "text/html": [
              "<div>\n",
              "<style scoped>\n",
              "    .dataframe tbody tr th:only-of-type {\n",
              "        vertical-align: middle;\n",
              "    }\n",
              "\n",
              "    .dataframe tbody tr th {\n",
              "        vertical-align: top;\n",
              "    }\n",
              "\n",
              "    .dataframe thead th {\n",
              "        text-align: right;\n",
              "    }\n",
              "</style>\n",
              "<table border=\"1\" class=\"dataframe\">\n",
              "  <thead>\n",
              "    <tr style=\"text-align: right;\">\n",
              "      <th></th>\n",
              "      <th>Age</th>\n",
              "      <th>Pclass</th>\n",
              "    </tr>\n",
              "  </thead>\n",
              "  <tbody>\n",
              "    <tr>\n",
              "      <th>0</th>\n",
              "      <td>22.0</td>\n",
              "      <td>3</td>\n",
              "    </tr>\n",
              "    <tr>\n",
              "      <th>1</th>\n",
              "      <td>38.0</td>\n",
              "      <td>1</td>\n",
              "    </tr>\n",
              "    <tr>\n",
              "      <th>2</th>\n",
              "      <td>26.0</td>\n",
              "      <td>3</td>\n",
              "    </tr>\n",
              "    <tr>\n",
              "      <th>3</th>\n",
              "      <td>35.0</td>\n",
              "      <td>1</td>\n",
              "    </tr>\n",
              "    <tr>\n",
              "      <th>4</th>\n",
              "      <td>35.0</td>\n",
              "      <td>3</td>\n",
              "    </tr>\n",
              "    <tr>\n",
              "      <th>...</th>\n",
              "      <td>...</td>\n",
              "      <td>...</td>\n",
              "    </tr>\n",
              "    <tr>\n",
              "      <th>886</th>\n",
              "      <td>27.0</td>\n",
              "      <td>2</td>\n",
              "    </tr>\n",
              "    <tr>\n",
              "      <th>887</th>\n",
              "      <td>19.0</td>\n",
              "      <td>1</td>\n",
              "    </tr>\n",
              "    <tr>\n",
              "      <th>888</th>\n",
              "      <td>NaN</td>\n",
              "      <td>3</td>\n",
              "    </tr>\n",
              "    <tr>\n",
              "      <th>889</th>\n",
              "      <td>26.0</td>\n",
              "      <td>1</td>\n",
              "    </tr>\n",
              "    <tr>\n",
              "      <th>890</th>\n",
              "      <td>32.0</td>\n",
              "      <td>3</td>\n",
              "    </tr>\n",
              "  </tbody>\n",
              "</table>\n",
              "<p>891 rows × 2 columns</p>\n",
              "</div>"
            ],
            "text/plain": [
              "      Age  Pclass\n",
              "0    22.0       3\n",
              "1    38.0       1\n",
              "2    26.0       3\n",
              "3    35.0       1\n",
              "4    35.0       3\n",
              "..    ...     ...\n",
              "886  27.0       2\n",
              "887  19.0       1\n",
              "888   NaN       3\n",
              "889  26.0       1\n",
              "890  32.0       3\n",
              "\n",
              "[891 rows x 2 columns]"
            ]
          },
          "metadata": {
            "tags": []
          },
          "execution_count": 13
        }
      ]
    },
    {
      "cell_type": "markdown",
      "metadata": {
        "id": "EhFQ_ePfeNPz"
      },
      "source": [
        "Function to replace NaN values in Age column with average age of Passenger Class"
      ]
    },
    {
      "cell_type": "code",
      "metadata": {
        "id": "kCt6OWNdUILf"
      },
      "source": [
        "def fillage(pair):\n",
        "    Age=pair[0]\n",
        "    Class=pair[1]\n",
        "    \n",
        "    if pd.isnull(Age):\n",
        "        if Class==1:\n",
        "            return 38\n",
        "        elif Class==2:\n",
        "            return 30\n",
        "        else:\n",
        "            return 25\n",
        "    else:\n",
        "        return Age"
      ],
      "execution_count": 14,
      "outputs": []
    },
    {
      "cell_type": "markdown",
      "metadata": {
        "id": "Au0VKLUQe4N9"
      },
      "source": [
        "Replace Nan with mean age"
      ]
    },
    {
      "cell_type": "code",
      "metadata": {
        "id": "VXVZoQL9UILf"
      },
      "source": [
        "df['Age']=df[['Age','Pclass']].apply(fillage,axis=1)"
      ],
      "execution_count": 15,
      "outputs": []
    },
    {
      "cell_type": "code",
      "metadata": {
        "colab": {
          "base_uri": "https://localhost:8080/",
          "height": 337
        },
        "id": "RVmh8bpVUILg",
        "outputId": "a07c1c42-1f7e-4071-d099-83226f409414"
      },
      "source": [
        "sns.heatmap(df.isnull())"
      ],
      "execution_count": 16,
      "outputs": [
        {
          "output_type": "execute_result",
          "data": {
            "text/plain": [
              "<matplotlib.axes._subplots.AxesSubplot at 0x7fc67ccd49e8>"
            ]
          },
          "metadata": {
            "tags": []
          },
          "execution_count": 16
        },
        {
          "output_type": "display_data",
          "data": {
            "image/png": "[encoded data removed]",
            "text/plain": [
              "<Figure size 432x288 with 2 Axes>"
            ]
          },
          "metadata": {
            "tags": [],
            "needs_background": "light"
          }
        }
      ]
    },
    {
      "cell_type": "code",
      "metadata": {
        "colab": {
          "base_uri": "https://localhost:8080/"
        },
        "id": "fizRk_laUILg",
        "outputId": "2654da95-cfdc-4b2f-feff-6736ccfccc90"
      },
      "source": [
        "df.isnull().sum()"
      ],
      "execution_count": 17,
      "outputs": [
        {
          "output_type": "execute_result",
          "data": {
            "text/plain": [
              "PassengerId    0\n",
              "Survived       0\n",
              "Pclass         0\n",
              "Name           0\n",
              "Sex            0\n",
              "Age            0\n",
              "SibSp          0\n",
              "Parch          0\n",
              "Ticket         0\n",
              "Fare           0\n",
              "Embarked       2\n",
              "dtype: int64"
            ]
          },
          "metadata": {
            "tags": []
          },
          "execution_count": 17
        }
      ]
    },
    {
      "cell_type": "code",
      "metadata": {
        "id": "YUGEczAAUILg"
      },
      "source": [
        "df.dropna(inplace=True)"
      ],
      "execution_count": 18,
      "outputs": []
    },
    {
      "cell_type": "code",
      "metadata": {
        "colab": {
          "base_uri": "https://localhost:8080/"
        },
        "id": "7RzD8oTBUILh",
        "outputId": "764014f2-82c1-44da-ecb2-2bb316dec260"
      },
      "source": [
        "df.isnull().sum()"
      ],
      "execution_count": null,
      "outputs": [
        {
          "output_type": "execute_result",
          "data": {
            "text/plain": [
              "PassengerId    0\n",
              "Survived       0\n",
              "Pclass         0\n",
              "Name           0\n",
              "Sex            0\n",
              "Age            0\n",
              "SibSp          0\n",
              "Parch          0\n",
              "Ticket         0\n",
              "Fare           0\n",
              "Embarked       0\n",
              "dtype: int64"
            ]
          },
          "metadata": {
            "tags": []
          },
          "execution_count": 55
        }
      ]
    },
    {
      "cell_type": "markdown",
      "metadata": {
        "id": "rFOpH4BAfSVm"
      },
      "source": [
        "All nulls have been replaced or dropped now"
      ]
    },
    {
      "cell_type": "markdown",
      "metadata": {
        "id": "Ory39NbNfaWQ"
      },
      "source": [
        "Now lets look at the the columns"
      ]
    },
    {
      "cell_type": "markdown",
      "metadata": {
        "id": "-4kUSTVZfjt2"
      },
      "source": [
        "Lets convert sex column into boolean"
      ]
    },
    {
      "cell_type": "code",
      "metadata": {
        "id": "K4PpInpYUILi"
      },
      "source": [
        "df=pd.get_dummies(df,columns=['Sex'],drop_first=True)"
      ],
      "execution_count": 19,
      "outputs": []
    },
    {
      "cell_type": "code",
      "metadata": {
        "colab": {
          "base_uri": "https://localhost:8080/"
        },
        "id": "0l_pVifrf8JN",
        "outputId": "c2ce0c9f-4f1b-48fe-dffe-e1d594ed1ea8"
      },
      "source": [
        "df.columns"
      ],
      "execution_count": 20,
      "outputs": [
        {
          "output_type": "execute_result",
          "data": {
            "text/plain": [
              "Index(['PassengerId', 'Survived', 'Pclass', 'Name', 'Age', 'SibSp', 'Parch',\n",
              "       'Ticket', 'Fare', 'Embarked', 'Sex_male'],\n",
              "      dtype='object')"
            ]
          },
          "metadata": {
            "tags": []
          },
          "execution_count": 20
        }
      ]
    },
    {
      "cell_type": "markdown",
      "metadata": {
        "id": "LYVpep1CglOJ"
      },
      "source": [
        "Sex column has now been converted into a Boolean"
      ]
    },
    {
      "cell_type": "code",
      "metadata": {
        "colab": {
          "base_uri": "https://localhost:8080/"
        },
        "id": "C64bRD4ygrWK",
        "outputId": "9978bf5f-5acb-4328-f41d-5c220cb83112"
      },
      "source": [
        "df['Embarked'].value_counts()"
      ],
      "execution_count": 21,
      "outputs": [
        {
          "output_type": "execute_result",
          "data": {
            "text/plain": [
              "S    644\n",
              "C    168\n",
              "Q     77\n",
              "Name: Embarked, dtype: int64"
            ]
          },
          "metadata": {
            "tags": []
          },
          "execution_count": 21
        }
      ]
    },
    {
      "cell_type": "markdown",
      "metadata": {
        "id": "Y8XE_Bsog0qg"
      },
      "source": [
        "Lets now look at the Embarked column. It has three different values. Lets also convert them into boolean columns"
      ]
    },
    {
      "cell_type": "code",
      "metadata": {
        "id": "3rCcoIwhUILi"
      },
      "source": [
        "df=pd.get_dummies(df,columns=['Embarked'],drop_first=True)"
      ],
      "execution_count": 22,
      "outputs": []
    },
    {
      "cell_type": "code",
      "metadata": {
        "colab": {
          "base_uri": "https://localhost:8080/"
        },
        "id": "k4Lx5E8PUILi",
        "outputId": "7f246d0e-4200-43b1-908c-1a12bbe38795"
      },
      "source": [
        "df.columns"
      ],
      "execution_count": 23,
      "outputs": [
        {
          "output_type": "execute_result",
          "data": {
            "text/plain": [
              "Index(['PassengerId', 'Survived', 'Pclass', 'Name', 'Age', 'SibSp', 'Parch',\n",
              "       'Ticket', 'Fare', 'Sex_male', 'Embarked_Q', 'Embarked_S'],\n",
              "      dtype='object')"
            ]
          },
          "metadata": {
            "tags": []
          },
          "execution_count": 23
        }
      ]
    },
    {
      "cell_type": "code",
      "metadata": {
        "colab": {
          "base_uri": "https://localhost:8080/"
        },
        "id": "JvO3fXh3UILj",
        "outputId": "dbc066b0-67cc-457d-ea93-4a0284bbe0e7"
      },
      "source": [
        "df['Ticket'].value_counts()"
      ],
      "execution_count": null,
      "outputs": [
        {
          "output_type": "execute_result",
          "data": {
            "text/plain": [
              "347082      7\n",
              "CA. 2343    7\n",
              "1601        7\n",
              "347088      6\n",
              "CA 2144     6\n",
              "           ..\n",
              "349247      1\n",
              "350046      1\n",
              "244373      1\n",
              "113794      1\n",
              "3101298     1\n",
              "Name: Ticket, Length: 680, dtype: int64"
            ]
          },
          "metadata": {
            "tags": []
          },
          "execution_count": 62
        }
      ]
    },
    {
      "cell_type": "markdown",
      "metadata": {
        "id": "zRexjjNThNZ2"
      },
      "source": [
        "The Ticket and Name columns dont have any important categories so can be dropped"
      ]
    },
    {
      "cell_type": "code",
      "metadata": {
        "id": "weP-JhESUILj"
      },
      "source": [
        "df.drop(['Ticket','Name'],axis=1,inplace=True)"
      ],
      "execution_count": 24,
      "outputs": []
    },
    {
      "cell_type": "code",
      "metadata": {
        "colab": {
          "base_uri": "https://localhost:8080/",
          "height": 204
        },
        "id": "gFizoWagUILj",
        "outputId": "c715cd88-a862-45d1-c317-7d46566f0162"
      },
      "source": [
        "df.head()"
      ],
      "execution_count": null,
      "outputs": [
        {
          "output_type": "execute_result",
          "data": {
            "text/html": [
              "<div>\n",
              "<style scoped>\n",
              "    .dataframe tbody tr th:only-of-type {\n",
              "        vertical-align: middle;\n",
              "    }\n",
              "\n",
              "    .dataframe tbody tr th {\n",
              "        vertical-align: top;\n",
              "    }\n",
              "\n",
              "    .dataframe thead th {\n",
              "        text-align: right;\n",
              "    }\n",
              "</style>\n",
              "<table border=\"1\" class=\"dataframe\">\n",
              "  <thead>\n",
              "    <tr style=\"text-align: right;\">\n",
              "      <th></th>\n",
              "      <th>PassengerId</th>\n",
              "      <th>Survived</th>\n",
              "      <th>Pclass</th>\n",
              "      <th>Age</th>\n",
              "      <th>SibSp</th>\n",
              "      <th>Parch</th>\n",
              "      <th>Fare</th>\n",
              "      <th>Sex_male</th>\n",
              "      <th>Embarked_Q</th>\n",
              "      <th>Embarked_S</th>\n",
              "    </tr>\n",
              "  </thead>\n",
              "  <tbody>\n",
              "    <tr>\n",
              "      <th>0</th>\n",
              "      <td>1</td>\n",
              "      <td>0</td>\n",
              "      <td>3</td>\n",
              "      <td>22.0</td>\n",
              "      <td>1</td>\n",
              "      <td>0</td>\n",
              "      <td>7.2500</td>\n",
              "      <td>1</td>\n",
              "      <td>0</td>\n",
              "      <td>1</td>\n",
              "    </tr>\n",
              "    <tr>\n",
              "      <th>1</th>\n",
              "      <td>2</td>\n",
              "      <td>1</td>\n",
              "      <td>1</td>\n",
              "      <td>38.0</td>\n",
              "      <td>1</td>\n",
              "      <td>0</td>\n",
              "      <td>71.2833</td>\n",
              "      <td>0</td>\n",
              "      <td>0</td>\n",
              "      <td>0</td>\n",
              "    </tr>\n",
              "    <tr>\n",
              "      <th>2</th>\n",
              "      <td>3</td>\n",
              "      <td>1</td>\n",
              "      <td>3</td>\n",
              "      <td>26.0</td>\n",
              "      <td>0</td>\n",
              "      <td>0</td>\n",
              "      <td>7.9250</td>\n",
              "      <td>0</td>\n",
              "      <td>0</td>\n",
              "      <td>1</td>\n",
              "    </tr>\n",
              "    <tr>\n",
              "      <th>3</th>\n",
              "      <td>4</td>\n",
              "      <td>1</td>\n",
              "      <td>1</td>\n",
              "      <td>35.0</td>\n",
              "      <td>1</td>\n",
              "      <td>0</td>\n",
              "      <td>53.1000</td>\n",
              "      <td>0</td>\n",
              "      <td>0</td>\n",
              "      <td>1</td>\n",
              "    </tr>\n",
              "    <tr>\n",
              "      <th>4</th>\n",
              "      <td>5</td>\n",
              "      <td>0</td>\n",
              "      <td>3</td>\n",
              "      <td>35.0</td>\n",
              "      <td>0</td>\n",
              "      <td>0</td>\n",
              "      <td>8.0500</td>\n",
              "      <td>1</td>\n",
              "      <td>0</td>\n",
              "      <td>1</td>\n",
              "    </tr>\n",
              "  </tbody>\n",
              "</table>\n",
              "</div>"
            ],
            "text/plain": [
              "   PassengerId  Survived  Pclass  ...  Sex_male  Embarked_Q  Embarked_S\n",
              "0            1         0       3  ...         1           0           1\n",
              "1            2         1       1  ...         0           0           0\n",
              "2            3         1       3  ...         0           0           1\n",
              "3            4         1       1  ...         0           0           1\n",
              "4            5         0       3  ...         1           0           1\n",
              "\n",
              "[5 rows x 10 columns]"
            ]
          },
          "metadata": {
            "tags": []
          },
          "execution_count": 64
        }
      ]
    },
    {
      "cell_type": "code",
      "metadata": {
        "id": "TgOVzt56UILk"
      },
      "source": [
        "df.drop('PassengerId',axis=1,inplace=True)"
      ],
      "execution_count": 25,
      "outputs": []
    },
    {
      "cell_type": "markdown",
      "metadata": {
        "id": "qQ0C4Bjphaae"
      },
      "source": [
        "Passenger Id is also just an index so should be dropped"
      ]
    },
    {
      "cell_type": "code",
      "metadata": {
        "colab": {
          "base_uri": "https://localhost:8080/"
        },
        "id": "RFU9K2lQUILk",
        "outputId": "dcd1ddcf-6e60-4965-dc91-045c90723d75"
      },
      "source": [
        "len (df)"
      ],
      "execution_count": 26,
      "outputs": [
        {
          "output_type": "execute_result",
          "data": {
            "text/plain": [
              "889"
            ]
          },
          "metadata": {
            "tags": []
          },
          "execution_count": 26
        }
      ]
    },
    {
      "cell_type": "code",
      "metadata": {
        "colab": {
          "base_uri": "https://localhost:8080/"
        },
        "id": "mp5AsESyWmWa",
        "outputId": "95828778-0fad-44d4-ff7b-0adb1763ee9c"
      },
      "source": [
        "df.columns"
      ],
      "execution_count": 27,
      "outputs": [
        {
          "output_type": "execute_result",
          "data": {
            "text/plain": [
              "Index(['Survived', 'Pclass', 'Age', 'SibSp', 'Parch', 'Fare', 'Sex_male',\n",
              "       'Embarked_Q', 'Embarked_S'],\n",
              "      dtype='object')"
            ]
          },
          "metadata": {
            "tags": []
          },
          "execution_count": 27
        }
      ]
    },
    {
      "cell_type": "code",
      "metadata": {
        "colab": {
          "base_uri": "https://localhost:8080/"
        },
        "id": "-BOUPhyLWwfK",
        "outputId": "544e4aaa-c2ad-4124-f910-7e00b2c29883"
      },
      "source": [
        "df['SibSp'].value_counts()"
      ],
      "execution_count": 28,
      "outputs": [
        {
          "output_type": "execute_result",
          "data": {
            "text/plain": [
              "0    606\n",
              "1    209\n",
              "2     28\n",
              "4     18\n",
              "3     16\n",
              "8      7\n",
              "5      5\n",
              "Name: SibSp, dtype: int64"
            ]
          },
          "metadata": {
            "tags": []
          },
          "execution_count": 28
        }
      ]
    },
    {
      "cell_type": "code",
      "metadata": {
        "colab": {
          "base_uri": "https://localhost:8080/",
          "height": 386
        },
        "id": "cjUkDJMCWwqO",
        "outputId": "c61488bf-aab0-4d07-b95d-c95cafec677b"
      },
      "source": [
        "sns.displot(data=df,x='SibSp',hue='Survived')"
      ],
      "execution_count": 32,
      "outputs": [
        {
          "output_type": "execute_result",
          "data": {
            "text/plain": [
              "<seaborn.axisgrid.FacetGrid at 0x7fc670f0e9e8>"
            ]
          },
          "metadata": {
            "tags": []
          },
          "execution_count": 32
        },
        {
          "output_type": "display_data",
          "data": {
            "image/png": "[encoded data removed]",
            "text/plain": [
              "<Figure size 411.875x360 with 1 Axes>"
            ]
          },
          "metadata": {
            "tags": [],
            "needs_background": "light"
          }
        }
      ]
    },
    {
      "cell_type": "code",
      "metadata": {
        "colab": {
          "base_uri": "https://localhost:8080/",
          "height": 296
        },
        "id": "q9VuBx_eYEp8",
        "outputId": "67e9e055-8b15-45ea-d924-74341a86c28f"
      },
      "source": [
        "sns.histplot(df[df['Survived']==1]['SibSp'],bins=30,color='green',kde=True)\r\n",
        "sns.histplot(df[df['Survived']==0]['SibSp'],bins=30,color='red',kde=True)"
      ],
      "execution_count": 33,
      "outputs": [
        {
          "output_type": "execute_result",
          "data": {
            "text/plain": [
              "<matplotlib.axes._subplots.AxesSubplot at 0x7fc670d2b908>"
            ]
          },
          "metadata": {
            "tags": []
          },
          "execution_count": 33
        },
        {
          "output_type": "display_data",
          "data": {
            "image/png": "[encoded data removed]",
            "text/plain": [
              "<Figure size 432x288 with 1 Axes>"
            ]
          },
          "metadata": {
            "tags": [],
            "needs_background": "light"
          }
        }
      ]
    },
    {
      "cell_type": "markdown",
      "metadata": {
        "id": "4rPACcG_XwF8"
      },
      "source": [
        "There appears to be some relationship between number of siblings and survival, so we keep this column\r\n",
        "\r\n",
        "\r\n"
      ]
    },
    {
      "cell_type": "code",
      "metadata": {
        "colab": {
          "base_uri": "https://localhost:8080/",
          "height": 296
        },
        "id": "6LRB8Q4iWw0t",
        "outputId": "07e5e200-f546-41da-b3fc-fb2854a1bcc3"
      },
      "source": [
        "sns.boxplot(data=df,y='Parch',x='Survived')"
      ],
      "execution_count": 37,
      "outputs": [
        {
          "output_type": "execute_result",
          "data": {
            "text/plain": [
              "<matplotlib.axes._subplots.AxesSubplot at 0x7fc670bb5400>"
            ]
          },
          "metadata": {
            "tags": []
          },
          "execution_count": 37
        },
        {
          "output_type": "display_data",
          "data": {
            "image/png": "[encoded data removed]",
            "text/plain": [
              "<Figure size 432x288 with 1 Axes>"
            ]
          },
          "metadata": {
            "tags": [],
            "needs_background": "light"
          }
        }
      ]
    },
    {
      "cell_type": "markdown",
      "metadata": {
        "id": "SOp3pszNZSRr"
      },
      "source": [
        "There also appears to be some relationship between number of parents and children and survival, so we keep this column also"
      ]
    },
    {
      "cell_type": "code",
      "metadata": {
        "colab": {
          "base_uri": "https://localhost:8080/",
          "height": 386
        },
        "id": "mVY1fMWuaXGz",
        "outputId": "6caa4845-9448-4a56-eca2-f9ef3a75c32c"
      },
      "source": [
        "sns.displot(data=df,x='Fare',hue='Survived')"
      ],
      "execution_count": 45,
      "outputs": [
        {
          "output_type": "execute_result",
          "data": {
            "text/plain": [
              "<seaborn.axisgrid.FacetGrid at 0x7fc670b271d0>"
            ]
          },
          "metadata": {
            "tags": []
          },
          "execution_count": 45
        },
        {
          "output_type": "display_data",
          "data": {
            "image/png": "[encoded data removed]",
            "text/plain": [
              "<Figure size 411.875x360 with 1 Axes>"
            ]
          },
          "metadata": {
            "tags": [],
            "needs_background": "light"
          }
        }
      ]
    },
    {
      "cell_type": "markdown",
      "metadata": {
        "id": "7IzU1qG1akML"
      },
      "source": [
        "The survival rate appears to be higher for higher fares so this cloumn is also useful"
      ]
    },
    {
      "cell_type": "markdown",
      "metadata": {
        "id": "5ql4b14laBMC"
      },
      "source": [
        "All columns to be retained have now been analyzed"
      ]
    },
    {
      "cell_type": "code",
      "metadata": {
        "colab": {
          "base_uri": "https://localhost:8080/"
        },
        "id": "jh0Zuz-9Z9iF",
        "outputId": "da125f7a-fa02-48af-af00-cc94804cad31"
      },
      "source": [
        "len(df)"
      ],
      "execution_count": 38,
      "outputs": [
        {
          "output_type": "execute_result",
          "data": {
            "text/plain": [
              "889"
            ]
          },
          "metadata": {
            "tags": []
          },
          "execution_count": 38
        }
      ]
    },
    {
      "cell_type": "markdown",
      "metadata": {
        "id": "gKpLDPwThiD3"
      },
      "source": [
        "We started with a total of 891 data points so this is good retention"
      ]
    },
    {
      "cell_type": "code",
      "metadata": {
        "colab": {
          "base_uri": "https://localhost:8080/",
          "height": 204
        },
        "id": "f2V1_WfcaHPY",
        "outputId": "3ba2e154-0e98-4028-d7ce-4363510bd48c"
      },
      "source": [
        "df.head()"
      ],
      "execution_count": 39,
      "outputs": [
        {
          "output_type": "execute_result",
          "data": {
            "text/html": [
              "<div>\n",
              "<style scoped>\n",
              "    .dataframe tbody tr th:only-of-type {\n",
              "        vertical-align: middle;\n",
              "    }\n",
              "\n",
              "    .dataframe tbody tr th {\n",
              "        vertical-align: top;\n",
              "    }\n",
              "\n",
              "    .dataframe thead th {\n",
              "        text-align: right;\n",
              "    }\n",
              "</style>\n",
              "<table border=\"1\" class=\"dataframe\">\n",
              "  <thead>\n",
              "    <tr style=\"text-align: right;\">\n",
              "      <th></th>\n",
              "      <th>Survived</th>\n",
              "      <th>Pclass</th>\n",
              "      <th>Age</th>\n",
              "      <th>SibSp</th>\n",
              "      <th>Parch</th>\n",
              "      <th>Fare</th>\n",
              "      <th>Sex_male</th>\n",
              "      <th>Embarked_Q</th>\n",
              "      <th>Embarked_S</th>\n",
              "    </tr>\n",
              "  </thead>\n",
              "  <tbody>\n",
              "    <tr>\n",
              "      <th>0</th>\n",
              "      <td>0</td>\n",
              "      <td>3</td>\n",
              "      <td>22.0</td>\n",
              "      <td>1</td>\n",
              "      <td>0</td>\n",
              "      <td>7.2500</td>\n",
              "      <td>1</td>\n",
              "      <td>0</td>\n",
              "      <td>1</td>\n",
              "    </tr>\n",
              "    <tr>\n",
              "      <th>1</th>\n",
              "      <td>1</td>\n",
              "      <td>1</td>\n",
              "      <td>38.0</td>\n",
              "      <td>1</td>\n",
              "      <td>0</td>\n",
              "      <td>71.2833</td>\n",
              "      <td>0</td>\n",
              "      <td>0</td>\n",
              "      <td>0</td>\n",
              "    </tr>\n",
              "    <tr>\n",
              "      <th>2</th>\n",
              "      <td>1</td>\n",
              "      <td>3</td>\n",
              "      <td>26.0</td>\n",
              "      <td>0</td>\n",
              "      <td>0</td>\n",
              "      <td>7.9250</td>\n",
              "      <td>0</td>\n",
              "      <td>0</td>\n",
              "      <td>1</td>\n",
              "    </tr>\n",
              "    <tr>\n",
              "      <th>3</th>\n",
              "      <td>1</td>\n",
              "      <td>1</td>\n",
              "      <td>35.0</td>\n",
              "      <td>1</td>\n",
              "      <td>0</td>\n",
              "      <td>53.1000</td>\n",
              "      <td>0</td>\n",
              "      <td>0</td>\n",
              "      <td>1</td>\n",
              "    </tr>\n",
              "    <tr>\n",
              "      <th>4</th>\n",
              "      <td>0</td>\n",
              "      <td>3</td>\n",
              "      <td>35.0</td>\n",
              "      <td>0</td>\n",
              "      <td>0</td>\n",
              "      <td>8.0500</td>\n",
              "      <td>1</td>\n",
              "      <td>0</td>\n",
              "      <td>1</td>\n",
              "    </tr>\n",
              "  </tbody>\n",
              "</table>\n",
              "</div>"
            ],
            "text/plain": [
              "   Survived  Pclass   Age  SibSp  ...     Fare  Sex_male  Embarked_Q  Embarked_S\n",
              "0         0       3  22.0      1  ...   7.2500         1           0           1\n",
              "1         1       1  38.0      1  ...  71.2833         0           0           0\n",
              "2         1       3  26.0      0  ...   7.9250         0           0           1\n",
              "3         1       1  35.0      1  ...  53.1000         0           0           1\n",
              "4         0       3  35.0      0  ...   8.0500         1           0           1\n",
              "\n",
              "[5 rows x 9 columns]"
            ]
          },
          "metadata": {
            "tags": []
          },
          "execution_count": 39
        }
      ]
    },
    {
      "cell_type": "code",
      "metadata": {
        "id": "zJsrt0S1UILk"
      },
      "source": [
        "y=df['Survived']\n"
      ],
      "execution_count": 40,
      "outputs": []
    },
    {
      "cell_type": "markdown",
      "metadata": {
        "id": "pl-YfzXrhxHv"
      },
      "source": [
        "y is the Target/Output column"
      ]
    },
    {
      "cell_type": "code",
      "metadata": {
        "id": "4qXzRN6oUILl"
      },
      "source": [
        "X=df.drop('Survived',axis=1)"
      ],
      "execution_count": 41,
      "outputs": []
    },
    {
      "cell_type": "markdown",
      "metadata": {
        "id": "-uE3pk-qh1Yy"
      },
      "source": [
        "X is now the input with all relevant data columns except the output column"
      ]
    },
    {
      "cell_type": "code",
      "metadata": {
        "colab": {
          "base_uri": "https://localhost:8080/",
          "height": 419
        },
        "id": "Fr2QsomyUILl",
        "outputId": "db4310cd-7648-4db6-b1fa-8d0cb833548a"
      },
      "source": [
        "X"
      ],
      "execution_count": 42,
      "outputs": [
        {
          "output_type": "execute_result",
          "data": {
            "text/html": [
              "<div>\n",
              "<style scoped>\n",
              "    .dataframe tbody tr th:only-of-type {\n",
              "        vertical-align: middle;\n",
              "    }\n",
              "\n",
              "    .dataframe tbody tr th {\n",
              "        vertical-align: top;\n",
              "    }\n",
              "\n",
              "    .dataframe thead th {\n",
              "        text-align: right;\n",
              "    }\n",
              "</style>\n",
              "<table border=\"1\" class=\"dataframe\">\n",
              "  <thead>\n",
              "    <tr style=\"text-align: right;\">\n",
              "      <th></th>\n",
              "      <th>Pclass</th>\n",
              "      <th>Age</th>\n",
              "      <th>SibSp</th>\n",
              "      <th>Parch</th>\n",
              "      <th>Fare</th>\n",
              "      <th>Sex_male</th>\n",
              "      <th>Embarked_Q</th>\n",
              "      <th>Embarked_S</th>\n",
              "    </tr>\n",
              "  </thead>\n",
              "  <tbody>\n",
              "    <tr>\n",
              "      <th>0</th>\n",
              "      <td>3</td>\n",
              "      <td>22.0</td>\n",
              "      <td>1</td>\n",
              "      <td>0</td>\n",
              "      <td>7.2500</td>\n",
              "      <td>1</td>\n",
              "      <td>0</td>\n",
              "      <td>1</td>\n",
              "    </tr>\n",
              "    <tr>\n",
              "      <th>1</th>\n",
              "      <td>1</td>\n",
              "      <td>38.0</td>\n",
              "      <td>1</td>\n",
              "      <td>0</td>\n",
              "      <td>71.2833</td>\n",
              "      <td>0</td>\n",
              "      <td>0</td>\n",
              "      <td>0</td>\n",
              "    </tr>\n",
              "    <tr>\n",
              "      <th>2</th>\n",
              "      <td>3</td>\n",
              "      <td>26.0</td>\n",
              "      <td>0</td>\n",
              "      <td>0</td>\n",
              "      <td>7.9250</td>\n",
              "      <td>0</td>\n",
              "      <td>0</td>\n",
              "      <td>1</td>\n",
              "    </tr>\n",
              "    <tr>\n",
              "      <th>3</th>\n",
              "      <td>1</td>\n",
              "      <td>35.0</td>\n",
              "      <td>1</td>\n",
              "      <td>0</td>\n",
              "      <td>53.1000</td>\n",
              "      <td>0</td>\n",
              "      <td>0</td>\n",
              "      <td>1</td>\n",
              "    </tr>\n",
              "    <tr>\n",
              "      <th>4</th>\n",
              "      <td>3</td>\n",
              "      <td>35.0</td>\n",
              "      <td>0</td>\n",
              "      <td>0</td>\n",
              "      <td>8.0500</td>\n",
              "      <td>1</td>\n",
              "      <td>0</td>\n",
              "      <td>1</td>\n",
              "    </tr>\n",
              "    <tr>\n",
              "      <th>...</th>\n",
              "      <td>...</td>\n",
              "      <td>...</td>\n",
              "      <td>...</td>\n",
              "      <td>...</td>\n",
              "      <td>...</td>\n",
              "      <td>...</td>\n",
              "      <td>...</td>\n",
              "      <td>...</td>\n",
              "    </tr>\n",
              "    <tr>\n",
              "      <th>886</th>\n",
              "      <td>2</td>\n",
              "      <td>27.0</td>\n",
              "      <td>0</td>\n",
              "      <td>0</td>\n",
              "      <td>13.0000</td>\n",
              "      <td>1</td>\n",
              "      <td>0</td>\n",
              "      <td>1</td>\n",
              "    </tr>\n",
              "    <tr>\n",
              "      <th>887</th>\n",
              "      <td>1</td>\n",
              "      <td>19.0</td>\n",
              "      <td>0</td>\n",
              "      <td>0</td>\n",
              "      <td>30.0000</td>\n",
              "      <td>0</td>\n",
              "      <td>0</td>\n",
              "      <td>1</td>\n",
              "    </tr>\n",
              "    <tr>\n",
              "      <th>888</th>\n",
              "      <td>3</td>\n",
              "      <td>25.0</td>\n",
              "      <td>1</td>\n",
              "      <td>2</td>\n",
              "      <td>23.4500</td>\n",
              "      <td>0</td>\n",
              "      <td>0</td>\n",
              "      <td>1</td>\n",
              "    </tr>\n",
              "    <tr>\n",
              "      <th>889</th>\n",
              "      <td>1</td>\n",
              "      <td>26.0</td>\n",
              "      <td>0</td>\n",
              "      <td>0</td>\n",
              "      <td>30.0000</td>\n",
              "      <td>1</td>\n",
              "      <td>0</td>\n",
              "      <td>0</td>\n",
              "    </tr>\n",
              "    <tr>\n",
              "      <th>890</th>\n",
              "      <td>3</td>\n",
              "      <td>32.0</td>\n",
              "      <td>0</td>\n",
              "      <td>0</td>\n",
              "      <td>7.7500</td>\n",
              "      <td>1</td>\n",
              "      <td>1</td>\n",
              "      <td>0</td>\n",
              "    </tr>\n",
              "  </tbody>\n",
              "</table>\n",
              "<p>889 rows × 8 columns</p>\n",
              "</div>"
            ],
            "text/plain": [
              "     Pclass   Age  SibSp  Parch     Fare  Sex_male  Embarked_Q  Embarked_S\n",
              "0         3  22.0      1      0   7.2500         1           0           1\n",
              "1         1  38.0      1      0  71.2833         0           0           0\n",
              "2         3  26.0      0      0   7.9250         0           0           1\n",
              "3         1  35.0      1      0  53.1000         0           0           1\n",
              "4         3  35.0      0      0   8.0500         1           0           1\n",
              "..      ...   ...    ...    ...      ...       ...         ...         ...\n",
              "886       2  27.0      0      0  13.0000         1           0           1\n",
              "887       1  19.0      0      0  30.0000         0           0           1\n",
              "888       3  25.0      1      2  23.4500         0           0           1\n",
              "889       1  26.0      0      0  30.0000         1           0           0\n",
              "890       3  32.0      0      0   7.7500         1           1           0\n",
              "\n",
              "[889 rows x 8 columns]"
            ]
          },
          "metadata": {
            "tags": []
          },
          "execution_count": 42
        }
      ]
    },
    {
      "cell_type": "code",
      "metadata": {
        "colab": {
          "base_uri": "https://localhost:8080/"
        },
        "id": "6ld3DV-LUILl",
        "outputId": "814e3517-a976-49f0-aa3c-f18fece832d4"
      },
      "source": [
        "y"
      ],
      "execution_count": 46,
      "outputs": [
        {
          "output_type": "execute_result",
          "data": {
            "text/plain": [
              "0      0\n",
              "1      1\n",
              "2      1\n",
              "3      1\n",
              "4      0\n",
              "      ..\n",
              "886    0\n",
              "887    1\n",
              "888    0\n",
              "889    1\n",
              "890    0\n",
              "Name: Survived, Length: 889, dtype: int64"
            ]
          },
          "metadata": {
            "tags": []
          },
          "execution_count": 46
        }
      ]
    },
    {
      "cell_type": "markdown",
      "metadata": {
        "id": "IsjXbqxIh_LR"
      },
      "source": [
        "Lets now try Logistic Regression from Sci Kit Learn Machine Learning Algorithms"
      ]
    },
    {
      "cell_type": "code",
      "metadata": {
        "id": "8qksNOJ7UILl"
      },
      "source": [
        "from sklearn.model_selection import train_test_split"
      ],
      "execution_count": 47,
      "outputs": []
    },
    {
      "cell_type": "code",
      "metadata": {
        "id": "6Ww3gEzxUILm"
      },
      "source": [
        "X_train, X_test, y_train, y_test = train_test_split(X, y, test_size=0.25, random_state=101)"
      ],
      "execution_count": 48,
      "outputs": []
    },
    {
      "cell_type": "markdown",
      "metadata": {
        "id": "yyBHXaOdiQxM"
      },
      "source": [
        "Seperate data into a training set and a test set\r\n",
        "Test set has 25% of data"
      ]
    },
    {
      "cell_type": "code",
      "metadata": {
        "id": "US7MSbqZUILm"
      },
      "source": [
        "from sklearn.linear_model import LogisticRegression"
      ],
      "execution_count": 49,
      "outputs": []
    },
    {
      "cell_type": "code",
      "metadata": {
        "id": "ewnugQvcUILm"
      },
      "source": [
        "logmodel=LogisticRegression()"
      ],
      "execution_count": 50,
      "outputs": []
    },
    {
      "cell_type": "code",
      "metadata": {
        "colab": {
          "base_uri": "https://localhost:8080/"
        },
        "id": "a5RNftIYUILm",
        "outputId": "54d510ee-3c68-467b-876a-c43664eb3052"
      },
      "source": [
        "logmodel.fit(X_train,y_train)"
      ],
      "execution_count": 51,
      "outputs": [
        {
          "output_type": "stream",
          "text": [
            "/usr/local/lib/python3.6/dist-packages/sklearn/linear_model/_logistic.py:940: ConvergenceWarning: lbfgs failed to converge (status=1):\n",
            "STOP: TOTAL NO. of ITERATIONS REACHED LIMIT.\n",
            "\n",
            "Increase the number of iterations (max_iter) or scale the data as shown in:\n",
            "    https://scikit-learn.org/stable/modules/preprocessing.html\n",
            "Please also refer to the documentation for alternative solver options:\n",
            "    https://scikit-learn.org/stable/modules/linear_model.html#logistic-regression\n",
            "  extra_warning_msg=_LOGISTIC_SOLVER_CONVERGENCE_MSG)\n"
          ],
          "name": "stderr"
        },
        {
          "output_type": "execute_result",
          "data": {
            "text/plain": [
              "LogisticRegression(C=1.0, class_weight=None, dual=False, fit_intercept=True,\n",
              "                   intercept_scaling=1, l1_ratio=None, max_iter=100,\n",
              "                   multi_class='auto', n_jobs=None, penalty='l2',\n",
              "                   random_state=None, solver='lbfgs', tol=0.0001, verbose=0,\n",
              "                   warm_start=False)"
            ]
          },
          "metadata": {
            "tags": []
          },
          "execution_count": 51
        }
      ]
    },
    {
      "cell_type": "markdown",
      "metadata": {
        "id": "azrodGydjJXp"
      },
      "source": [
        "Instantiate Model and then Fit it usind the train data\r\n",
        "\r\n"
      ]
    },
    {
      "cell_type": "code",
      "metadata": {
        "id": "gbkXa1SxUILn"
      },
      "source": [
        "predictions=logmodel.predict(X_test)"
      ],
      "execution_count": 52,
      "outputs": []
    },
    {
      "cell_type": "markdown",
      "metadata": {
        "id": "C7XrByVhjPj_"
      },
      "source": [
        "Import the metrics for measuring the results"
      ]
    },
    {
      "cell_type": "code",
      "metadata": {
        "id": "v94jumfXUILn"
      },
      "source": [
        "from sklearn.metrics import classification_report,confusion_matrix"
      ],
      "execution_count": 53,
      "outputs": []
    },
    {
      "cell_type": "code",
      "metadata": {
        "colab": {
          "base_uri": "https://localhost:8080/"
        },
        "id": "Yx4WZpnmUILo",
        "outputId": "7d7e642e-19fe-4636-bbc9-58f7a7dc276d"
      },
      "source": [
        "print(classification_report(y_test,predictions))"
      ],
      "execution_count": 54,
      "outputs": [
        {
          "output_type": "stream",
          "text": [
            "              precision    recall  f1-score   support\n",
            "\n",
            "           0       0.82      0.93      0.87       136\n",
            "           1       0.86      0.69      0.76        87\n",
            "\n",
            "    accuracy                           0.83       223\n",
            "   macro avg       0.84      0.81      0.82       223\n",
            "weighted avg       0.84      0.83      0.83       223\n",
            "\n"
          ],
          "name": "stdout"
        }
      ]
    },
    {
      "cell_type": "markdown",
      "metadata": {
        "id": "WrIsxlFIjhY1"
      },
      "source": [
        "NOT BAD! We have reached 83% accuracy with Logistic Regression"
      ]
    },
    {
      "cell_type": "code",
      "metadata": {
        "colab": {
          "base_uri": "https://localhost:8080/"
        },
        "id": "LHTMQ5QpUILo",
        "outputId": "ed8e5287-5458-4ad4-cbab-e53a3f675c3f"
      },
      "source": [
        "confusion_matrix(y_test,predictions)"
      ],
      "execution_count": 55,
      "outputs": [
        {
          "output_type": "execute_result",
          "data": {
            "text/plain": [
              "array([[126,  10],\n",
              "       [ 27,  60]])"
            ]
          },
          "metadata": {
            "tags": []
          },
          "execution_count": 55
        }
      ]
    },
    {
      "cell_type": "markdown",
      "metadata": {
        "id": "pCcaSl7ejp9C"
      },
      "source": [
        "WE have 10 Type 1 (False Positive) and 27 Type 2 errors(False negative)"
      ]
    },
    {
      "cell_type": "markdown",
      "metadata": {
        "id": "vmQneuuokVF2"
      },
      "source": [
        "Now lets try Support Vector Machines for Binary Classification"
      ]
    },
    {
      "cell_type": "code",
      "metadata": {
        "id": "GNowH0u3UIL7"
      },
      "source": [
        "from sklearn.svm import SVC"
      ],
      "execution_count": 56,
      "outputs": []
    },
    {
      "cell_type": "code",
      "metadata": {
        "id": "kMmclY-0khFt"
      },
      "source": [
        "mySVCmodel=SVC(gamma='auto',C=1000)"
      ],
      "execution_count": 57,
      "outputs": []
    },
    {
      "cell_type": "code",
      "metadata": {
        "colab": {
          "base_uri": "https://localhost:8080/"
        },
        "id": "VX-Wnx1Gk4Cx",
        "outputId": "de80afda-b86a-49c2-a146-bb973abd8af5"
      },
      "source": [
        "mySVCmodel.fit(X_train,y_train)"
      ],
      "execution_count": 58,
      "outputs": [
        {
          "output_type": "execute_result",
          "data": {
            "text/plain": [
              "SVC(C=1000, break_ties=False, cache_size=200, class_weight=None, coef0=0.0,\n",
              "    decision_function_shape='ovr', degree=3, gamma='auto', kernel='rbf',\n",
              "    max_iter=-1, probability=False, random_state=None, shrinking=True,\n",
              "    tol=0.001, verbose=False)"
            ]
          },
          "metadata": {
            "tags": []
          },
          "execution_count": 58
        }
      ]
    },
    {
      "cell_type": "code",
      "metadata": {
        "id": "WMBtWIoBk9r4"
      },
      "source": [
        "predictionsSVC=mySVCmodel.predict(X_test)"
      ],
      "execution_count": 61,
      "outputs": []
    },
    {
      "cell_type": "code",
      "metadata": {
        "colab": {
          "base_uri": "https://localhost:8080/"
        },
        "id": "32uF4f7OlEol",
        "outputId": "80d89945-7058-4bf9-91b2-cdb18855cc42"
      },
      "source": [
        "print(classification_report(y_test,predictionsSVC))"
      ],
      "execution_count": 62,
      "outputs": [
        {
          "output_type": "stream",
          "text": [
            "              precision    recall  f1-score   support\n",
            "\n",
            "           0       0.68      0.74      0.71       136\n",
            "           1       0.53      0.47      0.50        87\n",
            "\n",
            "    accuracy                           0.63       223\n",
            "   macro avg       0.61      0.60      0.60       223\n",
            "weighted avg       0.63      0.63      0.63       223\n",
            "\n"
          ],
          "name": "stdout"
        }
      ]
    },
    {
      "cell_type": "markdown",
      "metadata": {
        "id": "rl7qM-MVlaBR"
      },
      "source": [
        "SVC doesnt perform very well and we need to optimize the C and gamma parameters"
      ]
    },
    {
      "cell_type": "code",
      "metadata": {
        "colab": {
          "base_uri": "https://localhost:8080/"
        },
        "id": "XxJbqlR8lM6v",
        "outputId": "37ee7326-0062-422a-eeb8-76a183cd18cb"
      },
      "source": [
        "print(confusion_matrix(y_test,predictionsSVC))"
      ],
      "execution_count": null,
      "outputs": [
        {
          "output_type": "stream",
          "text": [
            "[[101  35]\n",
            " [ 32  55]]\n"
          ],
          "name": "stdout"
        }
      ]
    },
    {
      "cell_type": "code",
      "metadata": {
        "id": "t7urPBbellJm"
      },
      "source": [
        "from sklearn.model_selection import GridSearchCV"
      ],
      "execution_count": 63,
      "outputs": []
    },
    {
      "cell_type": "markdown",
      "metadata": {
        "id": "L-lC0tM2rN74"
      },
      "source": [
        "GridSearchCV is the best model to optimize the hyper parameters"
      ]
    },
    {
      "cell_type": "code",
      "metadata": {
        "id": "CEmgA6_Xl-bY"
      },
      "source": [
        "paramgrid={'C':[100,1000],'gamma':['auto',0.001],'kernel':['linear','rbf']}"
      ],
      "execution_count": 64,
      "outputs": []
    },
    {
      "cell_type": "markdown",
      "metadata": {
        "id": "_lOoQoVvrBrf"
      },
      "source": [
        "Make a grid of parameters to find the best one"
      ]
    },
    {
      "cell_type": "code",
      "metadata": {
        "id": "aAxbxgoAmexB"
      },
      "source": [
        "gridSVC=GridSearchCV(mySVCmodel,paramgrid,verbose=2,cv=5)"
      ],
      "execution_count": 66,
      "outputs": []
    },
    {
      "cell_type": "markdown",
      "metadata": {
        "id": "2JwgPmuvq0tA"
      },
      "source": [
        "Use SK Learn's Grid Search CV. An awesome tool to optimize the hyperparameters of the model like C, gamma and kernel in SVC above\r\n"
      ]
    },
    {
      "cell_type": "code",
      "metadata": {
        "colab": {
          "base_uri": "https://localhost:8080/"
        },
        "id": "_p0MjouYmpuf",
        "outputId": "7cc9c942-68d1-45a6-8b2b-4b0581890a52"
      },
      "source": [
        "gridSVC.fit(X_train,y_train)"
      ],
      "execution_count": 67,
      "outputs": [
        {
          "output_type": "stream",
          "text": [
            "Fitting 5 folds for each of 8 candidates, totalling 40 fits\n",
            "[CV] C=100, gamma=auto, kernel=linear ................................\n"
          ],
          "name": "stdout"
        },
        {
          "output_type": "stream",
          "text": [
            "[Parallel(n_jobs=1)]: Using backend SequentialBackend with 1 concurrent workers.\n"
          ],
          "name": "stderr"
        },
        {
          "output_type": "stream",
          "text": [
            "[CV] ................. C=100, gamma=auto, kernel=linear, total= 1.9min\n",
            "[CV] C=100, gamma=auto, kernel=linear ................................\n"
          ],
          "name": "stdout"
        },
        {
          "output_type": "stream",
          "text": [
            "[Parallel(n_jobs=1)]: Done   1 out of   1 | elapsed:  1.9min remaining:    0.0s\n"
          ],
          "name": "stderr"
        },
        {
          "output_type": "stream",
          "text": [
            "[CV] ................. C=100, gamma=auto, kernel=linear, total=  57.9s\n",
            "[CV] C=100, gamma=auto, kernel=linear ................................\n",
            "[CV] ................. C=100, gamma=auto, kernel=linear, total=  45.3s\n",
            "[CV] C=100, gamma=auto, kernel=linear ................................\n",
            "[CV] ................. C=100, gamma=auto, kernel=linear, total=  37.2s\n",
            "[CV] C=100, gamma=auto, kernel=linear ................................\n",
            "[CV] ................. C=100, gamma=auto, kernel=linear, total=  35.7s\n",
            "[CV] C=100, gamma=auto, kernel=rbf ...................................\n",
            "[CV] .................... C=100, gamma=auto, kernel=rbf, total=   0.0s\n",
            "[CV] C=100, gamma=auto, kernel=rbf ...................................\n",
            "[CV] .................... C=100, gamma=auto, kernel=rbf, total=   0.0s\n",
            "[CV] C=100, gamma=auto, kernel=rbf ...................................\n",
            "[CV] .................... C=100, gamma=auto, kernel=rbf, total=   0.0s\n",
            "[CV] C=100, gamma=auto, kernel=rbf ...................................\n",
            "[CV] .................... C=100, gamma=auto, kernel=rbf, total=   0.0s\n",
            "[CV] C=100, gamma=auto, kernel=rbf ...................................\n",
            "[CV] .................... C=100, gamma=auto, kernel=rbf, total=   0.0s\n",
            "[CV] C=100, gamma=0.001, kernel=linear ...............................\n",
            "[CV] ................ C=100, gamma=0.001, kernel=linear, total= 1.8min\n",
            "[CV] C=100, gamma=0.001, kernel=linear ...............................\n",
            "[CV] ................ C=100, gamma=0.001, kernel=linear, total=  44.2s\n",
            "[CV] C=100, gamma=0.001, kernel=linear ...............................\n",
            "[CV] ................ C=100, gamma=0.001, kernel=linear, total=  37.1s\n",
            "[CV] C=100, gamma=0.001, kernel=linear ...............................\n",
            "[CV] ................ C=100, gamma=0.001, kernel=linear, total=  35.6s\n",
            "[CV] C=100, gamma=0.001, kernel=rbf ..................................\n",
            "[CV] ................... C=100, gamma=0.001, kernel=rbf, total=   0.0s\n",
            "[CV] C=100, gamma=0.001, kernel=rbf ..................................\n",
            "[CV] ................... C=100, gamma=0.001, kernel=rbf, total=   0.0s\n",
            "[CV] C=100, gamma=0.001, kernel=rbf ..................................\n",
            "[CV] ................... C=100, gamma=0.001, kernel=rbf, total=   0.0s\n",
            "[CV] C=100, gamma=0.001, kernel=rbf ..................................\n",
            "[CV] ................... C=100, gamma=0.001, kernel=rbf, total=   0.0s\n",
            "[CV] C=100, gamma=0.001, kernel=rbf ..................................\n",
            "[CV] ................... C=100, gamma=0.001, kernel=rbf, total=   0.0s\n",
            "[CV] C=1000, gamma=auto, kernel=linear ...............................\n",
            "[CV] ................ C=1000, gamma=auto, kernel=linear, total= 1.1min\n",
            "[CV] C=1000, gamma=auto, kernel=linear ...............................\n",
            "[CV] ................ C=1000, gamma=auto, kernel=linear, total= 1.2min\n",
            "[CV] C=1000, gamma=auto, kernel=linear ...............................\n",
            "[CV] ................ C=1000, gamma=auto, kernel=linear, total=  55.5s\n",
            "[CV] C=1000, gamma=auto, kernel=linear ...............................\n",
            "[CV] ................ C=1000, gamma=auto, kernel=linear, total= 3.3min\n",
            "[CV] C=1000, gamma=auto, kernel=rbf ..................................\n",
            "[CV] ................... C=1000, gamma=auto, kernel=rbf, total=   0.0s\n",
            "[CV] C=1000, gamma=auto, kernel=rbf ..................................\n",
            "[CV] ................... C=1000, gamma=auto, kernel=rbf, total=   0.0s\n",
            "[CV] C=1000, gamma=auto, kernel=rbf ..................................\n",
            "[CV] ................... C=1000, gamma=auto, kernel=rbf, total=   0.0s\n",
            "[CV] C=1000, gamma=auto, kernel=rbf ..................................\n",
            "[CV] ................... C=1000, gamma=auto, kernel=rbf, total=   0.0s\n",
            "[CV] C=1000, gamma=auto, kernel=rbf ..................................\n",
            "[CV] ................... C=1000, gamma=auto, kernel=rbf, total=   0.0s\n",
            "[CV] C=1000, gamma=0.001, kernel=linear ..............................\n",
            "[CV] ............... C=1000, gamma=0.001, kernel=linear, total= 1.9min\n",
            "[CV] C=1000, gamma=0.001, kernel=linear ..............................\n",
            "[CV] ............... C=1000, gamma=0.001, kernel=linear, total= 1.1min\n",
            "[CV] C=1000, gamma=0.001, kernel=linear ..............................\n",
            "[CV] ............... C=1000, gamma=0.001, kernel=linear, total= 1.2min\n",
            "[CV] C=1000, gamma=0.001, kernel=linear ..............................\n",
            "[CV] ............... C=1000, gamma=0.001, kernel=linear, total=  55.7s\n",
            "[CV] C=1000, gamma=0.001, kernel=linear ..............................\n",
            "[CV] ............... C=1000, gamma=0.001, kernel=linear, total= 3.4min\n",
            "[CV] C=1000, gamma=0.001, kernel=rbf .................................\n",
            "[CV] .................. C=1000, gamma=0.001, kernel=rbf, total=   0.1s\n",
            "[CV] C=1000, gamma=0.001, kernel=rbf .................................\n",
            "[CV] .................. C=1000, gamma=0.001, kernel=rbf, total=   0.1s\n",
            "[CV] C=1000, gamma=0.001, kernel=rbf .................................\n",
            "[CV] .................. C=1000, gamma=0.001, kernel=rbf, total=   0.1s\n",
            "[CV] C=1000, gamma=0.001, kernel=rbf .................................\n",
            "[CV] .................. C=1000, gamma=0.001, kernel=rbf, total=   0.1s\n",
            "[CV] C=1000, gamma=0.001, kernel=rbf .................................\n",
            "[CV] .................. C=1000, gamma=0.001, kernel=rbf, total=   0.1s\n"
          ],
          "name": "stdout"
        },
        {
          "output_type": "stream",
          "text": [
            "[Parallel(n_jobs=1)]: Done  40 out of  40 | elapsed: 26.5min finished\n"
          ],
          "name": "stderr"
        },
        {
          "output_type": "execute_result",
          "data": {
            "text/plain": [
              "GridSearchCV(cv=5, error_score=nan,\n",
              "             estimator=SVC(C=1000, break_ties=False, cache_size=200,\n",
              "                           class_weight=None, coef0=0.0,\n",
              "                           decision_function_shape='ovr', degree=3,\n",
              "                           gamma='auto', kernel='rbf', max_iter=-1,\n",
              "                           probability=False, random_state=None, shrinking=True,\n",
              "                           tol=0.001, verbose=False),\n",
              "             iid='deprecated', n_jobs=None,\n",
              "             param_grid={'C': [100, 1000], 'gamma': ['auto', 0.001],\n",
              "                         'kernel': ['linear', 'rbf']},\n",
              "             pre_dispatch='2*n_jobs', refit=True, return_train_score=False,\n",
              "             scoring=None, verbose=2)"
            ]
          },
          "metadata": {
            "tags": []
          },
          "execution_count": 67
        }
      ]
    },
    {
      "cell_type": "markdown",
      "metadata": {
        "id": "6AT7o4XQrycL"
      },
      "source": [
        "GridSearchCV using Cross validation to find the best hyper parameters\r\n",
        "This may take sometime\r\n"
      ]
    },
    {
      "cell_type": "code",
      "metadata": {
        "colab": {
          "base_uri": "https://localhost:8080/"
        },
        "id": "LlE-b9zKm7fv",
        "outputId": "3abdcfa9-d03e-4486-f0af-9f7069a0b9e4"
      },
      "source": [
        "gridSVC.best_params_"
      ],
      "execution_count": 68,
      "outputs": [
        {
          "output_type": "execute_result",
          "data": {
            "text/plain": [
              "{'C': 100, 'gamma': 'auto', 'kernel': 'linear'}"
            ]
          },
          "metadata": {
            "tags": []
          },
          "execution_count": 68
        }
      ]
    },
    {
      "cell_type": "code",
      "metadata": {
        "id": "5vyiNnbNnpFm"
      },
      "source": [
        "predictionsGrid=gridSVC.predict(X_test)"
      ],
      "execution_count": 69,
      "outputs": []
    },
    {
      "cell_type": "markdown",
      "metadata": {
        "id": "sFT9QBRQttFS"
      },
      "source": [
        "Predictions made using the best hyper parameters"
      ]
    },
    {
      "cell_type": "code",
      "metadata": {
        "colab": {
          "base_uri": "https://localhost:8080/"
        },
        "id": "tQE7up13o1VK",
        "outputId": "eaa5be4f-a29a-4c25-fa7a-af0c263bf5dc"
      },
      "source": [
        "print(classification_report(y_test,predictionsGrid))"
      ],
      "execution_count": 70,
      "outputs": [
        {
          "output_type": "stream",
          "text": [
            "              precision    recall  f1-score   support\n",
            "\n",
            "           0       0.80      0.90      0.85       136\n",
            "           1       0.81      0.66      0.73        87\n",
            "\n",
            "    accuracy                           0.81       223\n",
            "   macro avg       0.81      0.78      0.79       223\n",
            "weighted avg       0.81      0.81      0.80       223\n",
            "\n"
          ],
          "name": "stdout"
        }
      ]
    },
    {
      "cell_type": "markdown",
      "metadata": {
        "id": "U0C27I-j37wR"
      },
      "source": [
        "So we can get upto 80% accuracy using SVC\r\n",
        "In this case SVC was worse than Logistic Regression \r\n",
        "\r\n"
      ]
    },
    {
      "cell_type": "markdown",
      "metadata": {
        "id": "ZPOLDOjp6DXw"
      },
      "source": [
        "Now lets try deep learning by Tensorflow"
      ]
    },
    {
      "cell_type": "code",
      "metadata": {
        "id": "8A8Vqq7zo5dz"
      },
      "source": [
        "from sklearn.preprocessing import MinMaxScaler\r\n",
        "myScaler=MinMaxScaler()\r\n",
        "X_trainS=myScaler.fit_transform(X_train.values)\r\n",
        "X_testS=myScaler.transform(X_test.values)\r\n",
        "y_trainS=y_train\r\n",
        "y_testS=y_test\r\n"
      ],
      "execution_count": 82,
      "outputs": []
    },
    {
      "cell_type": "markdown",
      "metadata": {
        "id": "f3X3d3Kl7iOX"
      },
      "source": [
        "First we need to scale the input and output data as above"
      ]
    },
    {
      "cell_type": "code",
      "metadata": {
        "id": "IxSbVjub7C8s"
      },
      "source": [
        "X_val=X_testS[-100:]\r\n",
        "y_val=y_testS[-100:]"
      ],
      "execution_count": 84,
      "outputs": []
    },
    {
      "cell_type": "markdown",
      "metadata": {
        "id": "neNVH3D67n8H"
      },
      "source": [
        "Then we need to create a validation set"
      ]
    },
    {
      "cell_type": "code",
      "metadata": {
        "colab": {
          "base_uri": "https://localhost:8080/"
        },
        "id": "MnqYllXAmh6M",
        "outputId": "62ae7a52-45e4-4e88-aba0-45b77602b426"
      },
      "source": [
        "X_trainS"
      ],
      "execution_count": 83,
      "outputs": [
        {
          "output_type": "execute_result",
          "data": {
            "text/plain": [
              "array([[1.        , 0.31815083, 0.        , ..., 1.        , 0.        ,\n",
              "        1.        ],\n",
              "       [0.5       , 0.38633574, 0.125     , ..., 0.        , 0.        ,\n",
              "        1.        ],\n",
              "       [0.5       , 0.34542479, 0.        , ..., 1.        , 0.        ,\n",
              "        1.        ],\n",
              "       ...,\n",
              "       [1.        , 0.60452748, 0.        , ..., 1.        , 0.        ,\n",
              "        1.        ],\n",
              "       [1.        , 0.33178781, 0.        , ..., 1.        , 0.        ,\n",
              "        0.        ],\n",
              "       [0.5       , 0.56361653, 0.        , ..., 0.        , 0.        ,\n",
              "        1.        ]])"
            ]
          },
          "metadata": {
            "tags": []
          },
          "execution_count": 83
        }
      ]
    },
    {
      "cell_type": "code",
      "metadata": {
        "colab": {
          "base_uri": "https://localhost:8080/"
        },
        "id": "KBm4RZ8Ll8g6",
        "outputId": "f047f8ea-1ad1-455a-c40d-5479f420bc8f"
      },
      "source": [
        "X_trainS.shape"
      ],
      "execution_count": 108,
      "outputs": [
        {
          "output_type": "execute_result",
          "data": {
            "text/plain": [
              "(666, 8)"
            ]
          },
          "metadata": {
            "tags": []
          },
          "execution_count": 108
        }
      ]
    },
    {
      "cell_type": "code",
      "metadata": {
        "id": "ziMT2i9uz7yL"
      },
      "source": [
        "from tensorflow.keras.models import Sequential\r\n",
        "from tensorflow.keras.layers import Dense, Dropout\r\n"
      ],
      "execution_count": 85,
      "outputs": []
    },
    {
      "cell_type": "code",
      "metadata": {
        "id": "VXxOg3Pm0HYQ"
      },
      "source": [
        "myTFmodel=Sequential([\r\n",
        "    Dense(8,activation='relu',input_shape=(666,8)),\r\n",
        "    Dense(4,activation='relu'),\r\n",
        "    Dense(1,activation='sigmoid')\r\n",
        "])\r\n"
      ],
      "execution_count": 128,
      "outputs": []
    },
    {
      "cell_type": "markdown",
      "metadata": {
        "id": "pr5urIQz9R6A"
      },
      "source": [
        "Define the Deep neural net with 3 layers\r\n",
        "Drop out layers may be added to prevent overfitting"
      ]
    },
    {
      "cell_type": "code",
      "metadata": {
        "id": "kkC7nf1s1SzT"
      },
      "source": [
        "myTFmodel.compile(loss='binary_crossentropy',\r\n",
        "              optimizer='rmsprop',\r\n",
        "              metrics=['acc'])"
      ],
      "execution_count": 129,
      "outputs": []
    },
    {
      "cell_type": "markdown",
      "metadata": {
        "id": "z3I0KsV8oCFm"
      },
      "source": [
        "Compile the DNN model for binary classes and minimize root mean square error"
      ]
    },
    {
      "cell_type": "code",
      "metadata": {
        "colab": {
          "base_uri": "https://localhost:8080/"
        },
        "id": "xSmwPnISqyrG",
        "outputId": "f6edd9b8-a0af-4ad7-b557-c92ece2984be"
      },
      "source": [
        "myTFmodel.summary()"
      ],
      "execution_count": 130,
      "outputs": [
        {
          "output_type": "stream",
          "text": [
            "Model: \"sequential_4\"\n",
            "_________________________________________________________________\n",
            "Layer (type)                 Output Shape              Param #   \n",
            "=================================================================\n",
            "dense_17 (Dense)             (None, 666, 8)            72        \n",
            "_________________________________________________________________\n",
            "dense_18 (Dense)             (None, 666, 4)            36        \n",
            "_________________________________________________________________\n",
            "dense_19 (Dense)             (None, 666, 1)            5         \n",
            "=================================================================\n",
            "Total params: 113\n",
            "Trainable params: 113\n",
            "Non-trainable params: 0\n",
            "_________________________________________________________________\n"
          ],
          "name": "stdout"
        }
      ]
    },
    {
      "cell_type": "code",
      "metadata": {
        "colab": {
          "base_uri": "https://localhost:8080/"
        },
        "id": "ylG-kZj61jkB",
        "outputId": "c1773c5f-a259-47ee-f228-3453519dcbc0"
      },
      "source": [
        "history=myTFmodel.fit(X_trainS,y_trainS,epochs=500,verbose=2,validation_data=(X_val,y_val))"
      ],
      "execution_count": 131,
      "outputs": [
        {
          "output_type": "stream",
          "text": [
            "Epoch 1/500\n",
            "WARNING:tensorflow:Model was constructed with shape (None, 666, 8) for input KerasTensor(type_spec=TensorSpec(shape=(None, 666, 8), dtype=tf.float32, name='dense_17_input'), name='dense_17_input', description=\"created by layer 'dense_17_input'\"), but it was called on an input with incompatible shape (None, 8).\n",
            "WARNING:tensorflow:Model was constructed with shape (None, 666, 8) for input KerasTensor(type_spec=TensorSpec(shape=(None, 666, 8), dtype=tf.float32, name='dense_17_input'), name='dense_17_input', description=\"created by layer 'dense_17_input'\"), but it was called on an input with incompatible shape (None, 8).\n",
            "WARNING:tensorflow:Model was constructed with shape (None, 666, 8) for input KerasTensor(type_spec=TensorSpec(shape=(None, 666, 8), dtype=tf.float32, name='dense_17_input'), name='dense_17_input', description=\"created by layer 'dense_17_input'\"), but it was called on an input with incompatible shape (None, 8).\n",
            "21/21 - 1s - loss: 0.6843 - acc: 0.5390 - val_loss: 0.6703 - val_acc: 0.5800\n",
            "Epoch 2/500\n",
            "21/21 - 0s - loss: 0.6653 - acc: 0.6141 - val_loss: 0.6525 - val_acc: 0.6400\n",
            "Epoch 3/500\n",
            "21/21 - 0s - loss: 0.6525 - acc: 0.6216 - val_loss: 0.6413 - val_acc: 0.6500\n",
            "Epoch 4/500\n",
            "21/21 - 0s - loss: 0.6441 - acc: 0.6201 - val_loss: 0.6332 - val_acc: 0.6400\n",
            "Epoch 5/500\n",
            "21/21 - 0s - loss: 0.6375 - acc: 0.6201 - val_loss: 0.6259 - val_acc: 0.6400\n",
            "Epoch 6/500\n",
            "21/21 - 0s - loss: 0.6321 - acc: 0.6201 - val_loss: 0.6203 - val_acc: 0.6400\n",
            "Epoch 7/500\n",
            "21/21 - 0s - loss: 0.6272 - acc: 0.6201 - val_loss: 0.6151 - val_acc: 0.6400\n",
            "Epoch 8/500\n",
            "21/21 - 0s - loss: 0.6224 - acc: 0.6201 - val_loss: 0.6099 - val_acc: 0.6400\n",
            "Epoch 9/500\n",
            "21/21 - 0s - loss: 0.6176 - acc: 0.6201 - val_loss: 0.6052 - val_acc: 0.6400\n",
            "Epoch 10/500\n",
            "21/21 - 0s - loss: 0.6126 - acc: 0.6216 - val_loss: 0.6002 - val_acc: 0.6500\n",
            "Epoch 11/500\n",
            "21/21 - 0s - loss: 0.6074 - acc: 0.6261 - val_loss: 0.5952 - val_acc: 0.6500\n",
            "Epoch 12/500\n",
            "21/21 - 0s - loss: 0.6017 - acc: 0.6381 - val_loss: 0.5892 - val_acc: 0.6500\n",
            "Epoch 13/500\n",
            "21/21 - 0s - loss: 0.5950 - acc: 0.6426 - val_loss: 0.5828 - val_acc: 0.6500\n",
            "Epoch 14/500\n",
            "21/21 - 0s - loss: 0.5885 - acc: 0.6517 - val_loss: 0.5768 - val_acc: 0.6500\n",
            "Epoch 15/500\n",
            "21/21 - 0s - loss: 0.5818 - acc: 0.6577 - val_loss: 0.5700 - val_acc: 0.6400\n",
            "Epoch 16/500\n",
            "21/21 - 0s - loss: 0.5746 - acc: 0.6727 - val_loss: 0.5624 - val_acc: 0.6500\n",
            "Epoch 17/500\n",
            "21/21 - 0s - loss: 0.5670 - acc: 0.6877 - val_loss: 0.5547 - val_acc: 0.6800\n",
            "Epoch 18/500\n",
            "21/21 - 0s - loss: 0.5594 - acc: 0.7102 - val_loss: 0.5470 - val_acc: 0.6800\n",
            "Epoch 19/500\n",
            "21/21 - 0s - loss: 0.5523 - acc: 0.7222 - val_loss: 0.5401 - val_acc: 0.7000\n",
            "Epoch 20/500\n",
            "21/21 - 0s - loss: 0.5459 - acc: 0.7297 - val_loss: 0.5342 - val_acc: 0.7000\n",
            "Epoch 21/500\n",
            "21/21 - 0s - loss: 0.5400 - acc: 0.7402 - val_loss: 0.5283 - val_acc: 0.7100\n",
            "Epoch 22/500\n",
            "21/21 - 0s - loss: 0.5346 - acc: 0.7447 - val_loss: 0.5230 - val_acc: 0.7200\n",
            "Epoch 23/500\n",
            "21/21 - 0s - loss: 0.5294 - acc: 0.7568 - val_loss: 0.5175 - val_acc: 0.7400\n",
            "Epoch 24/500\n",
            "21/21 - 0s - loss: 0.5242 - acc: 0.7598 - val_loss: 0.5118 - val_acc: 0.7900\n",
            "Epoch 25/500\n",
            "21/21 - 0s - loss: 0.5191 - acc: 0.7853 - val_loss: 0.5070 - val_acc: 0.8000\n",
            "Epoch 26/500\n",
            "21/21 - 0s - loss: 0.5148 - acc: 0.7883 - val_loss: 0.5021 - val_acc: 0.8000\n",
            "Epoch 27/500\n",
            "21/21 - 0s - loss: 0.5103 - acc: 0.7973 - val_loss: 0.4975 - val_acc: 0.8000\n",
            "Epoch 28/500\n",
            "21/21 - 0s - loss: 0.5064 - acc: 0.8003 - val_loss: 0.4934 - val_acc: 0.8000\n",
            "Epoch 29/500\n",
            "21/21 - 0s - loss: 0.5024 - acc: 0.7988 - val_loss: 0.4897 - val_acc: 0.7900\n",
            "Epoch 30/500\n",
            "21/21 - 0s - loss: 0.4994 - acc: 0.8018 - val_loss: 0.4867 - val_acc: 0.8000\n",
            "Epoch 31/500\n",
            "21/21 - 0s - loss: 0.4961 - acc: 0.8078 - val_loss: 0.4834 - val_acc: 0.8000\n",
            "Epoch 32/500\n",
            "21/21 - 0s - loss: 0.4930 - acc: 0.8063 - val_loss: 0.4802 - val_acc: 0.8000\n",
            "Epoch 33/500\n",
            "21/21 - 0s - loss: 0.4902 - acc: 0.8063 - val_loss: 0.4774 - val_acc: 0.8000\n",
            "Epoch 34/500\n",
            "21/21 - 0s - loss: 0.4878 - acc: 0.8033 - val_loss: 0.4748 - val_acc: 0.8100\n",
            "Epoch 35/500\n",
            "21/21 - 0s - loss: 0.4846 - acc: 0.8048 - val_loss: 0.4721 - val_acc: 0.8100\n",
            "Epoch 36/500\n",
            "21/21 - 0s - loss: 0.4825 - acc: 0.8048 - val_loss: 0.4691 - val_acc: 0.8100\n",
            "Epoch 37/500\n",
            "21/21 - 0s - loss: 0.4801 - acc: 0.8093 - val_loss: 0.4667 - val_acc: 0.8000\n",
            "Epoch 38/500\n",
            "21/21 - 0s - loss: 0.4781 - acc: 0.8018 - val_loss: 0.4643 - val_acc: 0.8000\n",
            "Epoch 39/500\n",
            "21/21 - 0s - loss: 0.4762 - acc: 0.8063 - val_loss: 0.4619 - val_acc: 0.8000\n",
            "Epoch 40/500\n",
            "21/21 - 0s - loss: 0.4739 - acc: 0.8048 - val_loss: 0.4604 - val_acc: 0.7900\n",
            "Epoch 41/500\n",
            "21/21 - 0s - loss: 0.4726 - acc: 0.8018 - val_loss: 0.4581 - val_acc: 0.7900\n",
            "Epoch 42/500\n",
            "21/21 - 0s - loss: 0.4707 - acc: 0.8078 - val_loss: 0.4562 - val_acc: 0.7900\n",
            "Epoch 43/500\n",
            "21/21 - 0s - loss: 0.4694 - acc: 0.8033 - val_loss: 0.4538 - val_acc: 0.7900\n",
            "Epoch 44/500\n",
            "21/21 - 0s - loss: 0.4680 - acc: 0.8078 - val_loss: 0.4520 - val_acc: 0.7900\n",
            "Epoch 45/500\n",
            "21/21 - 0s - loss: 0.4661 - acc: 0.8063 - val_loss: 0.4507 - val_acc: 0.7900\n",
            "Epoch 46/500\n",
            "21/21 - 0s - loss: 0.4651 - acc: 0.8033 - val_loss: 0.4487 - val_acc: 0.7900\n",
            "Epoch 47/500\n",
            "21/21 - 0s - loss: 0.4639 - acc: 0.8048 - val_loss: 0.4468 - val_acc: 0.7900\n",
            "Epoch 48/500\n",
            "21/21 - 0s - loss: 0.4628 - acc: 0.8018 - val_loss: 0.4451 - val_acc: 0.7900\n",
            "Epoch 49/500\n",
            "21/21 - 0s - loss: 0.4615 - acc: 0.8033 - val_loss: 0.4435 - val_acc: 0.8000\n",
            "Epoch 50/500\n",
            "21/21 - 0s - loss: 0.4609 - acc: 0.8063 - val_loss: 0.4420 - val_acc: 0.8000\n",
            "Epoch 51/500\n",
            "21/21 - 0s - loss: 0.4596 - acc: 0.8063 - val_loss: 0.4408 - val_acc: 0.8000\n",
            "Epoch 52/500\n",
            "21/21 - 0s - loss: 0.4587 - acc: 0.8078 - val_loss: 0.4396 - val_acc: 0.8000\n",
            "Epoch 53/500\n",
            "21/21 - 0s - loss: 0.4581 - acc: 0.8048 - val_loss: 0.4385 - val_acc: 0.8000\n",
            "Epoch 54/500\n",
            "21/21 - 0s - loss: 0.4570 - acc: 0.7988 - val_loss: 0.4370 - val_acc: 0.8000\n",
            "Epoch 55/500\n",
            "21/21 - 0s - loss: 0.4559 - acc: 0.8078 - val_loss: 0.4365 - val_acc: 0.8000\n",
            "Epoch 56/500\n",
            "21/21 - 0s - loss: 0.4557 - acc: 0.8048 - val_loss: 0.4349 - val_acc: 0.8000\n",
            "Epoch 57/500\n",
            "21/21 - 0s - loss: 0.4548 - acc: 0.8048 - val_loss: 0.4340 - val_acc: 0.8000\n",
            "Epoch 58/500\n",
            "21/21 - 0s - loss: 0.4542 - acc: 0.8033 - val_loss: 0.4327 - val_acc: 0.8000\n",
            "Epoch 59/500\n",
            "21/21 - 0s - loss: 0.4538 - acc: 0.8033 - val_loss: 0.4318 - val_acc: 0.8000\n",
            "Epoch 60/500\n",
            "21/21 - 0s - loss: 0.4532 - acc: 0.8048 - val_loss: 0.4310 - val_acc: 0.8000\n",
            "Epoch 61/500\n",
            "21/21 - 0s - loss: 0.4525 - acc: 0.8078 - val_loss: 0.4303 - val_acc: 0.8100\n",
            "Epoch 62/500\n",
            "21/21 - 0s - loss: 0.4522 - acc: 0.7958 - val_loss: 0.4297 - val_acc: 0.8000\n",
            "Epoch 63/500\n",
            "21/21 - 0s - loss: 0.4513 - acc: 0.8048 - val_loss: 0.4287 - val_acc: 0.8000\n",
            "Epoch 64/500\n",
            "21/21 - 0s - loss: 0.4509 - acc: 0.8033 - val_loss: 0.4281 - val_acc: 0.8000\n",
            "Epoch 65/500\n",
            "21/21 - 0s - loss: 0.4502 - acc: 0.8063 - val_loss: 0.4274 - val_acc: 0.8000\n",
            "Epoch 66/500\n",
            "21/21 - 0s - loss: 0.4499 - acc: 0.8018 - val_loss: 0.4267 - val_acc: 0.8000\n",
            "Epoch 67/500\n",
            "21/21 - 0s - loss: 0.4495 - acc: 0.8048 - val_loss: 0.4260 - val_acc: 0.8000\n",
            "Epoch 68/500\n",
            "21/21 - 0s - loss: 0.4486 - acc: 0.8033 - val_loss: 0.4255 - val_acc: 0.8000\n",
            "Epoch 69/500\n",
            "21/21 - 0s - loss: 0.4482 - acc: 0.8108 - val_loss: 0.4249 - val_acc: 0.8000\n",
            "Epoch 70/500\n",
            "21/21 - 0s - loss: 0.4476 - acc: 0.8063 - val_loss: 0.4244 - val_acc: 0.8000\n",
            "Epoch 71/500\n",
            "21/21 - 0s - loss: 0.4471 - acc: 0.8048 - val_loss: 0.4235 - val_acc: 0.8000\n",
            "Epoch 72/500\n",
            "21/21 - 0s - loss: 0.4465 - acc: 0.8078 - val_loss: 0.4228 - val_acc: 0.8000\n",
            "Epoch 73/500\n",
            "21/21 - 0s - loss: 0.4468 - acc: 0.8108 - val_loss: 0.4223 - val_acc: 0.8000\n",
            "Epoch 74/500\n",
            "21/21 - 0s - loss: 0.4457 - acc: 0.8108 - val_loss: 0.4220 - val_acc: 0.8000\n",
            "Epoch 75/500\n",
            "21/21 - 0s - loss: 0.4457 - acc: 0.8018 - val_loss: 0.4212 - val_acc: 0.8000\n",
            "Epoch 76/500\n",
            "21/21 - 0s - loss: 0.4452 - acc: 0.8123 - val_loss: 0.4207 - val_acc: 0.8000\n",
            "Epoch 77/500\n",
            "21/21 - 0s - loss: 0.4450 - acc: 0.8108 - val_loss: 0.4201 - val_acc: 0.8000\n",
            "Epoch 78/500\n",
            "21/21 - 0s - loss: 0.4446 - acc: 0.8108 - val_loss: 0.4194 - val_acc: 0.8000\n",
            "Epoch 79/500\n",
            "21/21 - 0s - loss: 0.4441 - acc: 0.8063 - val_loss: 0.4190 - val_acc: 0.8000\n",
            "Epoch 80/500\n",
            "21/21 - 0s - loss: 0.4436 - acc: 0.8063 - val_loss: 0.4190 - val_acc: 0.8000\n",
            "Epoch 81/500\n",
            "21/21 - 0s - loss: 0.4438 - acc: 0.8108 - val_loss: 0.4187 - val_acc: 0.8000\n",
            "Epoch 82/500\n",
            "21/21 - 0s - loss: 0.4427 - acc: 0.8093 - val_loss: 0.4188 - val_acc: 0.8000\n",
            "Epoch 83/500\n",
            "21/21 - 0s - loss: 0.4423 - acc: 0.8078 - val_loss: 0.4184 - val_acc: 0.8000\n",
            "Epoch 84/500\n",
            "21/21 - 0s - loss: 0.4420 - acc: 0.8093 - val_loss: 0.4183 - val_acc: 0.8000\n",
            "Epoch 85/500\n",
            "21/21 - 0s - loss: 0.4415 - acc: 0.8093 - val_loss: 0.4180 - val_acc: 0.8000\n",
            "Epoch 86/500\n",
            "21/21 - 0s - loss: 0.4409 - acc: 0.8093 - val_loss: 0.4179 - val_acc: 0.8000\n",
            "Epoch 87/500\n",
            "21/21 - 0s - loss: 0.4402 - acc: 0.8168 - val_loss: 0.4176 - val_acc: 0.8000\n",
            "Epoch 88/500\n",
            "21/21 - 0s - loss: 0.4400 - acc: 0.8138 - val_loss: 0.4172 - val_acc: 0.8000\n",
            "Epoch 89/500\n",
            "21/21 - 0s - loss: 0.4394 - acc: 0.8153 - val_loss: 0.4172 - val_acc: 0.8000\n",
            "Epoch 90/500\n",
            "21/21 - 0s - loss: 0.4393 - acc: 0.8153 - val_loss: 0.4165 - val_acc: 0.8000\n",
            "Epoch 91/500\n",
            "21/21 - 0s - loss: 0.4384 - acc: 0.8198 - val_loss: 0.4163 - val_acc: 0.8000\n",
            "Epoch 92/500\n",
            "21/21 - 0s - loss: 0.4381 - acc: 0.8153 - val_loss: 0.4160 - val_acc: 0.8000\n",
            "Epoch 93/500\n",
            "21/21 - 0s - loss: 0.4379 - acc: 0.8153 - val_loss: 0.4158 - val_acc: 0.8000\n",
            "Epoch 94/500\n",
            "21/21 - 0s - loss: 0.4370 - acc: 0.8153 - val_loss: 0.4155 - val_acc: 0.8000\n",
            "Epoch 95/500\n",
            "21/21 - 0s - loss: 0.4367 - acc: 0.8183 - val_loss: 0.4149 - val_acc: 0.7900\n",
            "Epoch 96/500\n",
            "21/21 - 0s - loss: 0.4363 - acc: 0.8123 - val_loss: 0.4147 - val_acc: 0.7900\n",
            "Epoch 97/500\n",
            "21/21 - 0s - loss: 0.4360 - acc: 0.8183 - val_loss: 0.4143 - val_acc: 0.8000\n",
            "Epoch 98/500\n",
            "21/21 - 0s - loss: 0.4361 - acc: 0.8168 - val_loss: 0.4138 - val_acc: 0.8000\n",
            "Epoch 99/500\n",
            "21/21 - 0s - loss: 0.4351 - acc: 0.8198 - val_loss: 0.4133 - val_acc: 0.8000\n",
            "Epoch 100/500\n",
            "21/21 - 0s - loss: 0.4347 - acc: 0.8138 - val_loss: 0.4134 - val_acc: 0.8000\n",
            "Epoch 101/500\n",
            "21/21 - 0s - loss: 0.4346 - acc: 0.8138 - val_loss: 0.4127 - val_acc: 0.8000\n",
            "Epoch 102/500\n",
            "21/21 - 0s - loss: 0.4339 - acc: 0.8198 - val_loss: 0.4121 - val_acc: 0.8000\n",
            "Epoch 103/500\n",
            "21/21 - 0s - loss: 0.4337 - acc: 0.8183 - val_loss: 0.4112 - val_acc: 0.7900\n",
            "Epoch 104/500\n",
            "21/21 - 0s - loss: 0.4334 - acc: 0.8138 - val_loss: 0.4105 - val_acc: 0.7900\n",
            "Epoch 105/500\n",
            "21/21 - 0s - loss: 0.4331 - acc: 0.8183 - val_loss: 0.4103 - val_acc: 0.8000\n",
            "Epoch 106/500\n",
            "21/21 - 0s - loss: 0.4332 - acc: 0.8168 - val_loss: 0.4098 - val_acc: 0.8000\n",
            "Epoch 107/500\n",
            "21/21 - 0s - loss: 0.4324 - acc: 0.8213 - val_loss: 0.4090 - val_acc: 0.8000\n",
            "Epoch 108/500\n",
            "21/21 - 0s - loss: 0.4322 - acc: 0.8168 - val_loss: 0.4089 - val_acc: 0.8000\n",
            "Epoch 109/500\n",
            "21/21 - 0s - loss: 0.4323 - acc: 0.8153 - val_loss: 0.4086 - val_acc: 0.8000\n",
            "Epoch 110/500\n",
            "21/21 - 0s - loss: 0.4318 - acc: 0.8153 - val_loss: 0.4081 - val_acc: 0.7900\n",
            "Epoch 111/500\n",
            "21/21 - 0s - loss: 0.4319 - acc: 0.8168 - val_loss: 0.4077 - val_acc: 0.7900\n",
            "Epoch 112/500\n",
            "21/21 - 0s - loss: 0.4314 - acc: 0.8198 - val_loss: 0.4072 - val_acc: 0.7900\n",
            "Epoch 113/500\n",
            "21/21 - 0s - loss: 0.4311 - acc: 0.8138 - val_loss: 0.4071 - val_acc: 0.8000\n",
            "Epoch 114/500\n",
            "21/21 - 0s - loss: 0.4309 - acc: 0.8198 - val_loss: 0.4064 - val_acc: 0.7900\n",
            "Epoch 115/500\n",
            "21/21 - 0s - loss: 0.4306 - acc: 0.8168 - val_loss: 0.4062 - val_acc: 0.7900\n",
            "Epoch 116/500\n",
            "21/21 - 0s - loss: 0.4305 - acc: 0.8213 - val_loss: 0.4062 - val_acc: 0.8100\n",
            "Epoch 117/500\n",
            "21/21 - 0s - loss: 0.4301 - acc: 0.8183 - val_loss: 0.4057 - val_acc: 0.7900\n",
            "Epoch 118/500\n",
            "21/21 - 0s - loss: 0.4296 - acc: 0.8213 - val_loss: 0.4055 - val_acc: 0.7900\n",
            "Epoch 119/500\n",
            "21/21 - 0s - loss: 0.4296 - acc: 0.8183 - val_loss: 0.4053 - val_acc: 0.8000\n",
            "Epoch 120/500\n",
            "21/21 - 0s - loss: 0.4298 - acc: 0.8198 - val_loss: 0.4049 - val_acc: 0.7900\n",
            "Epoch 121/500\n",
            "21/21 - 0s - loss: 0.4294 - acc: 0.8183 - val_loss: 0.4050 - val_acc: 0.8000\n",
            "Epoch 122/500\n",
            "21/21 - 0s - loss: 0.4294 - acc: 0.8168 - val_loss: 0.4044 - val_acc: 0.8000\n",
            "Epoch 123/500\n",
            "21/21 - 0s - loss: 0.4290 - acc: 0.8183 - val_loss: 0.4040 - val_acc: 0.7900\n",
            "Epoch 124/500\n",
            "21/21 - 0s - loss: 0.4287 - acc: 0.8213 - val_loss: 0.4038 - val_acc: 0.8000\n",
            "Epoch 125/500\n",
            "21/21 - 0s - loss: 0.4289 - acc: 0.8198 - val_loss: 0.4036 - val_acc: 0.8000\n",
            "Epoch 126/500\n",
            "21/21 - 0s - loss: 0.4285 - acc: 0.8198 - val_loss: 0.4034 - val_acc: 0.8100\n",
            "Epoch 127/500\n",
            "21/21 - 0s - loss: 0.4282 - acc: 0.8198 - val_loss: 0.4029 - val_acc: 0.8100\n",
            "Epoch 128/500\n",
            "21/21 - 0s - loss: 0.4285 - acc: 0.8198 - val_loss: 0.4021 - val_acc: 0.8100\n",
            "Epoch 129/500\n",
            "21/21 - 0s - loss: 0.4278 - acc: 0.8183 - val_loss: 0.4020 - val_acc: 0.8100\n",
            "Epoch 130/500\n",
            "21/21 - 0s - loss: 0.4275 - acc: 0.8183 - val_loss: 0.4021 - val_acc: 0.8100\n",
            "Epoch 131/500\n",
            "21/21 - 0s - loss: 0.4277 - acc: 0.8198 - val_loss: 0.4015 - val_acc: 0.8100\n",
            "Epoch 132/500\n",
            "21/21 - 0s - loss: 0.4274 - acc: 0.8243 - val_loss: 0.4017 - val_acc: 0.8200\n",
            "Epoch 133/500\n",
            "21/21 - 0s - loss: 0.4272 - acc: 0.8198 - val_loss: 0.4007 - val_acc: 0.8100\n",
            "Epoch 134/500\n",
            "21/21 - 0s - loss: 0.4268 - acc: 0.8228 - val_loss: 0.3999 - val_acc: 0.8100\n",
            "Epoch 135/500\n",
            "21/21 - 0s - loss: 0.4266 - acc: 0.8123 - val_loss: 0.4003 - val_acc: 0.8200\n",
            "Epoch 136/500\n",
            "21/21 - 0s - loss: 0.4263 - acc: 0.8168 - val_loss: 0.3998 - val_acc: 0.8100\n",
            "Epoch 137/500\n",
            "21/21 - 0s - loss: 0.4261 - acc: 0.8243 - val_loss: 0.3994 - val_acc: 0.8100\n",
            "Epoch 138/500\n",
            "21/21 - 0s - loss: 0.4261 - acc: 0.8168 - val_loss: 0.3992 - val_acc: 0.8100\n",
            "Epoch 139/500\n",
            "21/21 - 0s - loss: 0.4261 - acc: 0.8198 - val_loss: 0.3985 - val_acc: 0.8100\n",
            "Epoch 140/500\n",
            "21/21 - 0s - loss: 0.4260 - acc: 0.8123 - val_loss: 0.3982 - val_acc: 0.8100\n",
            "Epoch 141/500\n",
            "21/21 - 0s - loss: 0.4254 - acc: 0.8213 - val_loss: 0.3980 - val_acc: 0.8100\n",
            "Epoch 142/500\n",
            "21/21 - 0s - loss: 0.4259 - acc: 0.8168 - val_loss: 0.3978 - val_acc: 0.8100\n",
            "Epoch 143/500\n",
            "21/21 - 0s - loss: 0.4251 - acc: 0.8153 - val_loss: 0.3977 - val_acc: 0.8100\n",
            "Epoch 144/500\n",
            "21/21 - 0s - loss: 0.4251 - acc: 0.8183 - val_loss: 0.3975 - val_acc: 0.8200\n",
            "Epoch 145/500\n",
            "21/21 - 0s - loss: 0.4248 - acc: 0.8153 - val_loss: 0.3970 - val_acc: 0.8200\n",
            "Epoch 146/500\n",
            "21/21 - 0s - loss: 0.4246 - acc: 0.8153 - val_loss: 0.3965 - val_acc: 0.8200\n",
            "Epoch 147/500\n",
            "21/21 - 0s - loss: 0.4246 - acc: 0.8213 - val_loss: 0.3973 - val_acc: 0.8200\n",
            "Epoch 148/500\n",
            "21/21 - 0s - loss: 0.4243 - acc: 0.8228 - val_loss: 0.3970 - val_acc: 0.8200\n",
            "Epoch 149/500\n",
            "21/21 - 0s - loss: 0.4242 - acc: 0.8213 - val_loss: 0.3969 - val_acc: 0.8200\n",
            "Epoch 150/500\n",
            "21/21 - 0s - loss: 0.4236 - acc: 0.8258 - val_loss: 0.3965 - val_acc: 0.8200\n",
            "Epoch 151/500\n",
            "21/21 - 0s - loss: 0.4232 - acc: 0.8213 - val_loss: 0.3960 - val_acc: 0.8200\n",
            "Epoch 152/500\n",
            "21/21 - 0s - loss: 0.4238 - acc: 0.8258 - val_loss: 0.3960 - val_acc: 0.8200\n",
            "Epoch 153/500\n",
            "21/21 - 0s - loss: 0.4237 - acc: 0.8228 - val_loss: 0.3958 - val_acc: 0.8100\n",
            "Epoch 154/500\n",
            "21/21 - 0s - loss: 0.4234 - acc: 0.8228 - val_loss: 0.3958 - val_acc: 0.8100\n",
            "Epoch 155/500\n",
            "21/21 - 0s - loss: 0.4231 - acc: 0.8273 - val_loss: 0.3949 - val_acc: 0.8100\n",
            "Epoch 156/500\n",
            "21/21 - 0s - loss: 0.4228 - acc: 0.8243 - val_loss: 0.3942 - val_acc: 0.8100\n",
            "Epoch 157/500\n",
            "21/21 - 0s - loss: 0.4230 - acc: 0.8228 - val_loss: 0.3949 - val_acc: 0.8300\n",
            "Epoch 158/500\n",
            "21/21 - 0s - loss: 0.4227 - acc: 0.8213 - val_loss: 0.3946 - val_acc: 0.8200\n",
            "Epoch 159/500\n",
            "21/21 - 0s - loss: 0.4228 - acc: 0.8228 - val_loss: 0.3941 - val_acc: 0.8100\n",
            "Epoch 160/500\n",
            "21/21 - 0s - loss: 0.4224 - acc: 0.8213 - val_loss: 0.3940 - val_acc: 0.8300\n",
            "Epoch 161/500\n",
            "21/21 - 0s - loss: 0.4224 - acc: 0.8213 - val_loss: 0.3933 - val_acc: 0.8200\n",
            "Epoch 162/500\n",
            "21/21 - 0s - loss: 0.4222 - acc: 0.8258 - val_loss: 0.3923 - val_acc: 0.8200\n",
            "Epoch 163/500\n",
            "21/21 - 0s - loss: 0.4220 - acc: 0.8258 - val_loss: 0.3928 - val_acc: 0.8300\n",
            "Epoch 164/500\n",
            "21/21 - 0s - loss: 0.4224 - acc: 0.8228 - val_loss: 0.3926 - val_acc: 0.8300\n",
            "Epoch 165/500\n",
            "21/21 - 0s - loss: 0.4219 - acc: 0.8273 - val_loss: 0.3925 - val_acc: 0.8300\n",
            "Epoch 166/500\n",
            "21/21 - 0s - loss: 0.4221 - acc: 0.8258 - val_loss: 0.3924 - val_acc: 0.8300\n",
            "Epoch 167/500\n",
            "21/21 - 0s - loss: 0.4219 - acc: 0.8243 - val_loss: 0.3919 - val_acc: 0.8300\n",
            "Epoch 168/500\n",
            "21/21 - 0s - loss: 0.4214 - acc: 0.8258 - val_loss: 0.3923 - val_acc: 0.8400\n",
            "Epoch 169/500\n",
            "21/21 - 0s - loss: 0.4219 - acc: 0.8258 - val_loss: 0.3919 - val_acc: 0.8400\n",
            "Epoch 170/500\n",
            "21/21 - 0s - loss: 0.4211 - acc: 0.8228 - val_loss: 0.3912 - val_acc: 0.8200\n",
            "Epoch 171/500\n",
            "21/21 - 0s - loss: 0.4214 - acc: 0.8243 - val_loss: 0.3907 - val_acc: 0.8200\n",
            "Epoch 172/500\n",
            "21/21 - 0s - loss: 0.4212 - acc: 0.8258 - val_loss: 0.3906 - val_acc: 0.8300\n",
            "Epoch 173/500\n",
            "21/21 - 0s - loss: 0.4207 - acc: 0.8258 - val_loss: 0.3907 - val_acc: 0.8400\n",
            "Epoch 174/500\n",
            "21/21 - 0s - loss: 0.4211 - acc: 0.8213 - val_loss: 0.3904 - val_acc: 0.8300\n",
            "Epoch 175/500\n",
            "21/21 - 0s - loss: 0.4211 - acc: 0.8213 - val_loss: 0.3900 - val_acc: 0.8300\n",
            "Epoch 176/500\n",
            "21/21 - 0s - loss: 0.4205 - acc: 0.8258 - val_loss: 0.3902 - val_acc: 0.8400\n",
            "Epoch 177/500\n",
            "21/21 - 0s - loss: 0.4208 - acc: 0.8228 - val_loss: 0.3901 - val_acc: 0.8400\n",
            "Epoch 178/500\n",
            "21/21 - 0s - loss: 0.4205 - acc: 0.8213 - val_loss: 0.3895 - val_acc: 0.8300\n",
            "Epoch 179/500\n",
            "21/21 - 0s - loss: 0.4204 - acc: 0.8213 - val_loss: 0.3891 - val_acc: 0.8300\n",
            "Epoch 180/500\n",
            "21/21 - 0s - loss: 0.4206 - acc: 0.8243 - val_loss: 0.3893 - val_acc: 0.8300\n",
            "Epoch 181/500\n",
            "21/21 - 0s - loss: 0.4202 - acc: 0.8243 - val_loss: 0.3886 - val_acc: 0.8200\n",
            "Epoch 182/500\n",
            "21/21 - 0s - loss: 0.4201 - acc: 0.8273 - val_loss: 0.3889 - val_acc: 0.8400\n",
            "Epoch 183/500\n",
            "21/21 - 0s - loss: 0.4197 - acc: 0.8213 - val_loss: 0.3881 - val_acc: 0.8300\n",
            "Epoch 184/500\n",
            "21/21 - 0s - loss: 0.4194 - acc: 0.8228 - val_loss: 0.3879 - val_acc: 0.8200\n",
            "Epoch 185/500\n",
            "21/21 - 0s - loss: 0.4199 - acc: 0.8258 - val_loss: 0.3887 - val_acc: 0.8400\n",
            "Epoch 186/500\n",
            "21/21 - 0s - loss: 0.4199 - acc: 0.8258 - val_loss: 0.3881 - val_acc: 0.8400\n",
            "Epoch 187/500\n",
            "21/21 - 0s - loss: 0.4197 - acc: 0.8228 - val_loss: 0.3880 - val_acc: 0.8200\n",
            "Epoch 188/500\n",
            "21/21 - 0s - loss: 0.4196 - acc: 0.8243 - val_loss: 0.3871 - val_acc: 0.8300\n",
            "Epoch 189/500\n",
            "21/21 - 0s - loss: 0.4196 - acc: 0.8258 - val_loss: 0.3875 - val_acc: 0.8400\n",
            "Epoch 190/500\n",
            "21/21 - 0s - loss: 0.4195 - acc: 0.8273 - val_loss: 0.3872 - val_acc: 0.8400\n",
            "Epoch 191/500\n",
            "21/21 - 0s - loss: 0.4193 - acc: 0.8213 - val_loss: 0.3869 - val_acc: 0.8200\n",
            "Epoch 192/500\n",
            "21/21 - 0s - loss: 0.4196 - acc: 0.8243 - val_loss: 0.3870 - val_acc: 0.8400\n",
            "Epoch 193/500\n",
            "21/21 - 0s - loss: 0.4192 - acc: 0.8228 - val_loss: 0.3861 - val_acc: 0.8200\n",
            "Epoch 194/500\n",
            "21/21 - 0s - loss: 0.4191 - acc: 0.8228 - val_loss: 0.3864 - val_acc: 0.8400\n",
            "Epoch 195/500\n",
            "21/21 - 0s - loss: 0.4192 - acc: 0.8243 - val_loss: 0.3863 - val_acc: 0.8300\n",
            "Epoch 196/500\n",
            "21/21 - 0s - loss: 0.4190 - acc: 0.8243 - val_loss: 0.3871 - val_acc: 0.8400\n",
            "Epoch 197/500\n",
            "21/21 - 0s - loss: 0.4193 - acc: 0.8228 - val_loss: 0.3856 - val_acc: 0.8400\n",
            "Epoch 198/500\n",
            "21/21 - 0s - loss: 0.4188 - acc: 0.8198 - val_loss: 0.3854 - val_acc: 0.8400\n",
            "Epoch 199/500\n",
            "21/21 - 0s - loss: 0.4184 - acc: 0.8228 - val_loss: 0.3855 - val_acc: 0.8400\n",
            "Epoch 200/500\n",
            "21/21 - 0s - loss: 0.4191 - acc: 0.8198 - val_loss: 0.3847 - val_acc: 0.8200\n",
            "Epoch 201/500\n",
            "21/21 - 0s - loss: 0.4183 - acc: 0.8273 - val_loss: 0.3852 - val_acc: 0.8400\n",
            "Epoch 202/500\n",
            "21/21 - 0s - loss: 0.4185 - acc: 0.8213 - val_loss: 0.3847 - val_acc: 0.8200\n",
            "Epoch 203/500\n",
            "21/21 - 0s - loss: 0.4180 - acc: 0.8258 - val_loss: 0.3852 - val_acc: 0.8400\n",
            "Epoch 204/500\n",
            "21/21 - 0s - loss: 0.4176 - acc: 0.8213 - val_loss: 0.3837 - val_acc: 0.8300\n",
            "Epoch 205/500\n",
            "21/21 - 0s - loss: 0.4189 - acc: 0.8258 - val_loss: 0.3837 - val_acc: 0.8300\n",
            "Epoch 206/500\n",
            "21/21 - 0s - loss: 0.4181 - acc: 0.8228 - val_loss: 0.3836 - val_acc: 0.8300\n",
            "Epoch 207/500\n",
            "21/21 - 0s - loss: 0.4176 - acc: 0.8228 - val_loss: 0.3830 - val_acc: 0.8200\n",
            "Epoch 208/500\n",
            "21/21 - 0s - loss: 0.4180 - acc: 0.8273 - val_loss: 0.3835 - val_acc: 0.8400\n",
            "Epoch 209/500\n",
            "21/21 - 0s - loss: 0.4175 - acc: 0.8258 - val_loss: 0.3836 - val_acc: 0.8400\n",
            "Epoch 210/500\n",
            "21/21 - 0s - loss: 0.4178 - acc: 0.8228 - val_loss: 0.3824 - val_acc: 0.8400\n",
            "Epoch 211/500\n",
            "21/21 - 0s - loss: 0.4175 - acc: 0.8228 - val_loss: 0.3823 - val_acc: 0.8300\n",
            "Epoch 212/500\n",
            "21/21 - 0s - loss: 0.4173 - acc: 0.8243 - val_loss: 0.3823 - val_acc: 0.8300\n",
            "Epoch 213/500\n",
            "21/21 - 0s - loss: 0.4171 - acc: 0.8198 - val_loss: 0.3824 - val_acc: 0.8500\n",
            "Epoch 214/500\n",
            "21/21 - 0s - loss: 0.4168 - acc: 0.8288 - val_loss: 0.3828 - val_acc: 0.8400\n",
            "Epoch 215/500\n",
            "21/21 - 0s - loss: 0.4172 - acc: 0.8213 - val_loss: 0.3812 - val_acc: 0.8300\n",
            "Epoch 216/500\n",
            "21/21 - 0s - loss: 0.4168 - acc: 0.8213 - val_loss: 0.3811 - val_acc: 0.8300\n",
            "Epoch 217/500\n",
            "21/21 - 0s - loss: 0.4172 - acc: 0.8243 - val_loss: 0.3817 - val_acc: 0.8400\n",
            "Epoch 218/500\n",
            "21/21 - 0s - loss: 0.4170 - acc: 0.8228 - val_loss: 0.3820 - val_acc: 0.8400\n",
            "Epoch 219/500\n",
            "21/21 - 0s - loss: 0.4169 - acc: 0.8228 - val_loss: 0.3824 - val_acc: 0.8400\n",
            "Epoch 220/500\n",
            "21/21 - 0s - loss: 0.4169 - acc: 0.8243 - val_loss: 0.3817 - val_acc: 0.8500\n",
            "Epoch 221/500\n",
            "21/21 - 0s - loss: 0.4167 - acc: 0.8213 - val_loss: 0.3808 - val_acc: 0.8400\n",
            "Epoch 222/500\n",
            "21/21 - 0s - loss: 0.4166 - acc: 0.8213 - val_loss: 0.3812 - val_acc: 0.8400\n",
            "Epoch 223/500\n",
            "21/21 - 0s - loss: 0.4165 - acc: 0.8213 - val_loss: 0.3807 - val_acc: 0.8400\n",
            "Epoch 224/500\n",
            "21/21 - 0s - loss: 0.4163 - acc: 0.8228 - val_loss: 0.3801 - val_acc: 0.8300\n",
            "Epoch 225/500\n",
            "21/21 - 0s - loss: 0.4160 - acc: 0.8228 - val_loss: 0.3812 - val_acc: 0.8400\n",
            "Epoch 226/500\n",
            "21/21 - 0s - loss: 0.4164 - acc: 0.8228 - val_loss: 0.3805 - val_acc: 0.8400\n",
            "Epoch 227/500\n",
            "21/21 - 0s - loss: 0.4160 - acc: 0.8228 - val_loss: 0.3809 - val_acc: 0.8400\n",
            "Epoch 228/500\n",
            "21/21 - 0s - loss: 0.4161 - acc: 0.8213 - val_loss: 0.3798 - val_acc: 0.8400\n",
            "Epoch 229/500\n",
            "21/21 - 0s - loss: 0.4158 - acc: 0.8213 - val_loss: 0.3800 - val_acc: 0.8400\n",
            "Epoch 230/500\n",
            "21/21 - 0s - loss: 0.4159 - acc: 0.8213 - val_loss: 0.3790 - val_acc: 0.8400\n",
            "Epoch 231/500\n",
            "21/21 - 0s - loss: 0.4155 - acc: 0.8213 - val_loss: 0.3793 - val_acc: 0.8400\n",
            "Epoch 232/500\n",
            "21/21 - 0s - loss: 0.4161 - acc: 0.8213 - val_loss: 0.3799 - val_acc: 0.8400\n",
            "Epoch 233/500\n",
            "21/21 - 0s - loss: 0.4158 - acc: 0.8198 - val_loss: 0.3792 - val_acc: 0.8400\n",
            "Epoch 234/500\n",
            "21/21 - 0s - loss: 0.4156 - acc: 0.8228 - val_loss: 0.3791 - val_acc: 0.8400\n",
            "Epoch 235/500\n",
            "21/21 - 0s - loss: 0.4155 - acc: 0.8243 - val_loss: 0.3788 - val_acc: 0.8500\n",
            "Epoch 236/500\n",
            "21/21 - 0s - loss: 0.4149 - acc: 0.8228 - val_loss: 0.3793 - val_acc: 0.8500\n",
            "Epoch 237/500\n",
            "21/21 - 0s - loss: 0.4151 - acc: 0.8198 - val_loss: 0.3783 - val_acc: 0.8400\n",
            "Epoch 238/500\n",
            "21/21 - 0s - loss: 0.4154 - acc: 0.8228 - val_loss: 0.3781 - val_acc: 0.8400\n",
            "Epoch 239/500\n",
            "21/21 - 0s - loss: 0.4151 - acc: 0.8258 - val_loss: 0.3790 - val_acc: 0.8500\n",
            "Epoch 240/500\n",
            "21/21 - 0s - loss: 0.4150 - acc: 0.8213 - val_loss: 0.3778 - val_acc: 0.8400\n",
            "Epoch 241/500\n",
            "21/21 - 0s - loss: 0.4146 - acc: 0.8228 - val_loss: 0.3780 - val_acc: 0.8500\n",
            "Epoch 242/500\n",
            "21/21 - 0s - loss: 0.4153 - acc: 0.8228 - val_loss: 0.3774 - val_acc: 0.8500\n",
            "Epoch 243/500\n",
            "21/21 - 0s - loss: 0.4147 - acc: 0.8213 - val_loss: 0.3776 - val_acc: 0.8500\n",
            "Epoch 244/500\n",
            "21/21 - 0s - loss: 0.4146 - acc: 0.8258 - val_loss: 0.3768 - val_acc: 0.8500\n",
            "Epoch 245/500\n",
            "21/21 - 0s - loss: 0.4141 - acc: 0.8228 - val_loss: 0.3766 - val_acc: 0.8400\n",
            "Epoch 246/500\n",
            "21/21 - 0s - loss: 0.4146 - acc: 0.8228 - val_loss: 0.3763 - val_acc: 0.8400\n",
            "Epoch 247/500\n",
            "21/21 - 0s - loss: 0.4146 - acc: 0.8198 - val_loss: 0.3762 - val_acc: 0.8400\n",
            "Epoch 248/500\n",
            "21/21 - 0s - loss: 0.4144 - acc: 0.8213 - val_loss: 0.3766 - val_acc: 0.8600\n",
            "Epoch 249/500\n",
            "21/21 - 0s - loss: 0.4143 - acc: 0.8228 - val_loss: 0.3761 - val_acc: 0.8600\n",
            "Epoch 250/500\n",
            "21/21 - 0s - loss: 0.4138 - acc: 0.8228 - val_loss: 0.3760 - val_acc: 0.8600\n",
            "Epoch 251/500\n",
            "21/21 - 0s - loss: 0.4141 - acc: 0.8228 - val_loss: 0.3756 - val_acc: 0.8600\n",
            "Epoch 252/500\n",
            "21/21 - 0s - loss: 0.4143 - acc: 0.8213 - val_loss: 0.3750 - val_acc: 0.8500\n",
            "Epoch 253/500\n",
            "21/21 - 0s - loss: 0.4142 - acc: 0.8213 - val_loss: 0.3752 - val_acc: 0.8600\n",
            "Epoch 254/500\n",
            "21/21 - 0s - loss: 0.4138 - acc: 0.8228 - val_loss: 0.3750 - val_acc: 0.8600\n",
            "Epoch 255/500\n",
            "21/21 - 0s - loss: 0.4137 - acc: 0.8228 - val_loss: 0.3746 - val_acc: 0.8600\n",
            "Epoch 256/500\n",
            "21/21 - 0s - loss: 0.4133 - acc: 0.8228 - val_loss: 0.3756 - val_acc: 0.8600\n",
            "Epoch 257/500\n",
            "21/21 - 0s - loss: 0.4138 - acc: 0.8213 - val_loss: 0.3751 - val_acc: 0.8600\n",
            "Epoch 258/500\n",
            "21/21 - 0s - loss: 0.4129 - acc: 0.8228 - val_loss: 0.3758 - val_acc: 0.8500\n",
            "Epoch 259/500\n",
            "21/21 - 0s - loss: 0.4130 - acc: 0.8228 - val_loss: 0.3751 - val_acc: 0.8600\n",
            "Epoch 260/500\n",
            "21/21 - 0s - loss: 0.4135 - acc: 0.8228 - val_loss: 0.3752 - val_acc: 0.8600\n",
            "Epoch 261/500\n",
            "21/21 - 0s - loss: 0.4128 - acc: 0.8243 - val_loss: 0.3752 - val_acc: 0.8600\n",
            "Epoch 262/500\n",
            "21/21 - 0s - loss: 0.4136 - acc: 0.8213 - val_loss: 0.3742 - val_acc: 0.8600\n",
            "Epoch 263/500\n",
            "21/21 - 0s - loss: 0.4133 - acc: 0.8228 - val_loss: 0.3745 - val_acc: 0.8600\n",
            "Epoch 264/500\n",
            "21/21 - 0s - loss: 0.4129 - acc: 0.8213 - val_loss: 0.3742 - val_acc: 0.8600\n",
            "Epoch 265/500\n",
            "21/21 - 0s - loss: 0.4130 - acc: 0.8228 - val_loss: 0.3745 - val_acc: 0.8500\n",
            "Epoch 266/500\n",
            "21/21 - 0s - loss: 0.4128 - acc: 0.8243 - val_loss: 0.3737 - val_acc: 0.8500\n",
            "Epoch 267/500\n",
            "21/21 - 0s - loss: 0.4128 - acc: 0.8228 - val_loss: 0.3739 - val_acc: 0.8500\n",
            "Epoch 268/500\n",
            "21/21 - 0s - loss: 0.4122 - acc: 0.8288 - val_loss: 0.3745 - val_acc: 0.8600\n",
            "Epoch 269/500\n",
            "21/21 - 0s - loss: 0.4127 - acc: 0.8228 - val_loss: 0.3732 - val_acc: 0.8600\n",
            "Epoch 270/500\n",
            "21/21 - 0s - loss: 0.4122 - acc: 0.8243 - val_loss: 0.3730 - val_acc: 0.8600\n",
            "Epoch 271/500\n",
            "21/21 - 0s - loss: 0.4129 - acc: 0.8258 - val_loss: 0.3725 - val_acc: 0.8600\n",
            "Epoch 272/500\n",
            "21/21 - 0s - loss: 0.4122 - acc: 0.8243 - val_loss: 0.3726 - val_acc: 0.8600\n",
            "Epoch 273/500\n",
            "21/21 - 0s - loss: 0.4123 - acc: 0.8213 - val_loss: 0.3729 - val_acc: 0.8600\n",
            "Epoch 274/500\n",
            "21/21 - 0s - loss: 0.4125 - acc: 0.8258 - val_loss: 0.3729 - val_acc: 0.8600\n",
            "Epoch 275/500\n",
            "21/21 - 0s - loss: 0.4117 - acc: 0.8228 - val_loss: 0.3723 - val_acc: 0.8600\n",
            "Epoch 276/500\n",
            "21/21 - 0s - loss: 0.4122 - acc: 0.8258 - val_loss: 0.3725 - val_acc: 0.8700\n",
            "Epoch 277/500\n",
            "21/21 - 0s - loss: 0.4120 - acc: 0.8243 - val_loss: 0.3722 - val_acc: 0.8600\n",
            "Epoch 278/500\n",
            "21/21 - 0s - loss: 0.4117 - acc: 0.8258 - val_loss: 0.3723 - val_acc: 0.8700\n",
            "Epoch 279/500\n",
            "21/21 - 0s - loss: 0.4124 - acc: 0.8243 - val_loss: 0.3733 - val_acc: 0.8600\n",
            "Epoch 280/500\n",
            "21/21 - 0s - loss: 0.4111 - acc: 0.8228 - val_loss: 0.3717 - val_acc: 0.8400\n",
            "Epoch 281/500\n",
            "21/21 - 0s - loss: 0.4117 - acc: 0.8228 - val_loss: 0.3714 - val_acc: 0.8500\n",
            "Epoch 282/500\n",
            "21/21 - 0s - loss: 0.4118 - acc: 0.8213 - val_loss: 0.3715 - val_acc: 0.8600\n",
            "Epoch 283/500\n",
            "21/21 - 0s - loss: 0.4115 - acc: 0.8243 - val_loss: 0.3718 - val_acc: 0.8400\n",
            "Epoch 284/500\n",
            "21/21 - 0s - loss: 0.4117 - acc: 0.8273 - val_loss: 0.3718 - val_acc: 0.8700\n",
            "Epoch 285/500\n",
            "21/21 - 0s - loss: 0.4117 - acc: 0.8228 - val_loss: 0.3712 - val_acc: 0.8600\n",
            "Epoch 286/500\n",
            "21/21 - 0s - loss: 0.4116 - acc: 0.8243 - val_loss: 0.3715 - val_acc: 0.8700\n",
            "Epoch 287/500\n",
            "21/21 - 0s - loss: 0.4115 - acc: 0.8273 - val_loss: 0.3707 - val_acc: 0.8700\n",
            "Epoch 288/500\n",
            "21/21 - 0s - loss: 0.4108 - acc: 0.8243 - val_loss: 0.3712 - val_acc: 0.8700\n",
            "Epoch 289/500\n",
            "21/21 - 0s - loss: 0.4108 - acc: 0.8228 - val_loss: 0.3721 - val_acc: 0.8700\n",
            "Epoch 290/500\n",
            "21/21 - 0s - loss: 0.4110 - acc: 0.8258 - val_loss: 0.3714 - val_acc: 0.8700\n",
            "Epoch 291/500\n",
            "21/21 - 0s - loss: 0.4112 - acc: 0.8258 - val_loss: 0.3714 - val_acc: 0.8700\n",
            "Epoch 292/500\n",
            "21/21 - 0s - loss: 0.4108 - acc: 0.8228 - val_loss: 0.3713 - val_acc: 0.8700\n",
            "Epoch 293/500\n",
            "21/21 - 0s - loss: 0.4109 - acc: 0.8243 - val_loss: 0.3707 - val_acc: 0.8700\n",
            "Epoch 294/500\n",
            "21/21 - 0s - loss: 0.4106 - acc: 0.8318 - val_loss: 0.3711 - val_acc: 0.8700\n",
            "Epoch 295/500\n",
            "21/21 - 0s - loss: 0.4103 - acc: 0.8258 - val_loss: 0.3704 - val_acc: 0.8700\n",
            "Epoch 296/500\n",
            "21/21 - 0s - loss: 0.4113 - acc: 0.8228 - val_loss: 0.3702 - val_acc: 0.8700\n",
            "Epoch 297/500\n",
            "21/21 - 0s - loss: 0.4107 - acc: 0.8288 - val_loss: 0.3702 - val_acc: 0.8700\n",
            "Epoch 298/500\n",
            "21/21 - 0s - loss: 0.4102 - acc: 0.8288 - val_loss: 0.3709 - val_acc: 0.8700\n",
            "Epoch 299/500\n",
            "21/21 - 0s - loss: 0.4105 - acc: 0.8288 - val_loss: 0.3700 - val_acc: 0.8700\n",
            "Epoch 300/500\n",
            "21/21 - 0s - loss: 0.4101 - acc: 0.8243 - val_loss: 0.3693 - val_acc: 0.8700\n",
            "Epoch 301/500\n",
            "21/21 - 0s - loss: 0.4106 - acc: 0.8273 - val_loss: 0.3701 - val_acc: 0.8700\n",
            "Epoch 302/500\n",
            "21/21 - 0s - loss: 0.4105 - acc: 0.8273 - val_loss: 0.3697 - val_acc: 0.8700\n",
            "Epoch 303/500\n",
            "21/21 - 0s - loss: 0.4102 - acc: 0.8273 - val_loss: 0.3693 - val_acc: 0.8700\n",
            "Epoch 304/500\n",
            "21/21 - 0s - loss: 0.4101 - acc: 0.8288 - val_loss: 0.3691 - val_acc: 0.8700\n",
            "Epoch 305/500\n",
            "21/21 - 0s - loss: 0.4101 - acc: 0.8273 - val_loss: 0.3695 - val_acc: 0.8700\n",
            "Epoch 306/500\n",
            "21/21 - 0s - loss: 0.4104 - acc: 0.8243 - val_loss: 0.3688 - val_acc: 0.8700\n",
            "Epoch 307/500\n",
            "21/21 - 0s - loss: 0.4100 - acc: 0.8258 - val_loss: 0.3683 - val_acc: 0.8700\n",
            "Epoch 308/500\n",
            "21/21 - 0s - loss: 0.4096 - acc: 0.8288 - val_loss: 0.3680 - val_acc: 0.8700\n",
            "Epoch 309/500\n",
            "21/21 - 0s - loss: 0.4099 - acc: 0.8243 - val_loss: 0.3678 - val_acc: 0.8700\n",
            "Epoch 310/500\n",
            "21/21 - 0s - loss: 0.4096 - acc: 0.8288 - val_loss: 0.3687 - val_acc: 0.8700\n",
            "Epoch 311/500\n",
            "21/21 - 0s - loss: 0.4097 - acc: 0.8258 - val_loss: 0.3689 - val_acc: 0.8700\n",
            "Epoch 312/500\n",
            "21/21 - 0s - loss: 0.4092 - acc: 0.8303 - val_loss: 0.3697 - val_acc: 0.8700\n",
            "Epoch 313/500\n",
            "21/21 - 0s - loss: 0.4093 - acc: 0.8303 - val_loss: 0.3675 - val_acc: 0.8700\n",
            "Epoch 314/500\n",
            "21/21 - 0s - loss: 0.4091 - acc: 0.8303 - val_loss: 0.3671 - val_acc: 0.8600\n",
            "Epoch 315/500\n",
            "21/21 - 0s - loss: 0.4095 - acc: 0.8273 - val_loss: 0.3672 - val_acc: 0.8700\n",
            "Epoch 316/500\n",
            "21/21 - 0s - loss: 0.4090 - acc: 0.8303 - val_loss: 0.3675 - val_acc: 0.8700\n",
            "Epoch 317/500\n",
            "21/21 - 0s - loss: 0.4088 - acc: 0.8333 - val_loss: 0.3679 - val_acc: 0.8700\n",
            "Epoch 318/500\n",
            "21/21 - 0s - loss: 0.4093 - acc: 0.8288 - val_loss: 0.3673 - val_acc: 0.8700\n",
            "Epoch 319/500\n",
            "21/21 - 0s - loss: 0.4089 - acc: 0.8273 - val_loss: 0.3667 - val_acc: 0.8700\n",
            "Epoch 320/500\n",
            "21/21 - 0s - loss: 0.4094 - acc: 0.8258 - val_loss: 0.3673 - val_acc: 0.8700\n",
            "Epoch 321/500\n",
            "21/21 - 0s - loss: 0.4089 - acc: 0.8288 - val_loss: 0.3675 - val_acc: 0.8700\n",
            "Epoch 322/500\n",
            "21/21 - 0s - loss: 0.4090 - acc: 0.8303 - val_loss: 0.3673 - val_acc: 0.8700\n",
            "Epoch 323/500\n",
            "21/21 - 0s - loss: 0.4084 - acc: 0.8273 - val_loss: 0.3663 - val_acc: 0.8600\n",
            "Epoch 324/500\n",
            "21/21 - 0s - loss: 0.4087 - acc: 0.8318 - val_loss: 0.3671 - val_acc: 0.8700\n",
            "Epoch 325/500\n",
            "21/21 - 0s - loss: 0.4086 - acc: 0.8318 - val_loss: 0.3671 - val_acc: 0.8700\n",
            "Epoch 326/500\n",
            "21/21 - 0s - loss: 0.4086 - acc: 0.8333 - val_loss: 0.3676 - val_acc: 0.8700\n",
            "Epoch 327/500\n",
            "21/21 - 0s - loss: 0.4083 - acc: 0.8333 - val_loss: 0.3679 - val_acc: 0.8700\n",
            "Epoch 328/500\n",
            "21/21 - 0s - loss: 0.4084 - acc: 0.8288 - val_loss: 0.3671 - val_acc: 0.8700\n",
            "Epoch 329/500\n",
            "21/21 - 0s - loss: 0.4086 - acc: 0.8303 - val_loss: 0.3666 - val_acc: 0.8700\n",
            "Epoch 330/500\n",
            "21/21 - 0s - loss: 0.4083 - acc: 0.8303 - val_loss: 0.3667 - val_acc: 0.8700\n",
            "Epoch 331/500\n",
            "21/21 - 0s - loss: 0.4084 - acc: 0.8333 - val_loss: 0.3669 - val_acc: 0.8700\n",
            "Epoch 332/500\n",
            "21/21 - 0s - loss: 0.4081 - acc: 0.8318 - val_loss: 0.3667 - val_acc: 0.8700\n",
            "Epoch 333/500\n",
            "21/21 - 0s - loss: 0.4082 - acc: 0.8318 - val_loss: 0.3662 - val_acc: 0.8700\n",
            "Epoch 334/500\n",
            "21/21 - 0s - loss: 0.4085 - acc: 0.8348 - val_loss: 0.3666 - val_acc: 0.8700\n",
            "Epoch 335/500\n",
            "21/21 - 0s - loss: 0.4079 - acc: 0.8303 - val_loss: 0.3672 - val_acc: 0.8700\n",
            "Epoch 336/500\n",
            "21/21 - 0s - loss: 0.4076 - acc: 0.8273 - val_loss: 0.3669 - val_acc: 0.8700\n",
            "Epoch 337/500\n",
            "21/21 - 0s - loss: 0.4079 - acc: 0.8348 - val_loss: 0.3671 - val_acc: 0.8700\n",
            "Epoch 338/500\n",
            "21/21 - 0s - loss: 0.4082 - acc: 0.8303 - val_loss: 0.3671 - val_acc: 0.8700\n",
            "Epoch 339/500\n",
            "21/21 - 0s - loss: 0.4077 - acc: 0.8333 - val_loss: 0.3674 - val_acc: 0.8700\n",
            "Epoch 340/500\n",
            "21/21 - 0s - loss: 0.4078 - acc: 0.8318 - val_loss: 0.3665 - val_acc: 0.8700\n",
            "Epoch 341/500\n",
            "21/21 - 0s - loss: 0.4071 - acc: 0.8303 - val_loss: 0.3657 - val_acc: 0.8600\n",
            "Epoch 342/500\n",
            "21/21 - 0s - loss: 0.4076 - acc: 0.8303 - val_loss: 0.3657 - val_acc: 0.8700\n",
            "Epoch 343/500\n",
            "21/21 - 0s - loss: 0.4072 - acc: 0.8288 - val_loss: 0.3662 - val_acc: 0.8700\n",
            "Epoch 344/500\n",
            "21/21 - 0s - loss: 0.4072 - acc: 0.8348 - val_loss: 0.3666 - val_acc: 0.8700\n",
            "Epoch 345/500\n",
            "21/21 - 0s - loss: 0.4065 - acc: 0.8348 - val_loss: 0.3669 - val_acc: 0.8700\n",
            "Epoch 346/500\n",
            "21/21 - 0s - loss: 0.4074 - acc: 0.8303 - val_loss: 0.3662 - val_acc: 0.8700\n",
            "Epoch 347/500\n",
            "21/21 - 0s - loss: 0.4069 - acc: 0.8333 - val_loss: 0.3660 - val_acc: 0.8700\n",
            "Epoch 348/500\n",
            "21/21 - 0s - loss: 0.4074 - acc: 0.8318 - val_loss: 0.3658 - val_acc: 0.8700\n",
            "Epoch 349/500\n",
            "21/21 - 0s - loss: 0.4068 - acc: 0.8303 - val_loss: 0.3654 - val_acc: 0.8700\n",
            "Epoch 350/500\n",
            "21/21 - 0s - loss: 0.4067 - acc: 0.8318 - val_loss: 0.3649 - val_acc: 0.8700\n",
            "Epoch 351/500\n",
            "21/21 - 0s - loss: 0.4069 - acc: 0.8333 - val_loss: 0.3651 - val_acc: 0.8600\n",
            "Epoch 352/500\n",
            "21/21 - 0s - loss: 0.4072 - acc: 0.8303 - val_loss: 0.3649 - val_acc: 0.8700\n",
            "Epoch 353/500\n",
            "21/21 - 0s - loss: 0.4073 - acc: 0.8318 - val_loss: 0.3656 - val_acc: 0.8700\n",
            "Epoch 354/500\n",
            "21/21 - 0s - loss: 0.4062 - acc: 0.8318 - val_loss: 0.3653 - val_acc: 0.8700\n",
            "Epoch 355/500\n",
            "21/21 - 0s - loss: 0.4066 - acc: 0.8318 - val_loss: 0.3653 - val_acc: 0.8700\n",
            "Epoch 356/500\n",
            "21/21 - 0s - loss: 0.4066 - acc: 0.8303 - val_loss: 0.3642 - val_acc: 0.8700\n",
            "Epoch 357/500\n",
            "21/21 - 0s - loss: 0.4061 - acc: 0.8333 - val_loss: 0.3652 - val_acc: 0.8700\n",
            "Epoch 358/500\n",
            "21/21 - 0s - loss: 0.4067 - acc: 0.8333 - val_loss: 0.3644 - val_acc: 0.8700\n",
            "Epoch 359/500\n",
            "21/21 - 0s - loss: 0.4065 - acc: 0.8333 - val_loss: 0.3649 - val_acc: 0.8700\n",
            "Epoch 360/500\n",
            "21/21 - 0s - loss: 0.4060 - acc: 0.8348 - val_loss: 0.3655 - val_acc: 0.8700\n",
            "Epoch 361/500\n",
            "21/21 - 0s - loss: 0.4058 - acc: 0.8318 - val_loss: 0.3644 - val_acc: 0.8700\n",
            "Epoch 362/500\n",
            "21/21 - 0s - loss: 0.4058 - acc: 0.8318 - val_loss: 0.3642 - val_acc: 0.8700\n",
            "Epoch 363/500\n",
            "21/21 - 0s - loss: 0.4062 - acc: 0.8333 - val_loss: 0.3644 - val_acc: 0.8700\n",
            "Epoch 364/500\n",
            "21/21 - 0s - loss: 0.4058 - acc: 0.8318 - val_loss: 0.3649 - val_acc: 0.8700\n",
            "Epoch 365/500\n",
            "21/21 - 0s - loss: 0.4060 - acc: 0.8318 - val_loss: 0.3648 - val_acc: 0.8700\n",
            "Epoch 366/500\n",
            "21/21 - 0s - loss: 0.4060 - acc: 0.8348 - val_loss: 0.3652 - val_acc: 0.8700\n",
            "Epoch 367/500\n",
            "21/21 - 0s - loss: 0.4063 - acc: 0.8318 - val_loss: 0.3651 - val_acc: 0.8700\n",
            "Epoch 368/500\n",
            "21/21 - 0s - loss: 0.4052 - acc: 0.8333 - val_loss: 0.3648 - val_acc: 0.8700\n",
            "Epoch 369/500\n",
            "21/21 - 0s - loss: 0.4053 - acc: 0.8303 - val_loss: 0.3644 - val_acc: 0.8700\n",
            "Epoch 370/500\n",
            "21/21 - 0s - loss: 0.4055 - acc: 0.8363 - val_loss: 0.3656 - val_acc: 0.8700\n",
            "Epoch 371/500\n",
            "21/21 - 0s - loss: 0.4051 - acc: 0.8333 - val_loss: 0.3648 - val_acc: 0.8700\n",
            "Epoch 372/500\n",
            "21/21 - 0s - loss: 0.4055 - acc: 0.8303 - val_loss: 0.3646 - val_acc: 0.8700\n",
            "Epoch 373/500\n",
            "21/21 - 0s - loss: 0.4045 - acc: 0.8333 - val_loss: 0.3643 - val_acc: 0.8600\n",
            "Epoch 374/500\n",
            "21/21 - 0s - loss: 0.4053 - acc: 0.8318 - val_loss: 0.3642 - val_acc: 0.8700\n",
            "Epoch 375/500\n",
            "21/21 - 0s - loss: 0.4053 - acc: 0.8318 - val_loss: 0.3638 - val_acc: 0.8700\n",
            "Epoch 376/500\n",
            "21/21 - 0s - loss: 0.4056 - acc: 0.8318 - val_loss: 0.3641 - val_acc: 0.8700\n",
            "Epoch 377/500\n",
            "21/21 - 0s - loss: 0.4052 - acc: 0.8303 - val_loss: 0.3643 - val_acc: 0.8700\n",
            "Epoch 378/500\n",
            "21/21 - 0s - loss: 0.4051 - acc: 0.8333 - val_loss: 0.3639 - val_acc: 0.8700\n",
            "Epoch 379/500\n",
            "21/21 - 0s - loss: 0.4049 - acc: 0.8333 - val_loss: 0.3643 - val_acc: 0.8700\n",
            "Epoch 380/500\n",
            "21/21 - 0s - loss: 0.4050 - acc: 0.8318 - val_loss: 0.3641 - val_acc: 0.8700\n",
            "Epoch 381/500\n",
            "21/21 - 0s - loss: 0.4053 - acc: 0.8333 - val_loss: 0.3643 - val_acc: 0.8700\n",
            "Epoch 382/500\n",
            "21/21 - 0s - loss: 0.4053 - acc: 0.8333 - val_loss: 0.3638 - val_acc: 0.8700\n",
            "Epoch 383/500\n",
            "21/21 - 0s - loss: 0.4044 - acc: 0.8333 - val_loss: 0.3628 - val_acc: 0.8700\n",
            "Epoch 384/500\n",
            "21/21 - 0s - loss: 0.4049 - acc: 0.8348 - val_loss: 0.3635 - val_acc: 0.8700\n",
            "Epoch 385/500\n",
            "21/21 - 0s - loss: 0.4054 - acc: 0.8303 - val_loss: 0.3639 - val_acc: 0.8700\n",
            "Epoch 386/500\n",
            "21/21 - 0s - loss: 0.4047 - acc: 0.8348 - val_loss: 0.3639 - val_acc: 0.8700\n",
            "Epoch 387/500\n",
            "21/21 - 0s - loss: 0.4046 - acc: 0.8333 - val_loss: 0.3632 - val_acc: 0.8700\n",
            "Epoch 388/500\n",
            "21/21 - 0s - loss: 0.4043 - acc: 0.8348 - val_loss: 0.3642 - val_acc: 0.8700\n",
            "Epoch 389/500\n",
            "21/21 - 0s - loss: 0.4051 - acc: 0.8348 - val_loss: 0.3638 - val_acc: 0.8700\n",
            "Epoch 390/500\n",
            "21/21 - 0s - loss: 0.4048 - acc: 0.8348 - val_loss: 0.3634 - val_acc: 0.8700\n",
            "Epoch 391/500\n",
            "21/21 - 0s - loss: 0.4044 - acc: 0.8348 - val_loss: 0.3650 - val_acc: 0.8700\n",
            "Epoch 392/500\n",
            "21/21 - 0s - loss: 0.4044 - acc: 0.8333 - val_loss: 0.3637 - val_acc: 0.8700\n",
            "Epoch 393/500\n",
            "21/21 - 0s - loss: 0.4046 - acc: 0.8318 - val_loss: 0.3644 - val_acc: 0.8700\n",
            "Epoch 394/500\n",
            "21/21 - 0s - loss: 0.4045 - acc: 0.8348 - val_loss: 0.3644 - val_acc: 0.8700\n",
            "Epoch 395/500\n",
            "21/21 - 0s - loss: 0.4043 - acc: 0.8348 - val_loss: 0.3653 - val_acc: 0.8700\n",
            "Epoch 396/500\n",
            "21/21 - 0s - loss: 0.4043 - acc: 0.8318 - val_loss: 0.3643 - val_acc: 0.8700\n",
            "Epoch 397/500\n",
            "21/21 - 0s - loss: 0.4042 - acc: 0.8318 - val_loss: 0.3650 - val_acc: 0.8700\n",
            "Epoch 398/500\n",
            "21/21 - 0s - loss: 0.4038 - acc: 0.8348 - val_loss: 0.3648 - val_acc: 0.8700\n",
            "Epoch 399/500\n",
            "21/21 - 0s - loss: 0.4045 - acc: 0.8303 - val_loss: 0.3652 - val_acc: 0.8700\n",
            "Epoch 400/500\n",
            "21/21 - 0s - loss: 0.4038 - acc: 0.8318 - val_loss: 0.3648 - val_acc: 0.8700\n",
            "Epoch 401/500\n",
            "21/21 - 0s - loss: 0.4048 - acc: 0.8363 - val_loss: 0.3649 - val_acc: 0.8700\n",
            "Epoch 402/500\n",
            "21/21 - 0s - loss: 0.4040 - acc: 0.8333 - val_loss: 0.3645 - val_acc: 0.8700\n",
            "Epoch 403/500\n",
            "21/21 - 0s - loss: 0.4042 - acc: 0.8333 - val_loss: 0.3645 - val_acc: 0.8700\n",
            "Epoch 404/500\n",
            "21/21 - 0s - loss: 0.4039 - acc: 0.8318 - val_loss: 0.3640 - val_acc: 0.8700\n",
            "Epoch 405/500\n",
            "21/21 - 0s - loss: 0.4040 - acc: 0.8318 - val_loss: 0.3644 - val_acc: 0.8700\n",
            "Epoch 406/500\n",
            "21/21 - 0s - loss: 0.4035 - acc: 0.8318 - val_loss: 0.3647 - val_acc: 0.8700\n",
            "Epoch 407/500\n",
            "21/21 - 0s - loss: 0.4039 - acc: 0.8333 - val_loss: 0.3653 - val_acc: 0.8700\n",
            "Epoch 408/500\n",
            "21/21 - 0s - loss: 0.4039 - acc: 0.8333 - val_loss: 0.3649 - val_acc: 0.8700\n",
            "Epoch 409/500\n",
            "21/21 - 0s - loss: 0.4034 - acc: 0.8333 - val_loss: 0.3650 - val_acc: 0.8700\n",
            "Epoch 410/500\n",
            "21/21 - 0s - loss: 0.4041 - acc: 0.8333 - val_loss: 0.3647 - val_acc: 0.8700\n",
            "Epoch 411/500\n",
            "21/21 - 0s - loss: 0.4039 - acc: 0.8333 - val_loss: 0.3648 - val_acc: 0.8700\n",
            "Epoch 412/500\n",
            "21/21 - 0s - loss: 0.4038 - acc: 0.8333 - val_loss: 0.3648 - val_acc: 0.8700\n",
            "Epoch 413/500\n",
            "21/21 - 0s - loss: 0.4044 - acc: 0.8333 - val_loss: 0.3650 - val_acc: 0.8700\n",
            "Epoch 414/500\n",
            "21/21 - 0s - loss: 0.4038 - acc: 0.8333 - val_loss: 0.3649 - val_acc: 0.8700\n",
            "Epoch 415/500\n",
            "21/21 - 0s - loss: 0.4035 - acc: 0.8333 - val_loss: 0.3644 - val_acc: 0.8700\n",
            "Epoch 416/500\n",
            "21/21 - 0s - loss: 0.4030 - acc: 0.8333 - val_loss: 0.3646 - val_acc: 0.8700\n",
            "Epoch 417/500\n",
            "21/21 - 0s - loss: 0.4033 - acc: 0.8333 - val_loss: 0.3651 - val_acc: 0.8700\n",
            "Epoch 418/500\n",
            "21/21 - 0s - loss: 0.4034 - acc: 0.8348 - val_loss: 0.3645 - val_acc: 0.8700\n",
            "Epoch 419/500\n",
            "21/21 - 0s - loss: 0.4036 - acc: 0.8333 - val_loss: 0.3651 - val_acc: 0.8700\n",
            "Epoch 420/500\n",
            "21/21 - 0s - loss: 0.4036 - acc: 0.8318 - val_loss: 0.3650 - val_acc: 0.8700\n",
            "Epoch 421/500\n",
            "21/21 - 0s - loss: 0.4030 - acc: 0.8303 - val_loss: 0.3649 - val_acc: 0.8700\n",
            "Epoch 422/500\n",
            "21/21 - 0s - loss: 0.4032 - acc: 0.8333 - val_loss: 0.3643 - val_acc: 0.8700\n",
            "Epoch 423/500\n",
            "21/21 - 0s - loss: 0.4031 - acc: 0.8318 - val_loss: 0.3641 - val_acc: 0.8700\n",
            "Epoch 424/500\n",
            "21/21 - 0s - loss: 0.4037 - acc: 0.8333 - val_loss: 0.3645 - val_acc: 0.8700\n",
            "Epoch 425/500\n",
            "21/21 - 0s - loss: 0.4031 - acc: 0.8333 - val_loss: 0.3642 - val_acc: 0.8700\n",
            "Epoch 426/500\n",
            "21/21 - 0s - loss: 0.4029 - acc: 0.8318 - val_loss: 0.3642 - val_acc: 0.8700\n",
            "Epoch 427/500\n",
            "21/21 - 0s - loss: 0.4030 - acc: 0.8333 - val_loss: 0.3652 - val_acc: 0.8700\n",
            "Epoch 428/500\n",
            "21/21 - 0s - loss: 0.4032 - acc: 0.8333 - val_loss: 0.3654 - val_acc: 0.8700\n",
            "Epoch 429/500\n",
            "21/21 - 0s - loss: 0.4034 - acc: 0.8348 - val_loss: 0.3644 - val_acc: 0.8700\n",
            "Epoch 430/500\n",
            "21/21 - 0s - loss: 0.4033 - acc: 0.8363 - val_loss: 0.3643 - val_acc: 0.8700\n",
            "Epoch 431/500\n",
            "21/21 - 0s - loss: 0.4031 - acc: 0.8333 - val_loss: 0.3650 - val_acc: 0.8700\n",
            "Epoch 432/500\n",
            "21/21 - 0s - loss: 0.4030 - acc: 0.8333 - val_loss: 0.3652 - val_acc: 0.8700\n",
            "Epoch 433/500\n",
            "21/21 - 0s - loss: 0.4031 - acc: 0.8318 - val_loss: 0.3643 - val_acc: 0.8700\n",
            "Epoch 434/500\n",
            "21/21 - 0s - loss: 0.4033 - acc: 0.8333 - val_loss: 0.3644 - val_acc: 0.8700\n",
            "Epoch 435/500\n",
            "21/21 - 0s - loss: 0.4028 - acc: 0.8333 - val_loss: 0.3652 - val_acc: 0.8700\n",
            "Epoch 436/500\n",
            "21/21 - 0s - loss: 0.4028 - acc: 0.8333 - val_loss: 0.3647 - val_acc: 0.8700\n",
            "Epoch 437/500\n",
            "21/21 - 0s - loss: 0.4030 - acc: 0.8333 - val_loss: 0.3648 - val_acc: 0.8700\n",
            "Epoch 438/500\n",
            "21/21 - 0s - loss: 0.4025 - acc: 0.8333 - val_loss: 0.3645 - val_acc: 0.8700\n",
            "Epoch 439/500\n",
            "21/21 - 0s - loss: 0.4031 - acc: 0.8333 - val_loss: 0.3657 - val_acc: 0.8700\n",
            "Epoch 440/500\n",
            "21/21 - 0s - loss: 0.4025 - acc: 0.8333 - val_loss: 0.3655 - val_acc: 0.8700\n",
            "Epoch 441/500\n",
            "21/21 - 0s - loss: 0.4027 - acc: 0.8333 - val_loss: 0.3645 - val_acc: 0.8700\n",
            "Epoch 442/500\n",
            "21/21 - 0s - loss: 0.4024 - acc: 0.8333 - val_loss: 0.3641 - val_acc: 0.8700\n",
            "Epoch 443/500\n",
            "21/21 - 0s - loss: 0.4029 - acc: 0.8333 - val_loss: 0.3644 - val_acc: 0.8700\n",
            "Epoch 444/500\n",
            "21/21 - 0s - loss: 0.4026 - acc: 0.8318 - val_loss: 0.3647 - val_acc: 0.8700\n",
            "Epoch 445/500\n",
            "21/21 - 0s - loss: 0.4021 - acc: 0.8333 - val_loss: 0.3640 - val_acc: 0.8700\n",
            "Epoch 446/500\n",
            "21/21 - 0s - loss: 0.4027 - acc: 0.8333 - val_loss: 0.3643 - val_acc: 0.8700\n",
            "Epoch 447/500\n",
            "21/21 - 0s - loss: 0.4023 - acc: 0.8348 - val_loss: 0.3654 - val_acc: 0.8700\n",
            "Epoch 448/500\n",
            "21/21 - 0s - loss: 0.4020 - acc: 0.8333 - val_loss: 0.3645 - val_acc: 0.8700\n",
            "Epoch 449/500\n",
            "21/21 - 0s - loss: 0.4026 - acc: 0.8348 - val_loss: 0.3654 - val_acc: 0.8700\n",
            "Epoch 450/500\n",
            "21/21 - 0s - loss: 0.4022 - acc: 0.8348 - val_loss: 0.3648 - val_acc: 0.8700\n",
            "Epoch 451/500\n",
            "21/21 - 0s - loss: 0.4026 - acc: 0.8348 - val_loss: 0.3646 - val_acc: 0.8700\n",
            "Epoch 452/500\n",
            "21/21 - 0s - loss: 0.4023 - acc: 0.8318 - val_loss: 0.3656 - val_acc: 0.8700\n",
            "Epoch 453/500\n",
            "21/21 - 0s - loss: 0.4025 - acc: 0.8333 - val_loss: 0.3660 - val_acc: 0.8700\n",
            "Epoch 454/500\n",
            "21/21 - 0s - loss: 0.4024 - acc: 0.8333 - val_loss: 0.3655 - val_acc: 0.8700\n",
            "Epoch 455/500\n",
            "21/21 - 0s - loss: 0.4020 - acc: 0.8333 - val_loss: 0.3658 - val_acc: 0.8700\n",
            "Epoch 456/500\n",
            "21/21 - 0s - loss: 0.4024 - acc: 0.8318 - val_loss: 0.3653 - val_acc: 0.8700\n",
            "Epoch 457/500\n",
            "21/21 - 0s - loss: 0.4017 - acc: 0.8333 - val_loss: 0.3653 - val_acc: 0.8700\n",
            "Epoch 458/500\n",
            "21/21 - 0s - loss: 0.4020 - acc: 0.8333 - val_loss: 0.3650 - val_acc: 0.8700\n",
            "Epoch 459/500\n",
            "21/21 - 0s - loss: 0.4021 - acc: 0.8348 - val_loss: 0.3652 - val_acc: 0.8700\n",
            "Epoch 460/500\n",
            "21/21 - 0s - loss: 0.4024 - acc: 0.8333 - val_loss: 0.3648 - val_acc: 0.8700\n",
            "Epoch 461/500\n",
            "21/21 - 0s - loss: 0.4022 - acc: 0.8318 - val_loss: 0.3644 - val_acc: 0.8600\n",
            "Epoch 462/500\n",
            "21/21 - 0s - loss: 0.4020 - acc: 0.8333 - val_loss: 0.3653 - val_acc: 0.8700\n",
            "Epoch 463/500\n",
            "21/21 - 0s - loss: 0.4020 - acc: 0.8348 - val_loss: 0.3655 - val_acc: 0.8700\n",
            "Epoch 464/500\n",
            "21/21 - 0s - loss: 0.4014 - acc: 0.8303 - val_loss: 0.3650 - val_acc: 0.8700\n",
            "Epoch 465/500\n",
            "21/21 - 0s - loss: 0.4014 - acc: 0.8348 - val_loss: 0.3653 - val_acc: 0.8700\n",
            "Epoch 466/500\n",
            "21/21 - 0s - loss: 0.4018 - acc: 0.8333 - val_loss: 0.3646 - val_acc: 0.8700\n",
            "Epoch 467/500\n",
            "21/21 - 0s - loss: 0.4021 - acc: 0.8348 - val_loss: 0.3653 - val_acc: 0.8700\n",
            "Epoch 468/500\n",
            "21/21 - 0s - loss: 0.4016 - acc: 0.8303 - val_loss: 0.3652 - val_acc: 0.8700\n",
            "Epoch 469/500\n",
            "21/21 - 0s - loss: 0.4020 - acc: 0.8318 - val_loss: 0.3651 - val_acc: 0.8700\n",
            "Epoch 470/500\n",
            "21/21 - 0s - loss: 0.4020 - acc: 0.8318 - val_loss: 0.3655 - val_acc: 0.8700\n",
            "Epoch 471/500\n",
            "21/21 - 0s - loss: 0.4016 - acc: 0.8333 - val_loss: 0.3665 - val_acc: 0.8700\n",
            "Epoch 472/500\n",
            "21/21 - 0s - loss: 0.4012 - acc: 0.8333 - val_loss: 0.3662 - val_acc: 0.8700\n",
            "Epoch 473/500\n",
            "21/21 - 0s - loss: 0.4017 - acc: 0.8318 - val_loss: 0.3665 - val_acc: 0.8700\n",
            "Epoch 474/500\n",
            "21/21 - 0s - loss: 0.4017 - acc: 0.8348 - val_loss: 0.3650 - val_acc: 0.8700\n",
            "Epoch 475/500\n",
            "21/21 - 0s - loss: 0.4017 - acc: 0.8348 - val_loss: 0.3651 - val_acc: 0.8700\n",
            "Epoch 476/500\n",
            "21/21 - 0s - loss: 0.4013 - acc: 0.8318 - val_loss: 0.3652 - val_acc: 0.8700\n",
            "Epoch 477/500\n",
            "21/21 - 0s - loss: 0.4016 - acc: 0.8333 - val_loss: 0.3650 - val_acc: 0.8700\n",
            "Epoch 478/500\n",
            "21/21 - 0s - loss: 0.4019 - acc: 0.8363 - val_loss: 0.3651 - val_acc: 0.8700\n",
            "Epoch 479/500\n",
            "21/21 - 0s - loss: 0.4014 - acc: 0.8333 - val_loss: 0.3651 - val_acc: 0.8700\n",
            "Epoch 480/500\n",
            "21/21 - 0s - loss: 0.4019 - acc: 0.8318 - val_loss: 0.3652 - val_acc: 0.8700\n",
            "Epoch 481/500\n",
            "21/21 - 0s - loss: 0.4012 - acc: 0.8348 - val_loss: 0.3660 - val_acc: 0.8700\n",
            "Epoch 482/500\n",
            "21/21 - 0s - loss: 0.4019 - acc: 0.8333 - val_loss: 0.3656 - val_acc: 0.8700\n",
            "Epoch 483/500\n",
            "21/21 - 0s - loss: 0.4016 - acc: 0.8333 - val_loss: 0.3653 - val_acc: 0.8600\n",
            "Epoch 484/500\n",
            "21/21 - 0s - loss: 0.4013 - acc: 0.8333 - val_loss: 0.3650 - val_acc: 0.8600\n",
            "Epoch 485/500\n",
            "21/21 - 0s - loss: 0.4008 - acc: 0.8303 - val_loss: 0.3643 - val_acc: 0.8700\n",
            "Epoch 486/500\n",
            "21/21 - 0s - loss: 0.4013 - acc: 0.8318 - val_loss: 0.3645 - val_acc: 0.8600\n",
            "Epoch 487/500\n",
            "21/21 - 0s - loss: 0.4009 - acc: 0.8333 - val_loss: 0.3642 - val_acc: 0.8600\n",
            "Epoch 488/500\n",
            "21/21 - 0s - loss: 0.4007 - acc: 0.8303 - val_loss: 0.3645 - val_acc: 0.8600\n",
            "Epoch 489/500\n",
            "21/21 - 0s - loss: 0.4016 - acc: 0.8333 - val_loss: 0.3643 - val_acc: 0.8600\n",
            "Epoch 490/500\n",
            "21/21 - 0s - loss: 0.4011 - acc: 0.8318 - val_loss: 0.3648 - val_acc: 0.8600\n",
            "Epoch 491/500\n",
            "21/21 - 0s - loss: 0.4011 - acc: 0.8318 - val_loss: 0.3645 - val_acc: 0.8600\n",
            "Epoch 492/500\n",
            "21/21 - 0s - loss: 0.4012 - acc: 0.8333 - val_loss: 0.3650 - val_acc: 0.8600\n",
            "Epoch 493/500\n",
            "21/21 - 0s - loss: 0.4006 - acc: 0.8333 - val_loss: 0.3655 - val_acc: 0.8600\n",
            "Epoch 494/500\n",
            "21/21 - 0s - loss: 0.4017 - acc: 0.8318 - val_loss: 0.3649 - val_acc: 0.8600\n",
            "Epoch 495/500\n",
            "21/21 - 0s - loss: 0.4010 - acc: 0.8333 - val_loss: 0.3650 - val_acc: 0.8600\n",
            "Epoch 496/500\n",
            "21/21 - 0s - loss: 0.4011 - acc: 0.8333 - val_loss: 0.3648 - val_acc: 0.8600\n",
            "Epoch 497/500\n",
            "21/21 - 0s - loss: 0.4010 - acc: 0.8303 - val_loss: 0.3656 - val_acc: 0.8600\n",
            "Epoch 498/500\n",
            "21/21 - 0s - loss: 0.4013 - acc: 0.8333 - val_loss: 0.3647 - val_acc: 0.8600\n",
            "Epoch 499/500\n",
            "21/21 - 0s - loss: 0.4007 - acc: 0.8303 - val_loss: 0.3647 - val_acc: 0.8600\n",
            "Epoch 500/500\n",
            "21/21 - 0s - loss: 0.4010 - acc: 0.8333 - val_loss: 0.3656 - val_acc: 0.8600\n"
          ],
          "name": "stdout"
        }
      ]
    },
    {
      "cell_type": "markdown",
      "metadata": {
        "id": "8fneFvGO9er4"
      },
      "source": [
        "Train the DNN"
      ]
    },
    {
      "cell_type": "code",
      "metadata": {
        "colab": {
          "base_uri": "https://localhost:8080/",
          "height": 298
        },
        "id": "oaHzdOUa1ycW",
        "outputId": "8ca117ed-560e-49df-b49a-43e088a993b6"
      },
      "source": [
        "acc = history.history['acc']\r\n",
        "val_acc = history.history['val_acc']\r\n",
        "loss = history.history['loss']\r\n",
        "val_loss = history.history['val_loss']\r\n",
        "\r\n",
        "epochs = range(len(acc))\r\n",
        "\r\n",
        "plt.plot(epochs, acc, 'r', label='Training accuracy')\r\n",
        "plt.plot(epochs, val_acc, 'b', label='Validation accuracy')\r\n",
        "plt.title('Training and validation accuracy')\r\n",
        "plt.legend(loc=0)\r\n",
        "plt.figure()\r\n",
        "\r\n",
        "\r\n",
        "plt.show()\r\n"
      ],
      "execution_count": 132,
      "outputs": [
        {
          "output_type": "display_data",
          "data": {
            "image/png": "[encoded data removed]",
            "text/plain": [
              "<Figure size 432x288 with 1 Axes>"
            ]
          },
          "metadata": {
            "tags": [],
            "needs_background": "light"
          }
        },
        {
          "output_type": "display_data",
          "data": {
            "text/plain": [
              "<Figure size 432x288 with 0 Axes>"
            ]
          },
          "metadata": {
            "tags": []
          }
        }
      ]
    },
    {
      "cell_type": "markdown",
      "metadata": {
        "id": "0bydcN249g8A"
      },
      "source": [
        "Plots of training and validation accuracy above show thatwe dont have overfitting. Otherwise, validation error would be increasing"
      ]
    },
    {
      "cell_type": "code",
      "metadata": {
        "id": "clecnufO8Euh",
        "colab": {
          "base_uri": "https://localhost:8080/"
        },
        "outputId": "b8708d9e-8ff8-4aa6-d610-8f4b5b3c6209"
      },
      "source": [
        "predictionsTF=myTFmodel.predict(X_testS)"
      ],
      "execution_count": 133,
      "outputs": [
        {
          "output_type": "stream",
          "text": [
            "WARNING:tensorflow:Model was constructed with shape (None, 666, 8) for input KerasTensor(type_spec=TensorSpec(shape=(None, 666, 8), dtype=tf.float32, name='dense_17_input'), name='dense_17_input', description=\"created by layer 'dense_17_input'\"), but it was called on an input with incompatible shape (None, 8).\n"
          ],
          "name": "stdout"
        }
      ]
    },
    {
      "cell_type": "code",
      "metadata": {
        "colab": {
          "base_uri": "https://localhost:8080/"
        },
        "id": "FDiMccDl9269",
        "outputId": "f87285d7-b062-4f86-e657-dc4c6acafc34"
      },
      "source": [
        "predictionsTF.shape"
      ],
      "execution_count": 134,
      "outputs": [
        {
          "output_type": "execute_result",
          "data": {
            "text/plain": [
              "(223, 1)"
            ]
          },
          "metadata": {
            "tags": []
          },
          "execution_count": 134
        }
      ]
    },
    {
      "cell_type": "markdown",
      "metadata": {
        "id": "RpzxwBurooSt"
      },
      "source": [
        "Get the predictions from the TF model"
      ]
    },
    {
      "cell_type": "code",
      "metadata": {
        "colab": {
          "base_uri": "https://localhost:8080/"
        },
        "id": "CycNza8Uorch",
        "outputId": "56222b8e-7bda-458c-df8f-43d133df3c6e"
      },
      "source": [
        "predictionsTF"
      ],
      "execution_count": 135,
      "outputs": [
        {
          "output_type": "execute_result",
          "data": {
            "text/plain": [
              "array([[0.11881706],\n",
              "       [0.07771772],\n",
              "       [0.8957963 ],\n",
              "       [0.9778533 ],\n",
              "       [0.07696962],\n",
              "       [0.05940095],\n",
              "       [0.11212552],\n",
              "       [0.15457326],\n",
              "       [0.0951446 ],\n",
              "       [0.89371026],\n",
              "       [0.91748154],\n",
              "       [0.9694123 ],\n",
              "       [0.11883894],\n",
              "       [0.519497  ],\n",
              "       [0.1186119 ],\n",
              "       [0.13249612],\n",
              "       [0.9859619 ],\n",
              "       [0.9706186 ],\n",
              "       [0.3813691 ],\n",
              "       [0.1137284 ],\n",
              "       [0.11873037],\n",
              "       [0.09593651],\n",
              "       [0.34801427],\n",
              "       [0.2951619 ],\n",
              "       [0.05257139],\n",
              "       [0.34765583],\n",
              "       [0.426351  ],\n",
              "       [0.53474313],\n",
              "       [0.28576928],\n",
              "       [0.19431305],\n",
              "       [0.10804775],\n",
              "       [0.16533667],\n",
              "       [0.01815701],\n",
              "       [0.11887372],\n",
              "       [0.1215257 ],\n",
              "       [0.22027737],\n",
              "       [0.9820807 ],\n",
              "       [0.08121708],\n",
              "       [0.05887851],\n",
              "       [0.10005915],\n",
              "       [0.36530006],\n",
              "       [0.1443673 ],\n",
              "       [0.12967566],\n",
              "       [0.90627086],\n",
              "       [0.45768598],\n",
              "       [0.09566846],\n",
              "       [0.5559673 ],\n",
              "       [0.9156187 ],\n",
              "       [0.10491005],\n",
              "       [0.17509273],\n",
              "       [0.3853552 ],\n",
              "       [0.9249128 ],\n",
              "       [0.11510235],\n",
              "       [0.13218677],\n",
              "       [0.11895874],\n",
              "       [0.08892938],\n",
              "       [0.35059714],\n",
              "       [0.10176474],\n",
              "       [0.08198527],\n",
              "       [0.9792166 ],\n",
              "       [0.89371026],\n",
              "       [0.9071762 ],\n",
              "       [0.9770993 ],\n",
              "       [0.09857908],\n",
              "       [0.94370866],\n",
              "       [0.06752005],\n",
              "       [0.12697336],\n",
              "       [0.33963293],\n",
              "       [0.07588482],\n",
              "       [0.07084414],\n",
              "       [0.28797656],\n",
              "       [0.2506078 ],\n",
              "       [0.46380877],\n",
              "       [0.98168135],\n",
              "       [0.05420515],\n",
              "       [0.7793229 ],\n",
              "       [0.09749219],\n",
              "       [0.2506078 ],\n",
              "       [0.08157986],\n",
              "       [0.25581124],\n",
              "       [0.22647756],\n",
              "       [0.32073897],\n",
              "       [0.9654406 ],\n",
              "       [0.13249612],\n",
              "       [0.24592966],\n",
              "       [0.862212  ],\n",
              "       [0.08594981],\n",
              "       [0.9804908 ],\n",
              "       [0.20669365],\n",
              "       [0.9576488 ],\n",
              "       [0.41033238],\n",
              "       [0.3472258 ],\n",
              "       [0.10178021],\n",
              "       [0.16725656],\n",
              "       [0.83786154],\n",
              "       [0.98093134],\n",
              "       [0.48890463],\n",
              "       [0.25049454],\n",
              "       [0.25043857],\n",
              "       [0.9007859 ],\n",
              "       [0.11212552],\n",
              "       [0.8867918 ],\n",
              "       [0.07771772],\n",
              "       [0.78617156],\n",
              "       [0.558341  ],\n",
              "       [0.11885601],\n",
              "       [0.96575713],\n",
              "       [0.22739142],\n",
              "       [0.22205907],\n",
              "       [0.33135843],\n",
              "       [0.07754323],\n",
              "       [0.30071652],\n",
              "       [0.95980227],\n",
              "       [0.90196717],\n",
              "       [0.11883894],\n",
              "       [0.98757577],\n",
              "       [0.1382466 ],\n",
              "       [0.06767368],\n",
              "       [0.9131254 ],\n",
              "       [0.9706812 ],\n",
              "       [0.3944768 ],\n",
              "       [0.1411767 ],\n",
              "       [0.11362383],\n",
              "       [0.11977017],\n",
              "       [0.12965283],\n",
              "       [0.94462365],\n",
              "       [0.6666248 ],\n",
              "       [0.44922736],\n",
              "       [0.8965598 ],\n",
              "       [0.95513046],\n",
              "       [0.1550157 ],\n",
              "       [0.7215418 ],\n",
              "       [0.97092754],\n",
              "       [0.4304679 ],\n",
              "       [0.08693174],\n",
              "       [0.08905616],\n",
              "       [0.06971326],\n",
              "       [0.07780421],\n",
              "       [0.36329156],\n",
              "       [0.1440793 ],\n",
              "       [0.08902213],\n",
              "       [0.13246569],\n",
              "       [0.20324889],\n",
              "       [0.22798544],\n",
              "       [0.33923483],\n",
              "       [0.40511665],\n",
              "       [0.12957516],\n",
              "       [0.24216145],\n",
              "       [0.25438368],\n",
              "       [0.9291841 ],\n",
              "       [0.11885601],\n",
              "       [0.90962625],\n",
              "       [0.4796159 ],\n",
              "       [0.9219849 ],\n",
              "       [0.12688011],\n",
              "       [0.23052058],\n",
              "       [0.39626843],\n",
              "       [0.07510415],\n",
              "       [0.9116737 ],\n",
              "       [0.34963226],\n",
              "       [0.0777953 ],\n",
              "       [0.11883894],\n",
              "       [0.0993382 ],\n",
              "       [0.2657884 ],\n",
              "       [0.11103123],\n",
              "       [0.9675033 ],\n",
              "       [0.1583013 ],\n",
              "       [0.08498099],\n",
              "       [0.26001376],\n",
              "       [0.28069323],\n",
              "       [0.7796445 ],\n",
              "       [0.18639964],\n",
              "       [0.9833526 ],\n",
              "       [0.2685032 ],\n",
              "       [0.09903845],\n",
              "       [0.11125895],\n",
              "       [0.2799729 ],\n",
              "       [0.07568049],\n",
              "       [0.9722438 ],\n",
              "       [0.22739142],\n",
              "       [0.7797444 ],\n",
              "       [0.09619108],\n",
              "       [0.29699734],\n",
              "       [0.77961135],\n",
              "       [0.08932418],\n",
              "       [0.7839267 ],\n",
              "       [0.7146523 ],\n",
              "       [0.12914515],\n",
              "       [0.10882625],\n",
              "       [0.11945409],\n",
              "       [0.12159011],\n",
              "       [0.4302922 ],\n",
              "       [0.82427436],\n",
              "       [0.12123659],\n",
              "       [0.08515617],\n",
              "       [0.16118547],\n",
              "       [0.75257254],\n",
              "       [0.04153454],\n",
              "       [0.07578641],\n",
              "       [0.41381592],\n",
              "       [0.3213886 ],\n",
              "       [0.21788445],\n",
              "       [0.9734713 ],\n",
              "       [0.07772014],\n",
              "       [0.9679748 ],\n",
              "       [0.1188879 ],\n",
              "       [0.07088017],\n",
              "       [0.12965283],\n",
              "       [0.07934096],\n",
              "       [0.13537434],\n",
              "       [0.19769919],\n",
              "       [0.2506078 ],\n",
              "       [0.40357628],\n",
              "       [0.32058376],\n",
              "       [0.23083416],\n",
              "       [0.9236204 ],\n",
              "       [0.76225173],\n",
              "       [0.07771003],\n",
              "       [0.5341187 ],\n",
              "       [0.12892917],\n",
              "       [0.62659574],\n",
              "       [0.10881311],\n",
              "       [0.31114978]], dtype=float32)"
            ]
          },
          "metadata": {
            "tags": []
          },
          "execution_count": 135
        }
      ]
    },
    {
      "cell_type": "markdown",
      "metadata": {
        "id": "NujAClf3o0Vu"
      },
      "source": [
        "The output is a continuos variable and needs to be converted into binary with cutoff of >0.5 for 1"
      ]
    },
    {
      "cell_type": "code",
      "metadata": {
        "id": "vtTvMxed-RZu"
      },
      "source": [
        "binarypredictions=[]\r\n",
        "value=0\r\n",
        "for entry in predictionsTF:\r\n",
        "  if entry >0.5:\r\n",
        "    value=1\r\n",
        "  else:\r\n",
        "    value=0\r\n",
        "  binarypredictions.append(value)"
      ],
      "execution_count": 136,
      "outputs": []
    },
    {
      "cell_type": "code",
      "metadata": {
        "colab": {
          "base_uri": "https://localhost:8080/"
        },
        "id": "FBt58YfHo-sl",
        "outputId": "0d19d22f-da20-4fc8-898b-721ff698b546"
      },
      "source": [
        "binarypredictions"
      ],
      "execution_count": 137,
      "outputs": [
        {
          "output_type": "execute_result",
          "data": {
            "text/plain": [
              "[0,\n",
              " 0,\n",
              " 1,\n",
              " 1,\n",
              " 0,\n",
              " 0,\n",
              " 0,\n",
              " 0,\n",
              " 0,\n",
              " 1,\n",
              " 1,\n",
              " 1,\n",
              " 0,\n",
              " 1,\n",
              " 0,\n",
              " 0,\n",
              " 1,\n",
              " 1,\n",
              " 0,\n",
              " 0,\n",
              " 0,\n",
              " 0,\n",
              " 0,\n",
              " 0,\n",
              " 0,\n",
              " 0,\n",
              " 0,\n",
              " 1,\n",
              " 0,\n",
              " 0,\n",
              " 0,\n",
              " 0,\n",
              " 0,\n",
              " 0,\n",
              " 0,\n",
              " 0,\n",
              " 1,\n",
              " 0,\n",
              " 0,\n",
              " 0,\n",
              " 0,\n",
              " 0,\n",
              " 0,\n",
              " 1,\n",
              " 0,\n",
              " 0,\n",
              " 1,\n",
              " 1,\n",
              " 0,\n",
              " 0,\n",
              " 0,\n",
              " 1,\n",
              " 0,\n",
              " 0,\n",
              " 0,\n",
              " 0,\n",
              " 0,\n",
              " 0,\n",
              " 0,\n",
              " 1,\n",
              " 1,\n",
              " 1,\n",
              " 1,\n",
              " 0,\n",
              " 1,\n",
              " 0,\n",
              " 0,\n",
              " 0,\n",
              " 0,\n",
              " 0,\n",
              " 0,\n",
              " 0,\n",
              " 0,\n",
              " 1,\n",
              " 0,\n",
              " 1,\n",
              " 0,\n",
              " 0,\n",
              " 0,\n",
              " 0,\n",
              " 0,\n",
              " 0,\n",
              " 1,\n",
              " 0,\n",
              " 0,\n",
              " 1,\n",
              " 0,\n",
              " 1,\n",
              " 0,\n",
              " 1,\n",
              " 0,\n",
              " 0,\n",
              " 0,\n",
              " 0,\n",
              " 1,\n",
              " 1,\n",
              " 0,\n",
              " 0,\n",
              " 0,\n",
              " 1,\n",
              " 0,\n",
              " 1,\n",
              " 0,\n",
              " 1,\n",
              " 1,\n",
              " 0,\n",
              " 1,\n",
              " 0,\n",
              " 0,\n",
              " 0,\n",
              " 0,\n",
              " 0,\n",
              " 1,\n",
              " 1,\n",
              " 0,\n",
              " 1,\n",
              " 0,\n",
              " 0,\n",
              " 1,\n",
              " 1,\n",
              " 0,\n",
              " 0,\n",
              " 0,\n",
              " 0,\n",
              " 0,\n",
              " 1,\n",
              " 1,\n",
              " 0,\n",
              " 1,\n",
              " 1,\n",
              " 0,\n",
              " 1,\n",
              " 1,\n",
              " 0,\n",
              " 0,\n",
              " 0,\n",
              " 0,\n",
              " 0,\n",
              " 0,\n",
              " 0,\n",
              " 0,\n",
              " 0,\n",
              " 0,\n",
              " 0,\n",
              " 0,\n",
              " 0,\n",
              " 0,\n",
              " 0,\n",
              " 0,\n",
              " 1,\n",
              " 0,\n",
              " 1,\n",
              " 0,\n",
              " 1,\n",
              " 0,\n",
              " 0,\n",
              " 0,\n",
              " 0,\n",
              " 1,\n",
              " 0,\n",
              " 0,\n",
              " 0,\n",
              " 0,\n",
              " 0,\n",
              " 0,\n",
              " 1,\n",
              " 0,\n",
              " 0,\n",
              " 0,\n",
              " 0,\n",
              " 1,\n",
              " 0,\n",
              " 1,\n",
              " 0,\n",
              " 0,\n",
              " 0,\n",
              " 0,\n",
              " 0,\n",
              " 1,\n",
              " 0,\n",
              " 1,\n",
              " 0,\n",
              " 0,\n",
              " 1,\n",
              " 0,\n",
              " 1,\n",
              " 1,\n",
              " 0,\n",
              " 0,\n",
              " 0,\n",
              " 0,\n",
              " 0,\n",
              " 1,\n",
              " 0,\n",
              " 0,\n",
              " 0,\n",
              " 1,\n",
              " 0,\n",
              " 0,\n",
              " 0,\n",
              " 0,\n",
              " 0,\n",
              " 1,\n",
              " 0,\n",
              " 1,\n",
              " 0,\n",
              " 0,\n",
              " 0,\n",
              " 0,\n",
              " 0,\n",
              " 0,\n",
              " 0,\n",
              " 0,\n",
              " 0,\n",
              " 0,\n",
              " 1,\n",
              " 1,\n",
              " 0,\n",
              " 1,\n",
              " 0,\n",
              " 1,\n",
              " 0,\n",
              " 0]"
            ]
          },
          "metadata": {
            "tags": []
          },
          "execution_count": 137
        }
      ]
    },
    {
      "cell_type": "code",
      "metadata": {
        "colab": {
          "base_uri": "https://localhost:8080/"
        },
        "id": "1VlZI92m9vMk",
        "outputId": "a85375b0-cf06-4871-904d-277061f3fb64"
      },
      "source": [
        "print (classification_report(y_test,binarypredictions))"
      ],
      "execution_count": 138,
      "outputs": [
        {
          "output_type": "stream",
          "text": [
            "              precision    recall  f1-score   support\n",
            "\n",
            "           0       0.82      0.96      0.89       136\n",
            "           1       0.92      0.67      0.77        87\n",
            "\n",
            "    accuracy                           0.85       223\n",
            "   macro avg       0.87      0.81      0.83       223\n",
            "weighted avg       0.86      0.85      0.84       223\n",
            "\n"
          ],
          "name": "stdout"
        }
      ]
    },
    {
      "cell_type": "markdown",
      "metadata": {
        "id": "cnK2QoZbpxyN"
      },
      "source": [
        "We can get to 84% accuracy with the DNN\r\n",
        "\r\n",
        "\r\n",
        "\r\n"
      ]
    },
    {
      "cell_type": "code",
      "metadata": {
        "colab": {
          "base_uri": "https://localhost:8080/"
        },
        "id": "5voJdSZ990my",
        "outputId": "ffa6e0dc-58fc-43d0-b7d1-c8e5f975d68e"
      },
      "source": [
        "print (confusion_matrix(y_test,binarypredictions))"
      ],
      "execution_count": 139,
      "outputs": [
        {
          "output_type": "stream",
          "text": [
            "[[131   5]\n",
            " [ 29  58]]\n"
          ],
          "name": "stdout"
        }
      ]
    },
    {
      "cell_type": "code",
      "metadata": {
        "id": "oYlfCMZE_iQs"
      },
      "source": [
        ""
      ],
      "execution_count": null,
      "outputs": []
    },
    {
      "cell_type": "code",
      "metadata": {
        "id": "aRk4iZfEWiKd"
      },
      "source": [
        ""
      ],
      "execution_count": null,
      "outputs": []
    },
    {
      "cell_type": "code",
      "metadata": {
        "id": "cSHid1KYWqfg"
      },
      "source": [
        ""
      ],
      "execution_count": null,
      "outputs": []
    }
  ]
}